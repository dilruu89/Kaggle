{
 "cells": [
  {
   "cell_type": "markdown",
   "id": "447a1a4c",
   "metadata": {
    "_cell_guid": "b1076dfc-b9ad-4769-8c92-a6c4dae69d19",
    "_uuid": "8f2839f25d086af736a60e9eeb907d3b93b6e0e5",
    "papermill": {
     "duration": 0.023179,
     "end_time": "2023-09-05T12:18:16.946311",
     "exception": false,
     "start_time": "2023-09-05T12:18:16.923132",
     "status": "completed"
    },
    "tags": []
   },
   "source": [
    "# Customer Churn Prediction\n",
    "\n",
    "\n",
    "The data set includes information about:\n",
    "\n",
    "* Customers who left within the last month – the column is called Churn\n",
    "* Services that each customer has signed up for – phone, multiple lines, internet, online security, online backup, device protection, tech support, and streaming TV and movies\n",
    "* Customer account information – how long they’ve been a customer, contract, payment method, paperless billing, monthly charges, and total charges\n",
    "* Demographic info about customers – gender, age range, and if they have partners and dependents"
   ]
  },
  {
   "cell_type": "code",
   "execution_count": 1,
   "id": "04df05a6",
   "metadata": {
    "execution": {
     "iopub.execute_input": "2023-09-05T12:18:16.991298Z",
     "iopub.status.busy": "2023-09-05T12:18:16.990642Z",
     "iopub.status.idle": "2023-09-05T12:18:19.711873Z",
     "shell.execute_reply": "2023-09-05T12:18:19.710738Z"
    },
    "papermill": {
     "duration": 2.746745,
     "end_time": "2023-09-05T12:18:19.714604",
     "exception": false,
     "start_time": "2023-09-05T12:18:16.967859",
     "status": "completed"
    },
    "tags": []
   },
   "outputs": [
    {
     "name": "stdout",
     "output_type": "stream",
     "text": [
      "/kaggle/input/telco-customer-churn/WA_Fn-UseC_-Telco-Customer-Churn.csv\n"
     ]
    }
   ],
   "source": [
    "# Common libraries for data analysis\n",
    "import numpy as np\n",
    "import pandas as pd\n",
    "\n",
    "# Libraries for graphs\n",
    "import matplotlib.pyplot as plt\n",
    "import seaborn as sns\n",
    "\n",
    "from sklearn.metrics import classification_report\n",
    "from sklearn.linear_model import LogisticRegression\n",
    "from sklearn.model_selection import train_test_split, cross_validate\n",
    "from sklearn.metrics import confusion_matrix\n",
    "from sklearn.metrics import roc_auc_score\n",
    "from sklearn.metrics import roc_curve\n",
    "from sklearn.metrics import confusion_matrix, mutual_info_score, recall_score, accuracy_score, precision_score, f1_score\n",
    "\n",
    "from sklearn.preprocessing import StandardScaler\n",
    "from sklearn.ensemble import RandomForestClassifier\n",
    "from sklearn.model_selection import GridSearchCV\n",
    "\n",
    "\n",
    "import os\n",
    "for dirname, _, filenames in os.walk('/kaggle/input'):\n",
    "    for filename in filenames:\n",
    "        print(os.path.join(dirname, filename))"
   ]
  },
  {
   "cell_type": "code",
   "execution_count": 2,
   "id": "ddecb6d1",
   "metadata": {
    "execution": {
     "iopub.execute_input": "2023-09-05T12:18:19.760298Z",
     "iopub.status.busy": "2023-09-05T12:18:19.759764Z",
     "iopub.status.idle": "2023-09-05T12:18:19.871269Z",
     "shell.execute_reply": "2023-09-05T12:18:19.869612Z"
    },
    "papermill": {
     "duration": 0.137943,
     "end_time": "2023-09-05T12:18:19.874165",
     "exception": false,
     "start_time": "2023-09-05T12:18:19.736222",
     "status": "completed"
    },
    "tags": []
   },
   "outputs": [
    {
     "data": {
      "text/html": [
       "<div>\n",
       "<style scoped>\n",
       "    .dataframe tbody tr th:only-of-type {\n",
       "        vertical-align: middle;\n",
       "    }\n",
       "\n",
       "    .dataframe tbody tr th {\n",
       "        vertical-align: top;\n",
       "    }\n",
       "\n",
       "    .dataframe thead th {\n",
       "        text-align: right;\n",
       "    }\n",
       "</style>\n",
       "<table border=\"1\" class=\"dataframe\">\n",
       "  <thead>\n",
       "    <tr style=\"text-align: right;\">\n",
       "      <th></th>\n",
       "      <th>customerID</th>\n",
       "      <th>gender</th>\n",
       "      <th>SeniorCitizen</th>\n",
       "      <th>Partner</th>\n",
       "      <th>Dependents</th>\n",
       "      <th>tenure</th>\n",
       "      <th>PhoneService</th>\n",
       "      <th>MultipleLines</th>\n",
       "      <th>InternetService</th>\n",
       "      <th>OnlineSecurity</th>\n",
       "      <th>...</th>\n",
       "      <th>DeviceProtection</th>\n",
       "      <th>TechSupport</th>\n",
       "      <th>StreamingTV</th>\n",
       "      <th>StreamingMovies</th>\n",
       "      <th>Contract</th>\n",
       "      <th>PaperlessBilling</th>\n",
       "      <th>PaymentMethod</th>\n",
       "      <th>MonthlyCharges</th>\n",
       "      <th>TotalCharges</th>\n",
       "      <th>Churn</th>\n",
       "    </tr>\n",
       "  </thead>\n",
       "  <tbody>\n",
       "    <tr>\n",
       "      <th>0</th>\n",
       "      <td>7590-VHVEG</td>\n",
       "      <td>Female</td>\n",
       "      <td>0</td>\n",
       "      <td>Yes</td>\n",
       "      <td>No</td>\n",
       "      <td>1</td>\n",
       "      <td>No</td>\n",
       "      <td>No phone service</td>\n",
       "      <td>DSL</td>\n",
       "      <td>No</td>\n",
       "      <td>...</td>\n",
       "      <td>No</td>\n",
       "      <td>No</td>\n",
       "      <td>No</td>\n",
       "      <td>No</td>\n",
       "      <td>Month-to-month</td>\n",
       "      <td>Yes</td>\n",
       "      <td>Electronic check</td>\n",
       "      <td>29.85</td>\n",
       "      <td>29.85</td>\n",
       "      <td>No</td>\n",
       "    </tr>\n",
       "    <tr>\n",
       "      <th>1</th>\n",
       "      <td>5575-GNVDE</td>\n",
       "      <td>Male</td>\n",
       "      <td>0</td>\n",
       "      <td>No</td>\n",
       "      <td>No</td>\n",
       "      <td>34</td>\n",
       "      <td>Yes</td>\n",
       "      <td>No</td>\n",
       "      <td>DSL</td>\n",
       "      <td>Yes</td>\n",
       "      <td>...</td>\n",
       "      <td>Yes</td>\n",
       "      <td>No</td>\n",
       "      <td>No</td>\n",
       "      <td>No</td>\n",
       "      <td>One year</td>\n",
       "      <td>No</td>\n",
       "      <td>Mailed check</td>\n",
       "      <td>56.95</td>\n",
       "      <td>1889.5</td>\n",
       "      <td>No</td>\n",
       "    </tr>\n",
       "    <tr>\n",
       "      <th>2</th>\n",
       "      <td>3668-QPYBK</td>\n",
       "      <td>Male</td>\n",
       "      <td>0</td>\n",
       "      <td>No</td>\n",
       "      <td>No</td>\n",
       "      <td>2</td>\n",
       "      <td>Yes</td>\n",
       "      <td>No</td>\n",
       "      <td>DSL</td>\n",
       "      <td>Yes</td>\n",
       "      <td>...</td>\n",
       "      <td>No</td>\n",
       "      <td>No</td>\n",
       "      <td>No</td>\n",
       "      <td>No</td>\n",
       "      <td>Month-to-month</td>\n",
       "      <td>Yes</td>\n",
       "      <td>Mailed check</td>\n",
       "      <td>53.85</td>\n",
       "      <td>108.15</td>\n",
       "      <td>Yes</td>\n",
       "    </tr>\n",
       "  </tbody>\n",
       "</table>\n",
       "<p>3 rows × 21 columns</p>\n",
       "</div>"
      ],
      "text/plain": [
       "   customerID  gender  SeniorCitizen Partner Dependents  tenure PhoneService  \\\n",
       "0  7590-VHVEG  Female              0     Yes         No       1           No   \n",
       "1  5575-GNVDE    Male              0      No         No      34          Yes   \n",
       "2  3668-QPYBK    Male              0      No         No       2          Yes   \n",
       "\n",
       "      MultipleLines InternetService OnlineSecurity  ... DeviceProtection  \\\n",
       "0  No phone service             DSL             No  ...               No   \n",
       "1                No             DSL            Yes  ...              Yes   \n",
       "2                No             DSL            Yes  ...               No   \n",
       "\n",
       "  TechSupport StreamingTV StreamingMovies        Contract PaperlessBilling  \\\n",
       "0          No          No              No  Month-to-month              Yes   \n",
       "1          No          No              No        One year               No   \n",
       "2          No          No              No  Month-to-month              Yes   \n",
       "\n",
       "      PaymentMethod MonthlyCharges  TotalCharges Churn  \n",
       "0  Electronic check          29.85         29.85    No  \n",
       "1      Mailed check          56.95        1889.5    No  \n",
       "2      Mailed check          53.85        108.15   Yes  \n",
       "\n",
       "[3 rows x 21 columns]"
      ]
     },
     "execution_count": 2,
     "metadata": {},
     "output_type": "execute_result"
    }
   ],
   "source": [
    "data=pd.read_csv(\"/kaggle/input/telco-customer-churn/WA_Fn-UseC_-Telco-Customer-Churn.csv\")\n",
    "data.head(3)"
   ]
  },
  {
   "cell_type": "code",
   "execution_count": 3,
   "id": "97012210",
   "metadata": {
    "execution": {
     "iopub.execute_input": "2023-09-05T12:18:19.921991Z",
     "iopub.status.busy": "2023-09-05T12:18:19.921575Z",
     "iopub.status.idle": "2023-09-05T12:18:19.928216Z",
     "shell.execute_reply": "2023-09-05T12:18:19.927226Z"
    },
    "papermill": {
     "duration": 0.03326,
     "end_time": "2023-09-05T12:18:19.930386",
     "exception": false,
     "start_time": "2023-09-05T12:18:19.897126",
     "status": "completed"
    },
    "tags": []
   },
   "outputs": [
    {
     "data": {
      "text/plain": [
       "(7043, 21)"
      ]
     },
     "execution_count": 3,
     "metadata": {},
     "output_type": "execute_result"
    }
   ],
   "source": [
    "data.shape"
   ]
  },
  {
   "cell_type": "code",
   "execution_count": 4,
   "id": "4256bc82",
   "metadata": {
    "execution": {
     "iopub.execute_input": "2023-09-05T12:18:19.976969Z",
     "iopub.status.busy": "2023-09-05T12:18:19.976296Z",
     "iopub.status.idle": "2023-09-05T12:18:19.984878Z",
     "shell.execute_reply": "2023-09-05T12:18:19.983721Z"
    },
    "papermill": {
     "duration": 0.034794,
     "end_time": "2023-09-05T12:18:19.987077",
     "exception": false,
     "start_time": "2023-09-05T12:18:19.952283",
     "status": "completed"
    },
    "tags": []
   },
   "outputs": [
    {
     "data": {
      "text/plain": [
       "customerID           object\n",
       "gender               object\n",
       "SeniorCitizen         int64\n",
       "Partner              object\n",
       "Dependents           object\n",
       "tenure                int64\n",
       "PhoneService         object\n",
       "MultipleLines        object\n",
       "InternetService      object\n",
       "OnlineSecurity       object\n",
       "OnlineBackup         object\n",
       "DeviceProtection     object\n",
       "TechSupport          object\n",
       "StreamingTV          object\n",
       "StreamingMovies      object\n",
       "Contract             object\n",
       "PaperlessBilling     object\n",
       "PaymentMethod        object\n",
       "MonthlyCharges      float64\n",
       "TotalCharges         object\n",
       "Churn                object\n",
       "dtype: object"
      ]
     },
     "execution_count": 4,
     "metadata": {},
     "output_type": "execute_result"
    }
   ],
   "source": [
    "data.dtypes"
   ]
  },
  {
   "cell_type": "code",
   "execution_count": 5,
   "id": "5bc24f1b",
   "metadata": {
    "execution": {
     "iopub.execute_input": "2023-09-05T12:18:20.037371Z",
     "iopub.status.busy": "2023-09-05T12:18:20.036678Z",
     "iopub.status.idle": "2023-09-05T12:18:20.068322Z",
     "shell.execute_reply": "2023-09-05T12:18:20.066799Z"
    },
    "papermill": {
     "duration": 0.059935,
     "end_time": "2023-09-05T12:18:20.070626",
     "exception": false,
     "start_time": "2023-09-05T12:18:20.010691",
     "status": "completed"
    },
    "tags": []
   },
   "outputs": [
    {
     "name": "stdout",
     "output_type": "stream",
     "text": [
      "customerID : ['7590-VHVEG' '5575-GNVDE' '3668-QPYBK' ... '4801-JZAZL' '8361-LTMKD'\n",
      " '3186-AJIEK']\n",
      "gender : ['Female' 'Male']\n",
      "SeniorCitizen : [0 1]\n",
      "Partner : ['Yes' 'No']\n",
      "Dependents : ['No' 'Yes']\n",
      "tenure : [ 1 34  2 45  8 22 10 28 62 13 16 58 49 25 69 52 71 21 12 30 47 72 17 27\n",
      "  5 46 11 70 63 43 15 60 18 66  9  3 31 50 64 56  7 42 35 48 29 65 38 68\n",
      " 32 55 37 36 41  6  4 33 67 23 57 61 14 20 53 40 59 24 44 19 54 51 26  0\n",
      " 39]\n",
      "PhoneService : ['No' 'Yes']\n",
      "MultipleLines : ['No phone service' 'No' 'Yes']\n",
      "InternetService : ['DSL' 'Fiber optic' 'No']\n",
      "OnlineSecurity : ['No' 'Yes' 'No internet service']\n",
      "OnlineBackup : ['Yes' 'No' 'No internet service']\n",
      "DeviceProtection : ['No' 'Yes' 'No internet service']\n",
      "TechSupport : ['No' 'Yes' 'No internet service']\n",
      "StreamingTV : ['No' 'Yes' 'No internet service']\n",
      "StreamingMovies : ['No' 'Yes' 'No internet service']\n",
      "Contract : ['Month-to-month' 'One year' 'Two year']\n",
      "PaperlessBilling : ['Yes' 'No']\n",
      "PaymentMethod : ['Electronic check' 'Mailed check' 'Bank transfer (automatic)'\n",
      " 'Credit card (automatic)']\n",
      "MonthlyCharges : [29.85 56.95 53.85 ... 63.1  44.2  78.7 ]\n",
      "TotalCharges : ['29.85' '1889.5' '108.15' ... '346.45' '306.6' '6844.5']\n",
      "Churn : ['No' 'Yes']\n"
     ]
    }
   ],
   "source": [
    "for col in data:\n",
    "    print(col, \":\" ,data[col].unique())"
   ]
  },
  {
   "cell_type": "code",
   "execution_count": 6,
   "id": "8cbc77a5",
   "metadata": {
    "execution": {
     "iopub.execute_input": "2023-09-05T12:18:20.117991Z",
     "iopub.status.busy": "2023-09-05T12:18:20.117574Z",
     "iopub.status.idle": "2023-09-05T12:18:20.127058Z",
     "shell.execute_reply": "2023-09-05T12:18:20.125950Z"
    },
    "papermill": {
     "duration": 0.035635,
     "end_time": "2023-09-05T12:18:20.129330",
     "exception": false,
     "start_time": "2023-09-05T12:18:20.093695",
     "status": "completed"
    },
    "tags": []
   },
   "outputs": [
    {
     "data": {
      "text/plain": [
       "7043"
      ]
     },
     "execution_count": 6,
     "metadata": {},
     "output_type": "execute_result"
    }
   ],
   "source": [
    "data['customerID'].nunique()"
   ]
  },
  {
   "cell_type": "code",
   "execution_count": 7,
   "id": "2b2cd307",
   "metadata": {
    "execution": {
     "iopub.execute_input": "2023-09-05T12:18:20.177819Z",
     "iopub.status.busy": "2023-09-05T12:18:20.176618Z",
     "iopub.status.idle": "2023-09-05T12:18:20.186399Z",
     "shell.execute_reply": "2023-09-05T12:18:20.185493Z"
    },
    "papermill": {
     "duration": 0.036445,
     "end_time": "2023-09-05T12:18:20.189020",
     "exception": false,
     "start_time": "2023-09-05T12:18:20.152575",
     "status": "completed"
    },
    "tags": []
   },
   "outputs": [],
   "source": [
    "data_df = data.loc[data['TotalCharges']!=' ']"
   ]
  },
  {
   "cell_type": "code",
   "execution_count": 8,
   "id": "6c060d55",
   "metadata": {
    "execution": {
     "iopub.execute_input": "2023-09-05T12:18:20.235977Z",
     "iopub.status.busy": "2023-09-05T12:18:20.235071Z",
     "iopub.status.idle": "2023-09-05T12:18:20.252275Z",
     "shell.execute_reply": "2023-09-05T12:18:20.251291Z"
    },
    "papermill": {
     "duration": 0.043468,
     "end_time": "2023-09-05T12:18:20.254783",
     "exception": false,
     "start_time": "2023-09-05T12:18:20.211315",
     "status": "completed"
    },
    "tags": []
   },
   "outputs": [],
   "source": [
    "# remove the customer ID\n",
    "data_df=data_df.drop(['customerID'],axis=1)\n",
    "\n",
    "# convert TotalCharges to float\n",
    "data_df = data_df.astype({\"TotalCharges\": float})"
   ]
  },
  {
   "cell_type": "code",
   "execution_count": 9,
   "id": "9c73399c",
   "metadata": {
    "execution": {
     "iopub.execute_input": "2023-09-05T12:18:20.301709Z",
     "iopub.status.busy": "2023-09-05T12:18:20.300601Z",
     "iopub.status.idle": "2023-09-05T12:18:20.325754Z",
     "shell.execute_reply": "2023-09-05T12:18:20.324551Z"
    },
    "papermill": {
     "duration": 0.050971,
     "end_time": "2023-09-05T12:18:20.328161",
     "exception": false,
     "start_time": "2023-09-05T12:18:20.277190",
     "status": "completed"
    },
    "tags": []
   },
   "outputs": [
    {
     "data": {
      "text/plain": [
       "gender              0.0\n",
       "SeniorCitizen       0.0\n",
       "TotalCharges        0.0\n",
       "MonthlyCharges      0.0\n",
       "PaymentMethod       0.0\n",
       "PaperlessBilling    0.0\n",
       "Contract            0.0\n",
       "StreamingMovies     0.0\n",
       "StreamingTV         0.0\n",
       "TechSupport         0.0\n",
       "DeviceProtection    0.0\n",
       "OnlineBackup        0.0\n",
       "OnlineSecurity      0.0\n",
       "InternetService     0.0\n",
       "MultipleLines       0.0\n",
       "PhoneService        0.0\n",
       "tenure              0.0\n",
       "Dependents          0.0\n",
       "Partner             0.0\n",
       "Churn               0.0\n",
       "dtype: float64"
      ]
     },
     "execution_count": 9,
     "metadata": {},
     "output_type": "execute_result"
    }
   ],
   "source": [
    "# check for other missing value percentage\n",
    "(data_df.isnull().sum() / len(data_df)).sort_values(ascending=False) * 100"
   ]
  },
  {
   "cell_type": "markdown",
   "id": "e559d8a8",
   "metadata": {
    "papermill": {
     "duration": 0.022015,
     "end_time": "2023-09-05T12:18:20.372603",
     "exception": false,
     "start_time": "2023-09-05T12:18:20.350588",
     "status": "completed"
    },
    "tags": []
   },
   "source": [
    "## Exploratory Data Analysis"
   ]
  },
  {
   "cell_type": "code",
   "execution_count": 10,
   "id": "d6138fae",
   "metadata": {
    "execution": {
     "iopub.execute_input": "2023-09-05T12:18:20.482181Z",
     "iopub.status.busy": "2023-09-05T12:18:20.481495Z",
     "iopub.status.idle": "2023-09-05T12:18:20.904721Z",
     "shell.execute_reply": "2023-09-05T12:18:20.903466Z"
    },
    "papermill": {
     "duration": 0.450159,
     "end_time": "2023-09-05T12:18:20.907446",
     "exception": false,
     "start_time": "2023-09-05T12:18:20.457287",
     "status": "completed"
    },
    "tags": []
   },
   "outputs": [
    {
     "name": "stdout",
     "output_type": "stream",
     "text": [
      "Value counts of Churn Churn\n",
      "No     5174\n",
      "Yes    1869\n",
      "Name: count, dtype: int64\n"
     ]
    },
    {
     "data": {
      "text/plain": [
       "Text(0.5, 1.0, 'Churn of Customers')"
      ]
     },
     "execution_count": 10,
     "metadata": {},
     "output_type": "execute_result"
    },
    {
     "data": {
      "image/png": "[encoded data removed]",
      "text/plain": [
       "<Figure size 640x480 with 1 Axes>"
      ]
     },
     "metadata": {},
     "output_type": "display_data"
    }
   ],
   "source": [
    "print(\"Value counts of Churn\", data['Churn'].value_counts())\n",
    "sns.histplot(data=data_df, x=\"Churn\", hue=\"Churn\", palette = \"Set1\")\n",
    "plt.title('Churn of Customers')"
   ]
  },
  {
   "cell_type": "code",
   "execution_count": 11,
   "id": "2fa084df",
   "metadata": {
    "execution": {
     "iopub.execute_input": "2023-09-05T12:18:20.958909Z",
     "iopub.status.busy": "2023-09-05T12:18:20.958499Z",
     "iopub.status.idle": "2023-09-05T12:18:21.256160Z",
     "shell.execute_reply": "2023-09-05T12:18:21.254652Z"
    },
    "papermill": {
     "duration": 0.326687,
     "end_time": "2023-09-05T12:18:21.259000",
     "exception": false,
     "start_time": "2023-09-05T12:18:20.932313",
     "status": "completed"
    },
    "tags": []
   },
   "outputs": [
    {
     "data": {
      "text/plain": [
       "<Axes: xlabel='gender', ylabel='Count'>"
      ]
     },
     "execution_count": 11,
     "metadata": {},
     "output_type": "execute_result"
    },
    {
     "data": {
      "image/png": "[encoded data removed]",
      "text/plain": [
       "<Figure size 640x480 with 1 Axes>"
      ]
     },
     "metadata": {},
     "output_type": "display_data"
    }
   ],
   "source": [
    "#sns.histplot(data=data, x=\"gender\", hue=\"Churn\")\n",
    "\n",
    "sns.histplot(binwidth=1,\n",
    "            x='gender',\n",
    "            hue='Churn',\n",
    "            data=data_df,\n",
    "            stat=\"count\",\n",
    "            multiple=\"dodge\", palette = \"Set1\")"
   ]
  },
  {
   "cell_type": "code",
   "execution_count": 12,
   "id": "375a895c",
   "metadata": {
    "execution": {
     "iopub.execute_input": "2023-09-05T12:18:21.309997Z",
     "iopub.status.busy": "2023-09-05T12:18:21.309511Z",
     "iopub.status.idle": "2023-09-05T12:18:21.319737Z",
     "shell.execute_reply": "2023-09-05T12:18:21.318547Z"
    },
    "papermill": {
     "duration": 0.038252,
     "end_time": "2023-09-05T12:18:21.322064",
     "exception": false,
     "start_time": "2023-09-05T12:18:21.283812",
     "status": "completed"
    },
    "tags": []
   },
   "outputs": [
    {
     "data": {
      "text/plain": [
       "gender\n",
       "Male      3549\n",
       "Female    3483\n",
       "Name: count, dtype: int64"
      ]
     },
     "execution_count": 12,
     "metadata": {},
     "output_type": "execute_result"
    }
   ],
   "source": [
    "data_df['gender'].value_counts()"
   ]
  },
  {
   "cell_type": "code",
   "execution_count": 13,
   "id": "ca95379f",
   "metadata": {
    "execution": {
     "iopub.execute_input": "2023-09-05T12:18:21.372715Z",
     "iopub.status.busy": "2023-09-05T12:18:21.372068Z",
     "iopub.status.idle": "2023-09-05T12:18:21.790160Z",
     "shell.execute_reply": "2023-09-05T12:18:21.788608Z"
    },
    "papermill": {
     "duration": 0.44735,
     "end_time": "2023-09-05T12:18:21.793738",
     "exception": false,
     "start_time": "2023-09-05T12:18:21.346388",
     "status": "completed"
    },
    "tags": []
   },
   "outputs": [
    {
     "data": {
      "text/plain": [
       "<Axes: xlabel='tenure', ylabel='TotalCharges'>"
      ]
     },
     "execution_count": 13,
     "metadata": {},
     "output_type": "execute_result"
    },
    {
     "data": {
      "image/png": "[encoded data removed]",
      "text/plain": [
       "<Figure size 640x480 with 1 Axes>"
      ]
     },
     "metadata": {},
     "output_type": "display_data"
    }
   ],
   "source": [
    "ave_tot_ch=data_df.groupby(['tenure', 'Churn'])['MonthlyCharges'].mean().reset_index(name='TotalCharges')\n",
    "sns.scatterplot(data=ave_tot_ch, x= 'tenure', y='TotalCharges', hue='Churn')"
   ]
  },
  {
   "cell_type": "code",
   "execution_count": 14,
   "id": "82420cb3",
   "metadata": {
    "execution": {
     "iopub.execute_input": "2023-09-05T12:18:21.853211Z",
     "iopub.status.busy": "2023-09-05T12:18:21.852821Z",
     "iopub.status.idle": "2023-09-05T12:18:22.321974Z",
     "shell.execute_reply": "2023-09-05T12:18:22.320959Z"
    },
    "papermill": {
     "duration": 0.498525,
     "end_time": "2023-09-05T12:18:22.324199",
     "exception": false,
     "start_time": "2023-09-05T12:18:21.825674",
     "status": "completed"
    },
    "tags": []
   },
   "outputs": [
    {
     "data": {
      "text/plain": [
       "<Axes: xlabel='tenure', ylabel='AverageMonthlyCharges'>"
      ]
     },
     "execution_count": 14,
     "metadata": {},
     "output_type": "execute_result"
    },
    {
     "data": {
      "image/png": "[encoded data removed]",
      "text/plain": [
       "<Figure size 640x480 with 1 Axes>"
      ]
     },
     "metadata": {},
     "output_type": "display_data"
    }
   ],
   "source": [
    "ave_monthly_ch=data_df.groupby(['tenure', 'Churn'])['MonthlyCharges'].mean().reset_index(name='AverageMonthlyCharges')\n",
    "sns.scatterplot(data=ave_monthly_ch, x= 'tenure', y='AverageMonthlyCharges', hue='Churn')"
   ]
  },
  {
   "cell_type": "code",
   "execution_count": 15,
   "id": "88af5425",
   "metadata": {
    "execution": {
     "iopub.execute_input": "2023-09-05T12:18:22.379594Z",
     "iopub.status.busy": "2023-09-05T12:18:22.378514Z",
     "iopub.status.idle": "2023-09-05T12:18:22.806210Z",
     "shell.execute_reply": "2023-09-05T12:18:22.805341Z"
    },
    "papermill": {
     "duration": 0.458169,
     "end_time": "2023-09-05T12:18:22.808840",
     "exception": false,
     "start_time": "2023-09-05T12:18:22.350671",
     "status": "completed"
    },
    "tags": []
   },
   "outputs": [
    {
     "data": {
      "text/plain": [
       "<Axes: xlabel='tenure', ylabel='AverageMonthlyCharges'>"
      ]
     },
     "execution_count": 15,
     "metadata": {},
     "output_type": "execute_result"
    },
    {
     "data": {
      "image/png": "[encoded data removed]",
      "text/plain": [
       "<Figure size 640x480 with 1 Axes>"
      ]
     },
     "metadata": {},
     "output_type": "display_data"
    }
   ],
   "source": [
    "ave_monthly_gen=data_df.groupby(['tenure', 'gender'])['MonthlyCharges'].mean().reset_index(name='AverageMonthlyCharges')\n",
    "sns.scatterplot(data=ave_monthly_gen, x= 'tenure', y='AverageMonthlyCharges', hue='gender', palette = \"Set1\")"
   ]
  },
  {
   "cell_type": "code",
   "execution_count": 16,
   "id": "ee234a0f",
   "metadata": {
    "execution": {
     "iopub.execute_input": "2023-09-05T12:18:22.869855Z",
     "iopub.status.busy": "2023-09-05T12:18:22.868873Z",
     "iopub.status.idle": "2023-09-05T12:18:22.886182Z",
     "shell.execute_reply": "2023-09-05T12:18:22.884931Z"
    },
    "papermill": {
     "duration": 0.049219,
     "end_time": "2023-09-05T12:18:22.888955",
     "exception": false,
     "start_time": "2023-09-05T12:18:22.839736",
     "status": "completed"
    },
    "tags": []
   },
   "outputs": [],
   "source": [
    "# Convert Yes and No values to 0 and 1\n",
    "data_df['Churn']=data_df.Churn.map(dict(Yes=1, No=0))\n",
    "#data_df['gender']=data_df.Partner.map(dict(Male=1, Female=0))\n",
    "data_df['Partner']=data_df.Partner.map(dict(Yes=1, No=0))\n",
    "data_df['Dependents']=data_df.Dependents.map(dict(Yes=1, No=0))\n",
    "data_df['PhoneService']=data_df.PhoneService.map(dict(Yes=1, No=0))\n",
    "data_df['PaperlessBilling']=data_df.PaperlessBilling.map(dict(Yes=1, No=0))"
   ]
  },
  {
   "cell_type": "code",
   "execution_count": 17,
   "id": "2339dda7",
   "metadata": {
    "execution": {
     "iopub.execute_input": "2023-09-05T12:18:22.947560Z",
     "iopub.status.busy": "2023-09-05T12:18:22.946581Z",
     "iopub.status.idle": "2023-09-05T12:18:22.970227Z",
     "shell.execute_reply": "2023-09-05T12:18:22.969062Z"
    },
    "papermill": {
     "duration": 0.054758,
     "end_time": "2023-09-05T12:18:22.972580",
     "exception": false,
     "start_time": "2023-09-05T12:18:22.917822",
     "status": "completed"
    },
    "tags": []
   },
   "outputs": [
    {
     "data": {
      "text/html": [
       "<div>\n",
       "<style scoped>\n",
       "    .dataframe tbody tr th:only-of-type {\n",
       "        vertical-align: middle;\n",
       "    }\n",
       "\n",
       "    .dataframe tbody tr th {\n",
       "        vertical-align: top;\n",
       "    }\n",
       "\n",
       "    .dataframe thead th {\n",
       "        text-align: right;\n",
       "    }\n",
       "</style>\n",
       "<table border=\"1\" class=\"dataframe\">\n",
       "  <thead>\n",
       "    <tr style=\"text-align: right;\">\n",
       "      <th></th>\n",
       "      <th>gender</th>\n",
       "      <th>SeniorCitizen</th>\n",
       "      <th>Partner</th>\n",
       "      <th>Dependents</th>\n",
       "      <th>tenure</th>\n",
       "      <th>PhoneService</th>\n",
       "      <th>MultipleLines</th>\n",
       "      <th>InternetService</th>\n",
       "      <th>OnlineSecurity</th>\n",
       "      <th>OnlineBackup</th>\n",
       "      <th>DeviceProtection</th>\n",
       "      <th>TechSupport</th>\n",
       "      <th>StreamingTV</th>\n",
       "      <th>StreamingMovies</th>\n",
       "      <th>Contract</th>\n",
       "      <th>PaperlessBilling</th>\n",
       "      <th>PaymentMethod</th>\n",
       "      <th>MonthlyCharges</th>\n",
       "      <th>TotalCharges</th>\n",
       "      <th>Churn</th>\n",
       "    </tr>\n",
       "  </thead>\n",
       "  <tbody>\n",
       "    <tr>\n",
       "      <th>0</th>\n",
       "      <td>Female</td>\n",
       "      <td>0</td>\n",
       "      <td>1</td>\n",
       "      <td>0</td>\n",
       "      <td>1</td>\n",
       "      <td>0</td>\n",
       "      <td>No phone service</td>\n",
       "      <td>DSL</td>\n",
       "      <td>No</td>\n",
       "      <td>Yes</td>\n",
       "      <td>No</td>\n",
       "      <td>No</td>\n",
       "      <td>No</td>\n",
       "      <td>No</td>\n",
       "      <td>Month-to-month</td>\n",
       "      <td>1</td>\n",
       "      <td>Electronic check</td>\n",
       "      <td>29.85</td>\n",
       "      <td>29.85</td>\n",
       "      <td>0</td>\n",
       "    </tr>\n",
       "    <tr>\n",
       "      <th>1</th>\n",
       "      <td>Male</td>\n",
       "      <td>0</td>\n",
       "      <td>0</td>\n",
       "      <td>0</td>\n",
       "      <td>34</td>\n",
       "      <td>1</td>\n",
       "      <td>No</td>\n",
       "      <td>DSL</td>\n",
       "      <td>Yes</td>\n",
       "      <td>No</td>\n",
       "      <td>Yes</td>\n",
       "      <td>No</td>\n",
       "      <td>No</td>\n",
       "      <td>No</td>\n",
       "      <td>One year</td>\n",
       "      <td>0</td>\n",
       "      <td>Mailed check</td>\n",
       "      <td>56.95</td>\n",
       "      <td>1889.50</td>\n",
       "      <td>0</td>\n",
       "    </tr>\n",
       "    <tr>\n",
       "      <th>2</th>\n",
       "      <td>Male</td>\n",
       "      <td>0</td>\n",
       "      <td>0</td>\n",
       "      <td>0</td>\n",
       "      <td>2</td>\n",
       "      <td>1</td>\n",
       "      <td>No</td>\n",
       "      <td>DSL</td>\n",
       "      <td>Yes</td>\n",
       "      <td>Yes</td>\n",
       "      <td>No</td>\n",
       "      <td>No</td>\n",
       "      <td>No</td>\n",
       "      <td>No</td>\n",
       "      <td>Month-to-month</td>\n",
       "      <td>1</td>\n",
       "      <td>Mailed check</td>\n",
       "      <td>53.85</td>\n",
       "      <td>108.15</td>\n",
       "      <td>1</td>\n",
       "    </tr>\n",
       "    <tr>\n",
       "      <th>3</th>\n",
       "      <td>Male</td>\n",
       "      <td>0</td>\n",
       "      <td>0</td>\n",
       "      <td>0</td>\n",
       "      <td>45</td>\n",
       "      <td>0</td>\n",
       "      <td>No phone service</td>\n",
       "      <td>DSL</td>\n",
       "      <td>Yes</td>\n",
       "      <td>No</td>\n",
       "      <td>Yes</td>\n",
       "      <td>Yes</td>\n",
       "      <td>No</td>\n",
       "      <td>No</td>\n",
       "      <td>One year</td>\n",
       "      <td>0</td>\n",
       "      <td>Bank transfer (automatic)</td>\n",
       "      <td>42.30</td>\n",
       "      <td>1840.75</td>\n",
       "      <td>0</td>\n",
       "    </tr>\n",
       "    <tr>\n",
       "      <th>4</th>\n",
       "      <td>Female</td>\n",
       "      <td>0</td>\n",
       "      <td>0</td>\n",
       "      <td>0</td>\n",
       "      <td>2</td>\n",
       "      <td>1</td>\n",
       "      <td>No</td>\n",
       "      <td>Fiber optic</td>\n",
       "      <td>No</td>\n",
       "      <td>No</td>\n",
       "      <td>No</td>\n",
       "      <td>No</td>\n",
       "      <td>No</td>\n",
       "      <td>No</td>\n",
       "      <td>Month-to-month</td>\n",
       "      <td>1</td>\n",
       "      <td>Electronic check</td>\n",
       "      <td>70.70</td>\n",
       "      <td>151.65</td>\n",
       "      <td>1</td>\n",
       "    </tr>\n",
       "  </tbody>\n",
       "</table>\n",
       "</div>"
      ],
      "text/plain": [
       "   gender  SeniorCitizen  Partner  Dependents  tenure  PhoneService  \\\n",
       "0  Female              0        1           0       1             0   \n",
       "1    Male              0        0           0      34             1   \n",
       "2    Male              0        0           0       2             1   \n",
       "3    Male              0        0           0      45             0   \n",
       "4  Female              0        0           0       2             1   \n",
       "\n",
       "      MultipleLines InternetService OnlineSecurity OnlineBackup  \\\n",
       "0  No phone service             DSL             No          Yes   \n",
       "1                No             DSL            Yes           No   \n",
       "2                No             DSL            Yes          Yes   \n",
       "3  No phone service             DSL            Yes           No   \n",
       "4                No     Fiber optic             No           No   \n",
       "\n",
       "  DeviceProtection TechSupport StreamingTV StreamingMovies        Contract  \\\n",
       "0               No          No          No              No  Month-to-month   \n",
       "1              Yes          No          No              No        One year   \n",
       "2               No          No          No              No  Month-to-month   \n",
       "3              Yes         Yes          No              No        One year   \n",
       "4               No          No          No              No  Month-to-month   \n",
       "\n",
       "   PaperlessBilling              PaymentMethod  MonthlyCharges  TotalCharges  \\\n",
       "0                 1           Electronic check           29.85         29.85   \n",
       "1                 0               Mailed check           56.95       1889.50   \n",
       "2                 1               Mailed check           53.85        108.15   \n",
       "3                 0  Bank transfer (automatic)           42.30       1840.75   \n",
       "4                 1           Electronic check           70.70        151.65   \n",
       "\n",
       "   Churn  \n",
       "0      0  \n",
       "1      0  \n",
       "2      1  \n",
       "3      0  \n",
       "4      1  "
      ]
     },
     "execution_count": 17,
     "metadata": {},
     "output_type": "execute_result"
    }
   ],
   "source": [
    "data_df.head()"
   ]
  },
  {
   "cell_type": "code",
   "execution_count": 18,
   "id": "5862bf46",
   "metadata": {
    "execution": {
     "iopub.execute_input": "2023-09-05T12:18:23.031069Z",
     "iopub.status.busy": "2023-09-05T12:18:23.029981Z",
     "iopub.status.idle": "2023-09-05T12:18:23.039858Z",
     "shell.execute_reply": "2023-09-05T12:18:23.038641Z"
    },
    "papermill": {
     "duration": 0.041622,
     "end_time": "2023-09-05T12:18:23.042296",
     "exception": false,
     "start_time": "2023-09-05T12:18:23.000674",
     "status": "completed"
    },
    "tags": []
   },
   "outputs": [
    {
     "data": {
      "text/plain": [
       "gender               object\n",
       "SeniorCitizen         int64\n",
       "Partner               int64\n",
       "Dependents            int64\n",
       "tenure                int64\n",
       "PhoneService          int64\n",
       "MultipleLines        object\n",
       "InternetService      object\n",
       "OnlineSecurity       object\n",
       "OnlineBackup         object\n",
       "DeviceProtection     object\n",
       "TechSupport          object\n",
       "StreamingTV          object\n",
       "StreamingMovies      object\n",
       "Contract             object\n",
       "PaperlessBilling      int64\n",
       "PaymentMethod        object\n",
       "MonthlyCharges      float64\n",
       "TotalCharges        float64\n",
       "Churn                 int64\n",
       "dtype: object"
      ]
     },
     "execution_count": 18,
     "metadata": {},
     "output_type": "execute_result"
    }
   ],
   "source": [
    "data_df.dtypes"
   ]
  },
  {
   "cell_type": "code",
   "execution_count": 19,
   "id": "61fdd039",
   "metadata": {
    "execution": {
     "iopub.execute_input": "2023-09-05T12:18:23.102369Z",
     "iopub.status.busy": "2023-09-05T12:18:23.101962Z",
     "iopub.status.idle": "2023-09-05T12:18:23.411355Z",
     "shell.execute_reply": "2023-09-05T12:18:23.410161Z"
    },
    "papermill": {
     "duration": 0.343505,
     "end_time": "2023-09-05T12:18:23.414273",
     "exception": false,
     "start_time": "2023-09-05T12:18:23.070768",
     "status": "completed"
    },
    "tags": []
   },
   "outputs": [
    {
     "data": {
      "image/png": "[encoded data removed]",
      "text/plain": [
       "<Figure size 800x600 with 1 Axes>"
      ]
     },
     "metadata": {},
     "output_type": "display_data"
    }
   ],
   "source": [
    "# check correlation between the target and the features\n",
    "conti_df= data_df.select_dtypes(exclude=[object])\n",
    "\n",
    "corr_with_tot_count = conti_df.corr()[\"Churn\"].sort_values(ascending=False)\n",
    "\n",
    "plt.figure(figsize=(8,6))\n",
    "corr_with_tot_count.drop(\"Churn\").plot.bar()\n",
    "plt.show()"
   ]
  },
  {
   "cell_type": "code",
   "execution_count": 20,
   "id": "79129abe",
   "metadata": {
    "execution": {
     "iopub.execute_input": "2023-09-05T12:18:23.475105Z",
     "iopub.status.busy": "2023-09-05T12:18:23.474649Z",
     "iopub.status.idle": "2023-09-05T12:18:24.123237Z",
     "shell.execute_reply": "2023-09-05T12:18:24.122241Z"
    },
    "papermill": {
     "duration": 0.681828,
     "end_time": "2023-09-05T12:18:24.125522",
     "exception": false,
     "start_time": "2023-09-05T12:18:23.443694",
     "status": "completed"
    },
    "tags": []
   },
   "outputs": [
    {
     "data": {
      "image/png": "[encoded data removed]",
      "text/plain": [
       "<Figure size 600x600 with 2 Axes>"
      ]
     },
     "metadata": {},
     "output_type": "display_data"
    }
   ],
   "source": [
    "# check for correlation among the features\n",
    "\n",
    "#pd.set_option('precision',2)\n",
    "plt.figure(figsize=(6,6))\n",
    "\n",
    "sns.heatmap(conti_df.drop(['Churn'],axis=1).corr(), square=True, annot=True,)\n",
    "plt.suptitle(\"Pearson Correlation Heatmap\")\n",
    "plt.show()"
   ]
  },
  {
   "cell_type": "code",
   "execution_count": 21,
   "id": "4b93a3fd",
   "metadata": {
    "execution": {
     "iopub.execute_input": "2023-09-05T12:18:24.189608Z",
     "iopub.status.busy": "2023-09-05T12:18:24.189221Z",
     "iopub.status.idle": "2023-09-05T12:18:24.202562Z",
     "shell.execute_reply": "2023-09-05T12:18:24.201427Z"
    },
    "papermill": {
     "duration": 0.047854,
     "end_time": "2023-09-05T12:18:24.204982",
     "exception": false,
     "start_time": "2023-09-05T12:18:24.157128",
     "status": "completed"
    },
    "tags": []
   },
   "outputs": [
    {
     "name": "stdout",
     "output_type": "stream",
     "text": [
      "['TotalCharges']\n"
     ]
    }
   ],
   "source": [
    "# create correlation matrix\n",
    "corr_matrix = conti_df.drop(['Churn'],axis=1).corr().abs()\n",
    "\n",
    "# select upper triangle of correlation matrix\n",
    "upper = corr_matrix.where(np.triu(np.ones(corr_matrix.shape), k=1).astype(np.bool_))\n",
    "\n",
    "# select one feature from the highly correlated features, threshold 0.7\n",
    "to_drop = [column for column in upper.columns if any(upper[column] > 0.7)]\n",
    "\n",
    "print(to_drop)"
   ]
  },
  {
   "cell_type": "code",
   "execution_count": 22,
   "id": "90de6fe6",
   "metadata": {
    "execution": {
     "iopub.execute_input": "2023-09-05T12:18:24.267445Z",
     "iopub.status.busy": "2023-09-05T12:18:24.267055Z",
     "iopub.status.idle": "2023-09-05T12:18:24.291726Z",
     "shell.execute_reply": "2023-09-05T12:18:24.290628Z"
    },
    "papermill": {
     "duration": 0.05855,
     "end_time": "2023-09-05T12:18:24.294035",
     "exception": false,
     "start_time": "2023-09-05T12:18:24.235485",
     "status": "completed"
    },
    "tags": []
   },
   "outputs": [
    {
     "data": {
      "text/html": [
       "<div>\n",
       "<style scoped>\n",
       "    .dataframe tbody tr th:only-of-type {\n",
       "        vertical-align: middle;\n",
       "    }\n",
       "\n",
       "    .dataframe tbody tr th {\n",
       "        vertical-align: top;\n",
       "    }\n",
       "\n",
       "    .dataframe thead th {\n",
       "        text-align: right;\n",
       "    }\n",
       "</style>\n",
       "<table border=\"1\" class=\"dataframe\">\n",
       "  <thead>\n",
       "    <tr style=\"text-align: right;\">\n",
       "      <th></th>\n",
       "      <th>gender</th>\n",
       "      <th>SeniorCitizen</th>\n",
       "      <th>Partner</th>\n",
       "      <th>Dependents</th>\n",
       "      <th>tenure</th>\n",
       "      <th>MultipleLines</th>\n",
       "      <th>InternetService</th>\n",
       "      <th>OnlineSecurity</th>\n",
       "      <th>OnlineBackup</th>\n",
       "      <th>DeviceProtection</th>\n",
       "      <th>TechSupport</th>\n",
       "      <th>StreamingTV</th>\n",
       "      <th>StreamingMovies</th>\n",
       "      <th>Contract</th>\n",
       "      <th>PaperlessBilling</th>\n",
       "      <th>PaymentMethod</th>\n",
       "      <th>MonthlyCharges</th>\n",
       "      <th>Churn</th>\n",
       "    </tr>\n",
       "  </thead>\n",
       "  <tbody>\n",
       "    <tr>\n",
       "      <th>0</th>\n",
       "      <td>Female</td>\n",
       "      <td>0</td>\n",
       "      <td>1</td>\n",
       "      <td>0</td>\n",
       "      <td>1</td>\n",
       "      <td>No phone service</td>\n",
       "      <td>DSL</td>\n",
       "      <td>No</td>\n",
       "      <td>Yes</td>\n",
       "      <td>No</td>\n",
       "      <td>No</td>\n",
       "      <td>No</td>\n",
       "      <td>No</td>\n",
       "      <td>Month-to-month</td>\n",
       "      <td>1</td>\n",
       "      <td>Electronic check</td>\n",
       "      <td>29.85</td>\n",
       "      <td>0</td>\n",
       "    </tr>\n",
       "    <tr>\n",
       "      <th>1</th>\n",
       "      <td>Male</td>\n",
       "      <td>0</td>\n",
       "      <td>0</td>\n",
       "      <td>0</td>\n",
       "      <td>34</td>\n",
       "      <td>No</td>\n",
       "      <td>DSL</td>\n",
       "      <td>Yes</td>\n",
       "      <td>No</td>\n",
       "      <td>Yes</td>\n",
       "      <td>No</td>\n",
       "      <td>No</td>\n",
       "      <td>No</td>\n",
       "      <td>One year</td>\n",
       "      <td>0</td>\n",
       "      <td>Mailed check</td>\n",
       "      <td>56.95</td>\n",
       "      <td>0</td>\n",
       "    </tr>\n",
       "    <tr>\n",
       "      <th>2</th>\n",
       "      <td>Male</td>\n",
       "      <td>0</td>\n",
       "      <td>0</td>\n",
       "      <td>0</td>\n",
       "      <td>2</td>\n",
       "      <td>No</td>\n",
       "      <td>DSL</td>\n",
       "      <td>Yes</td>\n",
       "      <td>Yes</td>\n",
       "      <td>No</td>\n",
       "      <td>No</td>\n",
       "      <td>No</td>\n",
       "      <td>No</td>\n",
       "      <td>Month-to-month</td>\n",
       "      <td>1</td>\n",
       "      <td>Mailed check</td>\n",
       "      <td>53.85</td>\n",
       "      <td>1</td>\n",
       "    </tr>\n",
       "  </tbody>\n",
       "</table>\n",
       "</div>"
      ],
      "text/plain": [
       "   gender  SeniorCitizen  Partner  Dependents  tenure     MultipleLines  \\\n",
       "0  Female              0        1           0       1  No phone service   \n",
       "1    Male              0        0           0      34                No   \n",
       "2    Male              0        0           0       2                No   \n",
       "\n",
       "  InternetService OnlineSecurity OnlineBackup DeviceProtection TechSupport  \\\n",
       "0             DSL             No          Yes               No          No   \n",
       "1             DSL            Yes           No              Yes          No   \n",
       "2             DSL            Yes          Yes               No          No   \n",
       "\n",
       "  StreamingTV StreamingMovies        Contract  PaperlessBilling  \\\n",
       "0          No              No  Month-to-month                 1   \n",
       "1          No              No        One year                 0   \n",
       "2          No              No  Month-to-month                 1   \n",
       "\n",
       "      PaymentMethod  MonthlyCharges  Churn  \n",
       "0  Electronic check           29.85      0  \n",
       "1      Mailed check           56.95      0  \n",
       "2      Mailed check           53.85      1  "
      ]
     },
     "execution_count": 22,
     "metadata": {},
     "output_type": "execute_result"
    }
   ],
   "source": [
    "df=data_df.drop(['TotalCharges', 'PhoneService'],axis=1)\n",
    "df.head(3)"
   ]
  },
  {
   "cell_type": "code",
   "execution_count": null,
   "id": "2e87f856",
   "metadata": {
    "papermill": {
     "duration": 0.029949,
     "end_time": "2023-09-05T12:18:24.354272",
     "exception": false,
     "start_time": "2023-09-05T12:18:24.324323",
     "status": "completed"
    },
    "tags": []
   },
   "outputs": [],
   "source": []
  },
  {
   "cell_type": "code",
   "execution_count": 23,
   "id": "db3356a9",
   "metadata": {
    "execution": {
     "iopub.execute_input": "2023-09-05T12:18:24.416668Z",
     "iopub.status.busy": "2023-09-05T12:18:24.416251Z",
     "iopub.status.idle": "2023-09-05T12:18:24.878290Z",
     "shell.execute_reply": "2023-09-05T12:18:24.876817Z"
    },
    "papermill": {
     "duration": 0.496549,
     "end_time": "2023-09-05T12:18:24.881007",
     "exception": false,
     "start_time": "2023-09-05T12:18:24.384458",
     "status": "completed"
    },
    "tags": []
   },
   "outputs": [
    {
     "data": {
      "image/png": "[encoded data removed]",
      "text/plain": [
       "<Figure size 640x480 with 1 Axes>"
      ]
     },
     "metadata": {},
     "output_type": "display_data"
    }
   ],
   "source": [
    "def compute_mutual_information(categorical_serie):\n",
    "    return mutual_info_score(categorical_serie, df.Churn)\n",
    "\n",
    "# select categorial variables excluding the customerID  and Churn\n",
    "cat_vars = df.select_dtypes(include=object)\n",
    "\n",
    "# compute the mutual information score between each categorical variable and the target\n",
    "feature_importance_df = cat_vars.apply(compute_mutual_information).sort_values(ascending=False)\n",
    "\n",
    "# visualize feature importance\n",
    "plt.bar(feature_importance_df.index, height = feature_importance_df.values)\n",
    "plt.xticks(rotation=90)\n",
    "plt.show()"
   ]
  },
  {
   "cell_type": "code",
   "execution_count": 24,
   "id": "dd9dbd46",
   "metadata": {
    "execution": {
     "iopub.execute_input": "2023-09-05T12:18:24.946845Z",
     "iopub.status.busy": "2023-09-05T12:18:24.946327Z",
     "iopub.status.idle": "2023-09-05T12:18:24.956555Z",
     "shell.execute_reply": "2023-09-05T12:18:24.955268Z"
    },
    "papermill": {
     "duration": 0.046812,
     "end_time": "2023-09-05T12:18:24.959736",
     "exception": false,
     "start_time": "2023-09-05T12:18:24.912924",
     "status": "completed"
    },
    "tags": []
   },
   "outputs": [
    {
     "name": "stdout",
     "output_type": "stream",
     "text": [
      "Contract            0.098182\n",
      "OnlineSecurity      0.064528\n",
      "TechSupport         0.062873\n",
      "InternetService     0.055394\n",
      "OnlineBackup        0.046659\n",
      "PaymentMethod       0.044423\n",
      "DeviceProtection    0.043784\n",
      "StreamingMovies     0.031918\n",
      "StreamingTV         0.031803\n",
      "MultipleLines       0.000798\n",
      "gender              0.000037\n",
      "dtype: float64\n"
     ]
    },
    {
     "data": {
      "text/plain": [
       "array(['InternetService', 'OnlineBackup', 'PaymentMethod',\n",
       "       'DeviceProtection', 'StreamingMovies', 'StreamingTV',\n",
       "       'MultipleLines', 'gender'], dtype=object)"
      ]
     },
     "execution_count": 24,
     "metadata": {},
     "output_type": "execute_result"
    }
   ],
   "source": [
    "print(feature_importance_df)\n",
    "todrop = feature_importance_df[feature_importance_df < 0.06]\n",
    "todrop.index.values"
   ]
  },
  {
   "cell_type": "code",
   "execution_count": 25,
   "id": "690f761f",
   "metadata": {
    "execution": {
     "iopub.execute_input": "2023-09-05T12:18:25.026120Z",
     "iopub.status.busy": "2023-09-05T12:18:25.025413Z",
     "iopub.status.idle": "2023-09-05T12:18:25.044446Z",
     "shell.execute_reply": "2023-09-05T12:18:25.043237Z"
    },
    "papermill": {
     "duration": 0.054796,
     "end_time": "2023-09-05T12:18:25.046720",
     "exception": false,
     "start_time": "2023-09-05T12:18:24.991924",
     "status": "completed"
    },
    "tags": []
   },
   "outputs": [
    {
     "data": {
      "text/html": [
       "<div>\n",
       "<style scoped>\n",
       "    .dataframe tbody tr th:only-of-type {\n",
       "        vertical-align: middle;\n",
       "    }\n",
       "\n",
       "    .dataframe tbody tr th {\n",
       "        vertical-align: top;\n",
       "    }\n",
       "\n",
       "    .dataframe thead th {\n",
       "        text-align: right;\n",
       "    }\n",
       "</style>\n",
       "<table border=\"1\" class=\"dataframe\">\n",
       "  <thead>\n",
       "    <tr style=\"text-align: right;\">\n",
       "      <th></th>\n",
       "      <th>SeniorCitizen</th>\n",
       "      <th>Partner</th>\n",
       "      <th>Dependents</th>\n",
       "      <th>tenure</th>\n",
       "      <th>OnlineSecurity</th>\n",
       "      <th>TechSupport</th>\n",
       "      <th>Contract</th>\n",
       "      <th>PaperlessBilling</th>\n",
       "      <th>MonthlyCharges</th>\n",
       "      <th>Churn</th>\n",
       "    </tr>\n",
       "  </thead>\n",
       "  <tbody>\n",
       "    <tr>\n",
       "      <th>0</th>\n",
       "      <td>0</td>\n",
       "      <td>1</td>\n",
       "      <td>0</td>\n",
       "      <td>1</td>\n",
       "      <td>No</td>\n",
       "      <td>No</td>\n",
       "      <td>Month-to-month</td>\n",
       "      <td>1</td>\n",
       "      <td>29.85</td>\n",
       "      <td>0</td>\n",
       "    </tr>\n",
       "    <tr>\n",
       "      <th>1</th>\n",
       "      <td>0</td>\n",
       "      <td>0</td>\n",
       "      <td>0</td>\n",
       "      <td>34</td>\n",
       "      <td>Yes</td>\n",
       "      <td>No</td>\n",
       "      <td>One year</td>\n",
       "      <td>0</td>\n",
       "      <td>56.95</td>\n",
       "      <td>0</td>\n",
       "    </tr>\n",
       "    <tr>\n",
       "      <th>2</th>\n",
       "      <td>0</td>\n",
       "      <td>0</td>\n",
       "      <td>0</td>\n",
       "      <td>2</td>\n",
       "      <td>Yes</td>\n",
       "      <td>No</td>\n",
       "      <td>Month-to-month</td>\n",
       "      <td>1</td>\n",
       "      <td>53.85</td>\n",
       "      <td>1</td>\n",
       "    </tr>\n",
       "  </tbody>\n",
       "</table>\n",
       "</div>"
      ],
      "text/plain": [
       "   SeniorCitizen  Partner  Dependents  tenure OnlineSecurity TechSupport  \\\n",
       "0              0        1           0       1             No          No   \n",
       "1              0        0           0      34            Yes          No   \n",
       "2              0        0           0       2            Yes          No   \n",
       "\n",
       "         Contract  PaperlessBilling  MonthlyCharges  Churn  \n",
       "0  Month-to-month                 1           29.85      0  \n",
       "1        One year                 0           56.95      0  \n",
       "2  Month-to-month                 1           53.85      1  "
      ]
     },
     "execution_count": 25,
     "metadata": {},
     "output_type": "execute_result"
    }
   ],
   "source": [
    "selected_features=df.drop(todrop.index.values,axis=1)\n",
    "selected_features.head(3)"
   ]
  },
  {
   "cell_type": "code",
   "execution_count": 26,
   "id": "ec7d12f0",
   "metadata": {
    "execution": {
     "iopub.execute_input": "2023-09-05T12:18:25.115069Z",
     "iopub.status.busy": "2023-09-05T12:18:25.114626Z",
     "iopub.status.idle": "2023-09-05T12:18:25.122164Z",
     "shell.execute_reply": "2023-09-05T12:18:25.120802Z"
    },
    "papermill": {
     "duration": 0.04468,
     "end_time": "2023-09-05T12:18:25.124799",
     "exception": false,
     "start_time": "2023-09-05T12:18:25.080119",
     "status": "completed"
    },
    "tags": []
   },
   "outputs": [
    {
     "data": {
      "text/plain": [
       "(7032, 10)"
      ]
     },
     "execution_count": 26,
     "metadata": {},
     "output_type": "execute_result"
    }
   ],
   "source": [
    "selected_features.shape"
   ]
  },
  {
   "cell_type": "code",
   "execution_count": 27,
   "id": "643caaac",
   "metadata": {
    "execution": {
     "iopub.execute_input": "2023-09-05T12:18:25.192694Z",
     "iopub.status.busy": "2023-09-05T12:18:25.191933Z",
     "iopub.status.idle": "2023-09-05T12:18:25.482593Z",
     "shell.execute_reply": "2023-09-05T12:18:25.481028Z"
    },
    "papermill": {
     "duration": 0.331522,
     "end_time": "2023-09-05T12:18:25.488712",
     "exception": false,
     "start_time": "2023-09-05T12:18:25.157190",
     "status": "completed"
    },
    "tags": []
   },
   "outputs": [
    {
     "name": "stderr",
     "output_type": "stream",
     "text": [
      "/opt/conda/lib/python3.10/site-packages/statsmodels/stats/outliers_influence.py:198: RuntimeWarning: divide by zero encountered in double_scalars\n",
      "  vif = 1. / (1. - r_squared_i)\n"
     ]
    },
    {
     "data": {
      "text/html": [
       "<div>\n",
       "<style scoped>\n",
       "    .dataframe tbody tr th:only-of-type {\n",
       "        vertical-align: middle;\n",
       "    }\n",
       "\n",
       "    .dataframe tbody tr th {\n",
       "        vertical-align: top;\n",
       "    }\n",
       "\n",
       "    .dataframe thead th {\n",
       "        text-align: right;\n",
       "    }\n",
       "</style>\n",
       "<table border=\"1\" class=\"dataframe\">\n",
       "  <thead>\n",
       "    <tr style=\"text-align: right;\">\n",
       "      <th></th>\n",
       "      <th>feature</th>\n",
       "      <th>VIF</th>\n",
       "    </tr>\n",
       "  </thead>\n",
       "  <tbody>\n",
       "    <tr>\n",
       "      <th>0</th>\n",
       "      <td>SeniorCitizen</td>\n",
       "      <td>1.359600</td>\n",
       "    </tr>\n",
       "    <tr>\n",
       "      <th>1</th>\n",
       "      <td>Partner</td>\n",
       "      <td>2.817676</td>\n",
       "    </tr>\n",
       "    <tr>\n",
       "      <th>2</th>\n",
       "      <td>Dependents</td>\n",
       "      <td>1.933504</td>\n",
       "    </tr>\n",
       "    <tr>\n",
       "      <th>3</th>\n",
       "      <td>tenure</td>\n",
       "      <td>6.622425</td>\n",
       "    </tr>\n",
       "    <tr>\n",
       "      <th>4</th>\n",
       "      <td>PaperlessBilling</td>\n",
       "      <td>2.811289</td>\n",
       "    </tr>\n",
       "    <tr>\n",
       "      <th>5</th>\n",
       "      <td>MonthlyCharges</td>\n",
       "      <td>5.738448</td>\n",
       "    </tr>\n",
       "    <tr>\n",
       "      <th>6</th>\n",
       "      <td>OnlineSecurity_No internet service</td>\n",
       "      <td>inf</td>\n",
       "    </tr>\n",
       "    <tr>\n",
       "      <th>7</th>\n",
       "      <td>OnlineSecurity_Yes</td>\n",
       "      <td>1.867563</td>\n",
       "    </tr>\n",
       "    <tr>\n",
       "      <th>8</th>\n",
       "      <td>TechSupport_No internet service</td>\n",
       "      <td>inf</td>\n",
       "    </tr>\n",
       "    <tr>\n",
       "      <th>9</th>\n",
       "      <td>TechSupport_Yes</td>\n",
       "      <td>1.979325</td>\n",
       "    </tr>\n",
       "    <tr>\n",
       "      <th>10</th>\n",
       "      <td>Contract_One year</td>\n",
       "      <td>1.983576</td>\n",
       "    </tr>\n",
       "    <tr>\n",
       "      <th>11</th>\n",
       "      <td>Contract_Two year</td>\n",
       "      <td>3.334809</td>\n",
       "    </tr>\n",
       "  </tbody>\n",
       "</table>\n",
       "</div>"
      ],
      "text/plain": [
       "                               feature       VIF\n",
       "0                        SeniorCitizen  1.359600\n",
       "1                              Partner  2.817676\n",
       "2                           Dependents  1.933504\n",
       "3                               tenure  6.622425\n",
       "4                     PaperlessBilling  2.811289\n",
       "5                       MonthlyCharges  5.738448\n",
       "6   OnlineSecurity_No internet service       inf\n",
       "7                   OnlineSecurity_Yes  1.867563\n",
       "8      TechSupport_No internet service       inf\n",
       "9                      TechSupport_Yes  1.979325\n",
       "10                   Contract_One year  1.983576\n",
       "11                   Contract_Two year  3.334809"
      ]
     },
     "execution_count": 27,
     "metadata": {},
     "output_type": "execute_result"
    }
   ],
   "source": [
    "from statsmodels.stats.outliers_influence import variance_inflation_factor\n",
    "\n",
    "def cal_VIF(X):\n",
    "    vif_data = pd.DataFrame()\n",
    "    vif_data[\"feature\"] =  X.columns\n",
    "    # calculating VIF for each feature\n",
    "    vif_data[\"VIF\"] = [variance_inflation_factor(X.values, i)\n",
    "                              for i in range(len(X.columns))] \n",
    "    return vif_data\n",
    "\n",
    "# convert all the categorical data to numerical applying one hot encoding\n",
    "input_df = pd.get_dummies(selected_features.drop(['Churn'],axis=1), dtype=float, drop_first = True)\n",
    "cal_VIF(input_df)"
   ]
  },
  {
   "cell_type": "code",
   "execution_count": 28,
   "id": "40a68c16",
   "metadata": {
    "execution": {
     "iopub.execute_input": "2023-09-05T12:18:25.608266Z",
     "iopub.status.busy": "2023-09-05T12:18:25.607835Z",
     "iopub.status.idle": "2023-09-05T12:18:25.681436Z",
     "shell.execute_reply": "2023-09-05T12:18:25.679814Z"
    },
    "papermill": {
     "duration": 0.126233,
     "end_time": "2023-09-05T12:18:25.685818",
     "exception": false,
     "start_time": "2023-09-05T12:18:25.559585",
     "status": "completed"
    },
    "tags": []
   },
   "outputs": [
    {
     "data": {
      "text/html": [
       "<div>\n",
       "<style scoped>\n",
       "    .dataframe tbody tr th:only-of-type {\n",
       "        vertical-align: middle;\n",
       "    }\n",
       "\n",
       "    .dataframe tbody tr th {\n",
       "        vertical-align: top;\n",
       "    }\n",
       "\n",
       "    .dataframe thead th {\n",
       "        text-align: right;\n",
       "    }\n",
       "</style>\n",
       "<table border=\"1\" class=\"dataframe\">\n",
       "  <thead>\n",
       "    <tr style=\"text-align: right;\">\n",
       "      <th></th>\n",
       "      <th>feature</th>\n",
       "      <th>VIF</th>\n",
       "    </tr>\n",
       "  </thead>\n",
       "  <tbody>\n",
       "    <tr>\n",
       "      <th>0</th>\n",
       "      <td>SeniorCitizen</td>\n",
       "      <td>1.338181</td>\n",
       "    </tr>\n",
       "    <tr>\n",
       "      <th>1</th>\n",
       "      <td>Partner</td>\n",
       "      <td>2.808229</td>\n",
       "    </tr>\n",
       "    <tr>\n",
       "      <th>2</th>\n",
       "      <td>Dependents</td>\n",
       "      <td>1.875025</td>\n",
       "    </tr>\n",
       "    <tr>\n",
       "      <th>3</th>\n",
       "      <td>tenure</td>\n",
       "      <td>6.506892</td>\n",
       "    </tr>\n",
       "    <tr>\n",
       "      <th>4</th>\n",
       "      <td>PaperlessBilling</td>\n",
       "      <td>2.729916</td>\n",
       "    </tr>\n",
       "    <tr>\n",
       "      <th>5</th>\n",
       "      <td>MonthlyCharges</td>\n",
       "      <td>4.830691</td>\n",
       "    </tr>\n",
       "    <tr>\n",
       "      <th>6</th>\n",
       "      <td>Contract_One year</td>\n",
       "      <td>1.803766</td>\n",
       "    </tr>\n",
       "    <tr>\n",
       "      <th>7</th>\n",
       "      <td>Contract_Two year</td>\n",
       "      <td>2.903879</td>\n",
       "    </tr>\n",
       "  </tbody>\n",
       "</table>\n",
       "</div>"
      ],
      "text/plain": [
       "             feature       VIF\n",
       "0      SeniorCitizen  1.338181\n",
       "1            Partner  2.808229\n",
       "2         Dependents  1.875025\n",
       "3             tenure  6.506892\n",
       "4   PaperlessBilling  2.729916\n",
       "5     MonthlyCharges  4.830691\n",
       "6  Contract_One year  1.803766\n",
       "7  Contract_Two year  2.903879"
      ]
     },
     "execution_count": 28,
     "metadata": {},
     "output_type": "execute_result"
    }
   ],
   "source": [
    "input_df_new = pd.get_dummies(selected_features.drop(['Churn', 'OnlineSecurity', 'TechSupport'],axis=1), dtype=float, drop_first = True)\n",
    "cal_VIF(input_df_new)"
   ]
  },
  {
   "cell_type": "code",
   "execution_count": 29,
   "id": "133623ac",
   "metadata": {
    "execution": {
     "iopub.execute_input": "2023-09-05T12:18:25.809545Z",
     "iopub.status.busy": "2023-09-05T12:18:25.809119Z",
     "iopub.status.idle": "2023-09-05T12:18:25.822183Z",
     "shell.execute_reply": "2023-09-05T12:18:25.821095Z"
    },
    "papermill": {
     "duration": 0.063873,
     "end_time": "2023-09-05T12:18:25.824679",
     "exception": false,
     "start_time": "2023-09-05T12:18:25.760806",
     "status": "completed"
    },
    "tags": []
   },
   "outputs": [],
   "source": [
    "all_features_df = pd.get_dummies(selected_features[['SeniorCitizen', 'Partner', 'Dependents', 'PaperlessBilling','MonthlyCharges', 'Contract','tenure', 'Churn']],dtype=int, drop_first=True)\n",
    "X = all_features_df.drop(['Churn'],axis=1)\n",
    "y = all_features_df['Churn']"
   ]
  },
  {
   "cell_type": "code",
   "execution_count": 30,
   "id": "f351b1ec",
   "metadata": {
    "execution": {
     "iopub.execute_input": "2023-09-05T12:18:25.897571Z",
     "iopub.status.busy": "2023-09-05T12:18:25.896995Z",
     "iopub.status.idle": "2023-09-05T12:18:25.911364Z",
     "shell.execute_reply": "2023-09-05T12:18:25.910060Z"
    },
    "papermill": {
     "duration": 0.05146,
     "end_time": "2023-09-05T12:18:25.913889",
     "exception": false,
     "start_time": "2023-09-05T12:18:25.862429",
     "status": "completed"
    },
    "tags": []
   },
   "outputs": [
    {
     "data": {
      "text/html": [
       "<div>\n",
       "<style scoped>\n",
       "    .dataframe tbody tr th:only-of-type {\n",
       "        vertical-align: middle;\n",
       "    }\n",
       "\n",
       "    .dataframe tbody tr th {\n",
       "        vertical-align: top;\n",
       "    }\n",
       "\n",
       "    .dataframe thead th {\n",
       "        text-align: right;\n",
       "    }\n",
       "</style>\n",
       "<table border=\"1\" class=\"dataframe\">\n",
       "  <thead>\n",
       "    <tr style=\"text-align: right;\">\n",
       "      <th></th>\n",
       "      <th>SeniorCitizen</th>\n",
       "      <th>Partner</th>\n",
       "      <th>Dependents</th>\n",
       "      <th>PaperlessBilling</th>\n",
       "      <th>MonthlyCharges</th>\n",
       "      <th>tenure</th>\n",
       "      <th>Contract_One year</th>\n",
       "      <th>Contract_Two year</th>\n",
       "    </tr>\n",
       "  </thead>\n",
       "  <tbody>\n",
       "    <tr>\n",
       "      <th>0</th>\n",
       "      <td>0</td>\n",
       "      <td>1</td>\n",
       "      <td>0</td>\n",
       "      <td>1</td>\n",
       "      <td>29.85</td>\n",
       "      <td>1</td>\n",
       "      <td>0</td>\n",
       "      <td>0</td>\n",
       "    </tr>\n",
       "    <tr>\n",
       "      <th>1</th>\n",
       "      <td>0</td>\n",
       "      <td>0</td>\n",
       "      <td>0</td>\n",
       "      <td>0</td>\n",
       "      <td>56.95</td>\n",
       "      <td>34</td>\n",
       "      <td>1</td>\n",
       "      <td>0</td>\n",
       "    </tr>\n",
       "    <tr>\n",
       "      <th>2</th>\n",
       "      <td>0</td>\n",
       "      <td>0</td>\n",
       "      <td>0</td>\n",
       "      <td>1</td>\n",
       "      <td>53.85</td>\n",
       "      <td>2</td>\n",
       "      <td>0</td>\n",
       "      <td>0</td>\n",
       "    </tr>\n",
       "  </tbody>\n",
       "</table>\n",
       "</div>"
      ],
      "text/plain": [
       "   SeniorCitizen  Partner  Dependents  PaperlessBilling  MonthlyCharges  \\\n",
       "0              0        1           0                 1           29.85   \n",
       "1              0        0           0                 0           56.95   \n",
       "2              0        0           0                 1           53.85   \n",
       "\n",
       "   tenure  Contract_One year  Contract_Two year  \n",
       "0       1                  0                  0  \n",
       "1      34                  1                  0  \n",
       "2       2                  0                  0  "
      ]
     },
     "execution_count": 30,
     "metadata": {},
     "output_type": "execute_result"
    }
   ],
   "source": [
    "X.head(3)"
   ]
  },
  {
   "cell_type": "markdown",
   "id": "22468c3e",
   "metadata": {
    "papermill": {
     "duration": 0.032856,
     "end_time": "2023-09-05T12:18:25.980771",
     "exception": false,
     "start_time": "2023-09-05T12:18:25.947915",
     "status": "completed"
    },
    "tags": []
   },
   "source": [
    "### Scaling the data"
   ]
  },
  {
   "cell_type": "code",
   "execution_count": 31,
   "id": "1dad8d40",
   "metadata": {
    "execution": {
     "iopub.execute_input": "2023-09-05T12:18:26.049795Z",
     "iopub.status.busy": "2023-09-05T12:18:26.049388Z",
     "iopub.status.idle": "2023-09-05T12:18:26.074775Z",
     "shell.execute_reply": "2023-09-05T12:18:26.073542Z"
    },
    "papermill": {
     "duration": 0.063219,
     "end_time": "2023-09-05T12:18:26.077324",
     "exception": false,
     "start_time": "2023-09-05T12:18:26.014105",
     "status": "completed"
    },
    "tags": []
   },
   "outputs": [
    {
     "data": {
      "text/html": [
       "<div>\n",
       "<style scoped>\n",
       "    .dataframe tbody tr th:only-of-type {\n",
       "        vertical-align: middle;\n",
       "    }\n",
       "\n",
       "    .dataframe tbody tr th {\n",
       "        vertical-align: top;\n",
       "    }\n",
       "\n",
       "    .dataframe thead th {\n",
       "        text-align: right;\n",
       "    }\n",
       "</style>\n",
       "<table border=\"1\" class=\"dataframe\">\n",
       "  <thead>\n",
       "    <tr style=\"text-align: right;\">\n",
       "      <th></th>\n",
       "      <th>SeniorCitizen</th>\n",
       "      <th>Partner</th>\n",
       "      <th>Dependents</th>\n",
       "      <th>PaperlessBilling</th>\n",
       "      <th>MonthlyCharges</th>\n",
       "      <th>tenure</th>\n",
       "      <th>Contract_One year</th>\n",
       "      <th>Contract_Two year</th>\n",
       "    </tr>\n",
       "  </thead>\n",
       "  <tbody>\n",
       "    <tr>\n",
       "      <th>0</th>\n",
       "      <td>-0.440327</td>\n",
       "      <td>1.035617</td>\n",
       "      <td>-0.652305</td>\n",
       "      <td>0.828939</td>\n",
       "      <td>-1.161694</td>\n",
       "      <td>-1.280248</td>\n",
       "      <td>-0.514537</td>\n",
       "      <td>-0.561364</td>\n",
       "    </tr>\n",
       "    <tr>\n",
       "      <th>1</th>\n",
       "      <td>-0.440327</td>\n",
       "      <td>-0.965608</td>\n",
       "      <td>-0.652305</td>\n",
       "      <td>-1.206361</td>\n",
       "      <td>-0.260878</td>\n",
       "      <td>0.064303</td>\n",
       "      <td>1.943495</td>\n",
       "      <td>-0.561364</td>\n",
       "    </tr>\n",
       "    <tr>\n",
       "      <th>2</th>\n",
       "      <td>-0.440327</td>\n",
       "      <td>-0.965608</td>\n",
       "      <td>-0.652305</td>\n",
       "      <td>0.828939</td>\n",
       "      <td>-0.363923</td>\n",
       "      <td>-1.239504</td>\n",
       "      <td>-0.514537</td>\n",
       "      <td>-0.561364</td>\n",
       "    </tr>\n",
       "    <tr>\n",
       "      <th>3</th>\n",
       "      <td>-0.440327</td>\n",
       "      <td>-0.965608</td>\n",
       "      <td>-0.652305</td>\n",
       "      <td>-1.206361</td>\n",
       "      <td>-0.747850</td>\n",
       "      <td>0.512486</td>\n",
       "      <td>1.943495</td>\n",
       "      <td>-0.561364</td>\n",
       "    </tr>\n",
       "    <tr>\n",
       "      <th>4</th>\n",
       "      <td>-0.440327</td>\n",
       "      <td>-0.965608</td>\n",
       "      <td>-0.652305</td>\n",
       "      <td>0.828939</td>\n",
       "      <td>0.196178</td>\n",
       "      <td>-1.239504</td>\n",
       "      <td>-0.514537</td>\n",
       "      <td>-0.561364</td>\n",
       "    </tr>\n",
       "    <tr>\n",
       "      <th>...</th>\n",
       "      <td>...</td>\n",
       "      <td>...</td>\n",
       "      <td>...</td>\n",
       "      <td>...</td>\n",
       "      <td>...</td>\n",
       "      <td>...</td>\n",
       "      <td>...</td>\n",
       "      <td>...</td>\n",
       "    </tr>\n",
       "    <tr>\n",
       "      <th>7027</th>\n",
       "      <td>-0.440327</td>\n",
       "      <td>1.035617</td>\n",
       "      <td>1.533025</td>\n",
       "      <td>0.828939</td>\n",
       "      <td>0.664868</td>\n",
       "      <td>-0.343137</td>\n",
       "      <td>1.943495</td>\n",
       "      <td>-0.561364</td>\n",
       "    </tr>\n",
       "    <tr>\n",
       "      <th>7028</th>\n",
       "      <td>-0.440327</td>\n",
       "      <td>1.035617</td>\n",
       "      <td>1.533025</td>\n",
       "      <td>0.828939</td>\n",
       "      <td>1.276493</td>\n",
       "      <td>1.612573</td>\n",
       "      <td>1.943495</td>\n",
       "      <td>-0.561364</td>\n",
       "    </tr>\n",
       "    <tr>\n",
       "      <th>7029</th>\n",
       "      <td>-0.440327</td>\n",
       "      <td>1.035617</td>\n",
       "      <td>1.533025</td>\n",
       "      <td>0.828939</td>\n",
       "      <td>-1.170004</td>\n",
       "      <td>-0.872808</td>\n",
       "      <td>-0.514537</td>\n",
       "      <td>-0.561364</td>\n",
       "    </tr>\n",
       "    <tr>\n",
       "      <th>7030</th>\n",
       "      <td>2.271039</td>\n",
       "      <td>1.035617</td>\n",
       "      <td>-0.652305</td>\n",
       "      <td>0.828939</td>\n",
       "      <td>0.319168</td>\n",
       "      <td>-1.158016</td>\n",
       "      <td>-0.514537</td>\n",
       "      <td>-0.561364</td>\n",
       "    </tr>\n",
       "    <tr>\n",
       "      <th>7031</th>\n",
       "      <td>-0.440327</td>\n",
       "      <td>-0.965608</td>\n",
       "      <td>-0.652305</td>\n",
       "      <td>0.828939</td>\n",
       "      <td>1.357932</td>\n",
       "      <td>1.368109</td>\n",
       "      <td>-0.514537</td>\n",
       "      <td>1.781374</td>\n",
       "    </tr>\n",
       "  </tbody>\n",
       "</table>\n",
       "<p>7032 rows × 8 columns</p>\n",
       "</div>"
      ],
      "text/plain": [
       "      SeniorCitizen   Partner  Dependents  PaperlessBilling  MonthlyCharges  \\\n",
       "0         -0.440327  1.035617   -0.652305          0.828939       -1.161694   \n",
       "1         -0.440327 -0.965608   -0.652305         -1.206361       -0.260878   \n",
       "2         -0.440327 -0.965608   -0.652305          0.828939       -0.363923   \n",
       "3         -0.440327 -0.965608   -0.652305         -1.206361       -0.747850   \n",
       "4         -0.440327 -0.965608   -0.652305          0.828939        0.196178   \n",
       "...             ...       ...         ...               ...             ...   \n",
       "7027      -0.440327  1.035617    1.533025          0.828939        0.664868   \n",
       "7028      -0.440327  1.035617    1.533025          0.828939        1.276493   \n",
       "7029      -0.440327  1.035617    1.533025          0.828939       -1.170004   \n",
       "7030       2.271039  1.035617   -0.652305          0.828939        0.319168   \n",
       "7031      -0.440327 -0.965608   -0.652305          0.828939        1.357932   \n",
       "\n",
       "        tenure  Contract_One year  Contract_Two year  \n",
       "0    -1.280248          -0.514537          -0.561364  \n",
       "1     0.064303           1.943495          -0.561364  \n",
       "2    -1.239504          -0.514537          -0.561364  \n",
       "3     0.512486           1.943495          -0.561364  \n",
       "4    -1.239504          -0.514537          -0.561364  \n",
       "...        ...                ...                ...  \n",
       "7027 -0.343137           1.943495          -0.561364  \n",
       "7028  1.612573           1.943495          -0.561364  \n",
       "7029 -0.872808          -0.514537          -0.561364  \n",
       "7030 -1.158016          -0.514537          -0.561364  \n",
       "7031  1.368109          -0.514537           1.781374  \n",
       "\n",
       "[7032 rows x 8 columns]"
      ]
     },
     "execution_count": 31,
     "metadata": {},
     "output_type": "execute_result"
    }
   ],
   "source": [
    "\n",
    "scaler = StandardScaler()\n",
    "# transform data\n",
    "X_scaled = pd.DataFrame(scaler.fit_transform(X), columns= X.columns)\n",
    "X_scaled"
   ]
  },
  {
   "cell_type": "markdown",
   "id": "ea0de7f1",
   "metadata": {
    "papermill": {
     "duration": 0.034569,
     "end_time": "2023-09-05T12:18:26.146512",
     "exception": false,
     "start_time": "2023-09-05T12:18:26.111943",
     "status": "completed"
    },
    "tags": []
   },
   "source": [
    "### Train/ Test Split"
   ]
  },
  {
   "cell_type": "code",
   "execution_count": 32,
   "id": "d1e3ab19",
   "metadata": {
    "execution": {
     "iopub.execute_input": "2023-09-05T12:18:26.218314Z",
     "iopub.status.busy": "2023-09-05T12:18:26.217462Z",
     "iopub.status.idle": "2023-09-05T12:18:26.230791Z",
     "shell.execute_reply": "2023-09-05T12:18:26.229546Z"
    },
    "papermill": {
     "duration": 0.052546,
     "end_time": "2023-09-05T12:18:26.233237",
     "exception": false,
     "start_time": "2023-09-05T12:18:26.180691",
     "status": "completed"
    },
    "tags": []
   },
   "outputs": [
    {
     "name": "stdout",
     "output_type": "stream",
     "text": [
      "Percentage of churn in train: 26.58 %\n",
      "Percentage of churn in test: 26.58 %\n"
     ]
    }
   ],
   "source": [
    "X_train, X_test, y_train, y_test = train_test_split(X_scaled, y, stratify = y, test_size=0.2, random_state=33)\n",
    "\n",
    "print(f'Percentage of churn in train: {round(100 * (y_train[y_train == 1].shape[0] / len(y_train)),2)} %')\n",
    "print(f'Percentage of churn in test: {round(100 * (y_test[y_test == 1].shape[0] / len(y_test)),2)} %')"
   ]
  },
  {
   "cell_type": "markdown",
   "id": "1a18086b",
   "metadata": {
    "papermill": {
     "duration": 0.033912,
     "end_time": "2023-09-05T12:18:26.301896",
     "exception": false,
     "start_time": "2023-09-05T12:18:26.267984",
     "status": "completed"
    },
    "tags": []
   },
   "source": [
    "## Logistic Regression"
   ]
  },
  {
   "cell_type": "code",
   "execution_count": 33,
   "id": "6f3c37ab",
   "metadata": {
    "execution": {
     "iopub.execute_input": "2023-09-05T12:18:26.371422Z",
     "iopub.status.busy": "2023-09-05T12:18:26.370142Z",
     "iopub.status.idle": "2023-09-05T12:18:26.414703Z",
     "shell.execute_reply": "2023-09-05T12:18:26.412920Z"
    },
    "papermill": {
     "duration": 0.0839,
     "end_time": "2023-09-05T12:18:26.419502",
     "exception": false,
     "start_time": "2023-09-05T12:18:26.335602",
     "status": "completed"
    },
    "tags": []
   },
   "outputs": [],
   "source": [
    "model_lr = LogisticRegression(random_state=0).fit(X_train, y_train)\n",
    "y_pred = model_lr.predict(X_test)"
   ]
  },
  {
   "cell_type": "code",
   "execution_count": 34,
   "id": "e969f326",
   "metadata": {
    "execution": {
     "iopub.execute_input": "2023-09-05T12:18:26.550689Z",
     "iopub.status.busy": "2023-09-05T12:18:26.550260Z",
     "iopub.status.idle": "2023-09-05T12:18:26.555165Z",
     "shell.execute_reply": "2023-09-05T12:18:26.553976Z"
    },
    "papermill": {
     "duration": 0.064916,
     "end_time": "2023-09-05T12:18:26.557448",
     "exception": false,
     "start_time": "2023-09-05T12:18:26.492532",
     "status": "completed"
    },
    "tags": []
   },
   "outputs": [],
   "source": [
    "#model_lr.predict_proba(X_test)"
   ]
  },
  {
   "cell_type": "code",
   "execution_count": 35,
   "id": "3faf51e3",
   "metadata": {
    "execution": {
     "iopub.execute_input": "2023-09-05T12:18:26.627063Z",
     "iopub.status.busy": "2023-09-05T12:18:26.626565Z",
     "iopub.status.idle": "2023-09-05T12:18:26.635351Z",
     "shell.execute_reply": "2023-09-05T12:18:26.634123Z"
    },
    "papermill": {
     "duration": 0.046851,
     "end_time": "2023-09-05T12:18:26.637986",
     "exception": false,
     "start_time": "2023-09-05T12:18:26.591135",
     "status": "completed"
    },
    "tags": []
   },
   "outputs": [],
   "source": [
    "def model_performance(y_test,y_pred):\n",
    "    \n",
    "    # calculate the accruacy of the model\n",
    "    print(\"Accuracy score of the model\", accuracy_score(y_test,y_pred))\n",
    "    print(\"Classification report \\n\")\n",
    "    print(classification_report(y_test,y_pred))\n",
    "    \n",
    "    fig = plt.figure(figsize = (4,4))\n",
    "    ax = fig.gca()\n",
    "    cnf_matrix_log = confusion_matrix(y_test, y_pred)\n",
    "    sns.heatmap(pd.DataFrame(cnf_matrix_log), annot=True,cmap=\"Reds\" , fmt='g')\n",
    "    ax.xaxis.set_label_position(\"top\")\n",
    "    plt.tight_layout()\n",
    "    plt.title('Confusion matrix Logistic Regression\\n', y=1.1)\n",
    "    "
   ]
  },
  {
   "cell_type": "code",
   "execution_count": 36,
   "id": "0e019cfc",
   "metadata": {
    "execution": {
     "iopub.execute_input": "2023-09-05T12:18:26.707553Z",
     "iopub.status.busy": "2023-09-05T12:18:26.706262Z",
     "iopub.status.idle": "2023-09-05T12:18:27.072935Z",
     "shell.execute_reply": "2023-09-05T12:18:27.071768Z"
    },
    "papermill": {
     "duration": 0.404516,
     "end_time": "2023-09-05T12:18:27.075759",
     "exception": false,
     "start_time": "2023-09-05T12:18:26.671243",
     "status": "completed"
    },
    "tags": []
   },
   "outputs": [
    {
     "name": "stdout",
     "output_type": "stream",
     "text": [
      "Accuracy score of the model 0.8081023454157783\n",
      "Classification report \n",
      "\n",
      "              precision    recall  f1-score   support\n",
      "\n",
      "           0       0.84      0.91      0.87      1033\n",
      "           1       0.68      0.53      0.59       374\n",
      "\n",
      "    accuracy                           0.81      1407\n",
      "   macro avg       0.76      0.72      0.73      1407\n",
      "weighted avg       0.80      0.81      0.80      1407\n",
      "\n"
     ]
    },
    {
     "data": {
      "image/png": "[encoded data removed]",
      "text/plain": [
       "<Figure size 400x400 with 2 Axes>"
      ]
     },
     "metadata": {},
     "output_type": "display_data"
    }
   ],
   "source": [
    "model_performance(y_test,y_pred)"
   ]
  },
  {
   "cell_type": "code",
   "execution_count": 37,
   "id": "edb584f7",
   "metadata": {
    "execution": {
     "iopub.execute_input": "2023-09-05T12:18:27.147519Z",
     "iopub.status.busy": "2023-09-05T12:18:27.147033Z",
     "iopub.status.idle": "2023-09-05T12:18:27.675500Z",
     "shell.execute_reply": "2023-09-05T12:18:27.674040Z"
    },
    "papermill": {
     "duration": 0.566963,
     "end_time": "2023-09-05T12:18:27.678142",
     "exception": false,
     "start_time": "2023-09-05T12:18:27.111179",
     "status": "completed"
    },
    "tags": []
   },
   "outputs": [
    {
     "data": {
      "text/plain": [
       "<matplotlib.legend.Legend at 0x7eb0d59406d0>"
      ]
     },
     "execution_count": 37,
     "metadata": {},
     "output_type": "execute_result"
    },
    {
     "data": {
      "image/png": "[encoded data removed]",
      "text/plain": [
       "<Figure size 640x480 with 1 Axes>"
      ]
     },
     "metadata": {},
     "output_type": "display_data"
    }
   ],
   "source": [
    "    labels=['Churn','Not Churn']\n",
    "    p = model_lr.predict_proba(X_test)\n",
    "    if len(model_lr.classes_)!=2:\n",
    "        raise ValueError('A binary class problem is required')\n",
    "    if model_lr.classes_[1] == 1:\n",
    "        pos_p = p[:,1]\n",
    "    elif model_lr.classes_[0] == 1:\n",
    "        pos_p = p[:,0]\n",
    "    \n",
    "    prob_df = pd.DataFrame({'probPos':pos_p, 'target': y_test})\n",
    "\n",
    "    plt.hist(prob_df[prob_df.target==1].probPos, density=True, bins=25,alpha=.5, color='green',  label=labels[0])\n",
    "    plt.hist(prob_df[prob_df.target==0].probPos, density=True, bins=25,alpha=.5, color='red', label=labels[1])\n",
    "    plt.axvline(.5, color='blue', linestyle='--', label='Boundary')\n",
    "    plt.xlim([0,1])\n",
    "    plt.title('Distributions of Predictions', size=13)\n",
    "    plt.xlabel('Positive Probability (predicted)', size=10)\n",
    "    plt.ylabel('Samples (normalized scale)', size=10)\n",
    "    plt.legend(loc=\"upper right\")"
   ]
  },
  {
   "cell_type": "code",
   "execution_count": 38,
   "id": "d851f208",
   "metadata": {
    "execution": {
     "iopub.execute_input": "2023-09-05T12:18:27.754894Z",
     "iopub.status.busy": "2023-09-05T12:18:27.754431Z",
     "iopub.status.idle": "2023-09-05T12:18:27.898905Z",
     "shell.execute_reply": "2023-09-05T12:18:27.897284Z"
    },
    "papermill": {
     "duration": 0.189268,
     "end_time": "2023-09-05T12:18:27.903140",
     "exception": false,
     "start_time": "2023-09-05T12:18:27.713872",
     "status": "completed"
    },
    "tags": []
   },
   "outputs": [
    {
     "name": "stdout",
     "output_type": "stream",
     "text": [
      "The mean cross-validation accuracy for Logistic Regression is: 0.784 ± 0.012\n"
     ]
    }
   ],
   "source": [
    "cv_results = cross_validate(model_lr, X_train, y_train, cv=5)\n",
    "scores = cv_results[\"test_score\"]\n",
    "print(\"The mean cross-validation accuracy for Logistic Regression is: \"\n",
    "    f\"{scores.mean():.3f} ± {scores.std():.3f}\")"
   ]
  },
  {
   "cell_type": "code",
   "execution_count": 39,
   "id": "327b5894",
   "metadata": {
    "execution": {
     "iopub.execute_input": "2023-09-05T12:18:28.032515Z",
     "iopub.status.busy": "2023-09-05T12:18:28.032126Z",
     "iopub.status.idle": "2023-09-05T12:18:29.981808Z",
     "shell.execute_reply": "2023-09-05T12:18:29.980514Z"
    },
    "papermill": {
     "duration": 2.007513,
     "end_time": "2023-09-05T12:18:29.985645",
     "exception": false,
     "start_time": "2023-09-05T12:18:27.978132",
     "status": "completed"
    },
    "tags": []
   },
   "outputs": [
    {
     "name": "stdout",
     "output_type": "stream",
     "text": [
      "tuned hpyerparameters :(best parameters)  {'C': 0.01, 'penalty': 'l2'}\n",
      "accuracy : 0.7852401661156868\n"
     ]
    }
   ],
   "source": [
    "grid={\"C\":np.logspace(-3,3,7), \"penalty\":[\"l2\"]}\n",
    "logreg_cv=GridSearchCV(model_lr,grid,cv=10)\n",
    "logreg_cv.fit(X_train,y_train)\n",
    "\n",
    "print(\"tuned hpyerparameters :(best parameters) \",logreg_cv.best_params_)\n",
    "print(\"accuracy :\",logreg_cv.best_score_)"
   ]
  },
  {
   "cell_type": "markdown",
   "id": "34f3973f",
   "metadata": {
    "papermill": {
     "duration": 0.055631,
     "end_time": "2023-09-05T12:18:30.115486",
     "exception": false,
     "start_time": "2023-09-05T12:18:30.059855",
     "status": "completed"
    },
    "tags": []
   },
   "source": [
    "## Random Forests"
   ]
  },
  {
   "cell_type": "code",
   "execution_count": 40,
   "id": "5ea04abd",
   "metadata": {
    "execution": {
     "iopub.execute_input": "2023-09-05T12:18:30.191204Z",
     "iopub.status.busy": "2023-09-05T12:18:30.190818Z",
     "iopub.status.idle": "2023-09-05T12:18:32.987514Z",
     "shell.execute_reply": "2023-09-05T12:18:32.986277Z"
    },
    "papermill": {
     "duration": 2.838057,
     "end_time": "2023-09-05T12:18:32.990617",
     "exception": false,
     "start_time": "2023-09-05T12:18:30.152560",
     "status": "completed"
    },
    "tags": []
   },
   "outputs": [],
   "source": [
    "model_rf = RandomForestClassifier(n_estimators=500 , oob_score = True, n_jobs = -1,\n",
    "                                  random_state =50,max_leaf_nodes = 30)\n",
    "model_rf.fit(X_train, y_train)\n",
    "\n",
    "# Make predictions\n",
    "prediction_test = model_rf.predict(X_test)"
   ]
  },
  {
   "cell_type": "code",
   "execution_count": 41,
   "id": "0c193817",
   "metadata": {
    "execution": {
     "iopub.execute_input": "2023-09-05T12:18:33.066581Z",
     "iopub.status.busy": "2023-09-05T12:18:33.066108Z",
     "iopub.status.idle": "2023-09-05T12:18:33.396427Z",
     "shell.execute_reply": "2023-09-05T12:18:33.395063Z"
    },
    "papermill": {
     "duration": 0.373156,
     "end_time": "2023-09-05T12:18:33.400154",
     "exception": false,
     "start_time": "2023-09-05T12:18:33.026998",
     "status": "completed"
    },
    "tags": []
   },
   "outputs": [
    {
     "name": "stdout",
     "output_type": "stream",
     "text": [
      "Accuracy score of the model 0.7945984363894811\n",
      "Classification report \n",
      "\n",
      "              precision    recall  f1-score   support\n",
      "\n",
      "           0       0.82      0.93      0.87      1033\n",
      "           1       0.68      0.43      0.53       374\n",
      "\n",
      "    accuracy                           0.79      1407\n",
      "   macro avg       0.75      0.68      0.70      1407\n",
      "weighted avg       0.78      0.79      0.78      1407\n",
      "\n"
     ]
    },
    {
     "data": {
      "image/png": "[encoded data removed]",
      "text/plain": [
       "<Figure size 400x400 with 2 Axes>"
      ]
     },
     "metadata": {},
     "output_type": "display_data"
    }
   ],
   "source": [
    "model_performance(y_test,prediction_test)"
   ]
  },
  {
   "cell_type": "code",
   "execution_count": 42,
   "id": "b2c687af",
   "metadata": {
    "execution": {
     "iopub.execute_input": "2023-09-05T12:18:33.476710Z",
     "iopub.status.busy": "2023-09-05T12:18:33.476223Z",
     "iopub.status.idle": "2023-09-05T12:18:46.747764Z",
     "shell.execute_reply": "2023-09-05T12:18:46.746585Z"
    },
    "papermill": {
     "duration": 13.313008,
     "end_time": "2023-09-05T12:18:46.750656",
     "exception": false,
     "start_time": "2023-09-05T12:18:33.437648",
     "status": "completed"
    },
    "tags": []
   },
   "outputs": [
    {
     "name": "stdout",
     "output_type": "stream",
     "text": [
      "The mean cross-validation accuracy for Random Forests Model is: 0.795 ± 0.015\n"
     ]
    }
   ],
   "source": [
    "cv_results = cross_validate(model_rf, X_train, y_train, cv=5)\n",
    "scores = cv_results[\"test_score\"]\n",
    "print(\n",
    "    \"The mean cross-validation accuracy for Random Forests Model is: \"\n",
    "    f\"{scores.mean():.3f} ± {scores.std():.3f}\"\n",
    ")"
   ]
  },
  {
   "cell_type": "code",
   "execution_count": null,
   "id": "99f6b67c",
   "metadata": {
    "papermill": {
     "duration": 0.037288,
     "end_time": "2023-09-05T12:18:46.826133",
     "exception": false,
     "start_time": "2023-09-05T12:18:46.788845",
     "status": "completed"
    },
    "tags": []
   },
   "outputs": [],
   "source": []
  },
  {
   "cell_type": "markdown",
   "id": "21c635d7",
   "metadata": {
    "papermill": {
     "duration": 0.035284,
     "end_time": "2023-09-05T12:18:46.898365",
     "exception": false,
     "start_time": "2023-09-05T12:18:46.863081",
     "status": "completed"
    },
    "tags": []
   },
   "source": [
    "## Survival Analysis"
   ]
  },
  {
   "cell_type": "code",
   "execution_count": 43,
   "id": "81c124b9",
   "metadata": {
    "execution": {
     "iopub.execute_input": "2023-09-05T12:18:46.974126Z",
     "iopub.status.busy": "2023-09-05T12:18:46.973695Z",
     "iopub.status.idle": "2023-09-05T12:18:46.978369Z",
     "shell.execute_reply": "2023-09-05T12:18:46.977187Z"
    },
    "papermill": {
     "duration": 0.046575,
     "end_time": "2023-09-05T12:18:46.980918",
     "exception": false,
     "start_time": "2023-09-05T12:18:46.934343",
     "status": "completed"
    },
    "tags": []
   },
   "outputs": [],
   "source": [
    "# !pip install pysurvival # throes an error during installation \n",
    "#! pip install lifelines\n",
    "#!pip install lifetimes"
   ]
  },
  {
   "cell_type": "code",
   "execution_count": 44,
   "id": "1d216bcd",
   "metadata": {
    "execution": {
     "iopub.execute_input": "2023-09-05T12:18:47.055803Z",
     "iopub.status.busy": "2023-09-05T12:18:47.055394Z",
     "iopub.status.idle": "2023-09-05T12:19:06.576382Z",
     "shell.execute_reply": "2023-09-05T12:19:06.574983Z"
    },
    "papermill": {
     "duration": 19.561625,
     "end_time": "2023-09-05T12:19:06.579237",
     "exception": false,
     "start_time": "2023-09-05T12:18:47.017612",
     "status": "completed"
    },
    "tags": []
   },
   "outputs": [
    {
     "name": "stdout",
     "output_type": "stream",
     "text": [
      "Collecting lifelines\r\n",
      "  Downloading lifelines-0.27.7-py3-none-any.whl (409 kB)\r\n",
      "\u001b[2K     \u001b[90m━━━━━━━━━━━━━━━━━━━━━━━━━━━━━━━━━━━━━━━\u001b[0m \u001b[32m409.4/409.4 kB\u001b[0m \u001b[31m8.9 MB/s\u001b[0m eta \u001b[36m0:00:00\u001b[0m\r\n",
      "\u001b[?25hRequirement already satisfied: numpy>=1.14.0 in /opt/conda/lib/python3.10/site-packages (from lifelines) (1.23.5)\r\n",
      "Requirement already satisfied: scipy>=1.2.0 in /opt/conda/lib/python3.10/site-packages (from lifelines) (1.11.2)\r\n",
      "Requirement already satisfied: pandas>=1.0.0 in /opt/conda/lib/python3.10/site-packages (from lifelines) (2.0.3)\r\n",
      "Requirement already satisfied: matplotlib>=3.0 in /opt/conda/lib/python3.10/site-packages (from lifelines) (3.7.2)\r\n",
      "Collecting autograd>=1.5 (from lifelines)\r\n",
      "  Downloading autograd-1.6.2-py3-none-any.whl (49 kB)\r\n",
      "\u001b[2K     \u001b[90m━━━━━━━━━━━━━━━━━━━━━━━━━━━━━━━━━━━━━━━━\u001b[0m \u001b[32m49.3/49.3 kB\u001b[0m \u001b[31m4.0 MB/s\u001b[0m eta \u001b[36m0:00:00\u001b[0m\r\n",
      "\u001b[?25hCollecting autograd-gamma>=0.3 (from lifelines)\r\n",
      "  Downloading autograd-gamma-0.5.0.tar.gz (4.0 kB)\r\n",
      "  Preparing metadata (setup.py) ... \u001b[?25ldone\r\n",
      "\u001b[?25hCollecting formulaic>=0.2.2 (from lifelines)\r\n",
      "  Downloading formulaic-0.6.4-py3-none-any.whl (88 kB)\r\n",
      "\u001b[2K     \u001b[90m━━━━━━━━━━━━━━━━━━━━━━━━━━━━━━━━━━━━━━━━\u001b[0m \u001b[32m88.9/88.9 kB\u001b[0m \u001b[31m7.4 MB/s\u001b[0m eta \u001b[36m0:00:00\u001b[0m\r\n",
      "\u001b[?25hRequirement already satisfied: future>=0.15.2 in /opt/conda/lib/python3.10/site-packages (from autograd>=1.5->lifelines) (0.18.3)\r\n",
      "Collecting astor>=0.8 (from formulaic>=0.2.2->lifelines)\r\n",
      "  Downloading astor-0.8.1-py2.py3-none-any.whl (27 kB)\r\n",
      "Collecting interface-meta>=1.2.0 (from formulaic>=0.2.2->lifelines)\r\n",
      "  Downloading interface_meta-1.3.0-py3-none-any.whl (14 kB)\r\n",
      "Requirement already satisfied: typing-extensions>=4.2.0 in /opt/conda/lib/python3.10/site-packages (from formulaic>=0.2.2->lifelines) (4.6.3)\r\n",
      "Requirement already satisfied: wrapt>=1.0 in /opt/conda/lib/python3.10/site-packages (from formulaic>=0.2.2->lifelines) (1.14.1)\r\n",
      "Requirement already satisfied: contourpy>=1.0.1 in /opt/conda/lib/python3.10/site-packages (from matplotlib>=3.0->lifelines) (1.1.0)\r\n",
      "Requirement already satisfied: cycler>=0.10 in /opt/conda/lib/python3.10/site-packages (from matplotlib>=3.0->lifelines) (0.11.0)\r\n",
      "Requirement already satisfied: fonttools>=4.22.0 in /opt/conda/lib/python3.10/site-packages (from matplotlib>=3.0->lifelines) (4.40.0)\r\n",
      "Requirement already satisfied: kiwisolver>=1.0.1 in /opt/conda/lib/python3.10/site-packages (from matplotlib>=3.0->lifelines) (1.4.4)\r\n",
      "Requirement already satisfied: packaging>=20.0 in /opt/conda/lib/python3.10/site-packages (from matplotlib>=3.0->lifelines) (21.3)\r\n",
      "Requirement already satisfied: pillow>=6.2.0 in /opt/conda/lib/python3.10/site-packages (from matplotlib>=3.0->lifelines) (9.5.0)\r\n",
      "Requirement already satisfied: pyparsing<3.1,>=2.3.1 in /opt/conda/lib/python3.10/site-packages (from matplotlib>=3.0->lifelines) (3.0.9)\r\n",
      "Requirement already satisfied: python-dateutil>=2.7 in /opt/conda/lib/python3.10/site-packages (from matplotlib>=3.0->lifelines) (2.8.2)\r\n",
      "Requirement already satisfied: pytz>=2020.1 in /opt/conda/lib/python3.10/site-packages (from pandas>=1.0.0->lifelines) (2023.3)\r\n",
      "Requirement already satisfied: tzdata>=2022.1 in /opt/conda/lib/python3.10/site-packages (from pandas>=1.0.0->lifelines) (2023.3)\r\n",
      "Requirement already satisfied: six>=1.5 in /opt/conda/lib/python3.10/site-packages (from python-dateutil>=2.7->matplotlib>=3.0->lifelines) (1.16.0)\r\n",
      "Building wheels for collected packages: autograd-gamma\r\n",
      "  Building wheel for autograd-gamma (setup.py) ... \u001b[?25l-\b \bdone\r\n",
      "\u001b[?25h  Created wheel for autograd-gamma: filename=autograd_gamma-0.5.0-py3-none-any.whl size=4031 sha256=9cbe58d0201ea7c5baf8f47f23916d74aaffecb57ee3be55518f402c1a5bdc38\r\n",
      "  Stored in directory: /root/.cache/pip/wheels/25/cc/e0/ef2969164144c899fedb22b338f6703e2b9cf46eeebf254991\r\n",
      "Successfully built autograd-gamma\r\n",
      "Installing collected packages: interface-meta, autograd, astor, autograd-gamma, formulaic, lifelines\r\n",
      "Successfully installed astor-0.8.1 autograd-1.6.2 autograd-gamma-0.5.0 formulaic-0.6.4 interface-meta-1.3.0 lifelines-0.27.7\r\n"
     ]
    }
   ],
   "source": [
    "! pip install lifelines"
   ]
  },
  {
   "cell_type": "code",
   "execution_count": 45,
   "id": "1b7222a8",
   "metadata": {
    "execution": {
     "iopub.execute_input": "2023-09-05T12:19:06.659282Z",
     "iopub.status.busy": "2023-09-05T12:19:06.657764Z",
     "iopub.status.idle": "2023-09-05T12:19:06.814425Z",
     "shell.execute_reply": "2023-09-05T12:19:06.813203Z"
    },
    "papermill": {
     "duration": 0.200572,
     "end_time": "2023-09-05T12:19:06.817802",
     "exception": false,
     "start_time": "2023-09-05T12:19:06.617230",
     "status": "completed"
    },
    "tags": []
   },
   "outputs": [],
   "source": [
    "from lifelines import KaplanMeierFitter\n"
   ]
  },
  {
   "cell_type": "code",
   "execution_count": 46,
   "id": "d7e55520",
   "metadata": {
    "execution": {
     "iopub.execute_input": "2023-09-05T12:19:06.895141Z",
     "iopub.status.busy": "2023-09-05T12:19:06.894702Z",
     "iopub.status.idle": "2023-09-05T12:19:06.922098Z",
     "shell.execute_reply": "2023-09-05T12:19:06.920688Z"
    },
    "papermill": {
     "duration": 0.069445,
     "end_time": "2023-09-05T12:19:06.924757",
     "exception": false,
     "start_time": "2023-09-05T12:19:06.855312",
     "status": "completed"
    },
    "tags": []
   },
   "outputs": [
    {
     "data": {
      "text/html": [
       "<div>\n",
       "<style scoped>\n",
       "    .dataframe tbody tr th:only-of-type {\n",
       "        vertical-align: middle;\n",
       "    }\n",
       "\n",
       "    .dataframe tbody tr th {\n",
       "        vertical-align: top;\n",
       "    }\n",
       "\n",
       "    .dataframe thead th {\n",
       "        text-align: right;\n",
       "    }\n",
       "</style>\n",
       "<table border=\"1\" class=\"dataframe\">\n",
       "  <thead>\n",
       "    <tr style=\"text-align: right;\">\n",
       "      <th></th>\n",
       "      <th>gender</th>\n",
       "      <th>SeniorCitizen</th>\n",
       "      <th>Partner</th>\n",
       "      <th>Dependents</th>\n",
       "      <th>tenure</th>\n",
       "      <th>MultipleLines</th>\n",
       "      <th>InternetService</th>\n",
       "      <th>OnlineSecurity</th>\n",
       "      <th>OnlineBackup</th>\n",
       "      <th>DeviceProtection</th>\n",
       "      <th>TechSupport</th>\n",
       "      <th>StreamingTV</th>\n",
       "      <th>StreamingMovies</th>\n",
       "      <th>Contract</th>\n",
       "      <th>PaperlessBilling</th>\n",
       "      <th>PaymentMethod</th>\n",
       "      <th>MonthlyCharges</th>\n",
       "      <th>Churn</th>\n",
       "    </tr>\n",
       "  </thead>\n",
       "  <tbody>\n",
       "    <tr>\n",
       "      <th>0</th>\n",
       "      <td>Female</td>\n",
       "      <td>0</td>\n",
       "      <td>1</td>\n",
       "      <td>0</td>\n",
       "      <td>1</td>\n",
       "      <td>No phone service</td>\n",
       "      <td>DSL</td>\n",
       "      <td>No</td>\n",
       "      <td>Yes</td>\n",
       "      <td>No</td>\n",
       "      <td>No</td>\n",
       "      <td>No</td>\n",
       "      <td>No</td>\n",
       "      <td>Month-to-month</td>\n",
       "      <td>1</td>\n",
       "      <td>Electronic check</td>\n",
       "      <td>29.85</td>\n",
       "      <td>0</td>\n",
       "    </tr>\n",
       "    <tr>\n",
       "      <th>1</th>\n",
       "      <td>Male</td>\n",
       "      <td>0</td>\n",
       "      <td>0</td>\n",
       "      <td>0</td>\n",
       "      <td>34</td>\n",
       "      <td>No</td>\n",
       "      <td>DSL</td>\n",
       "      <td>Yes</td>\n",
       "      <td>No</td>\n",
       "      <td>Yes</td>\n",
       "      <td>No</td>\n",
       "      <td>No</td>\n",
       "      <td>No</td>\n",
       "      <td>One year</td>\n",
       "      <td>0</td>\n",
       "      <td>Mailed check</td>\n",
       "      <td>56.95</td>\n",
       "      <td>0</td>\n",
       "    </tr>\n",
       "    <tr>\n",
       "      <th>2</th>\n",
       "      <td>Male</td>\n",
       "      <td>0</td>\n",
       "      <td>0</td>\n",
       "      <td>0</td>\n",
       "      <td>2</td>\n",
       "      <td>No</td>\n",
       "      <td>DSL</td>\n",
       "      <td>Yes</td>\n",
       "      <td>Yes</td>\n",
       "      <td>No</td>\n",
       "      <td>No</td>\n",
       "      <td>No</td>\n",
       "      <td>No</td>\n",
       "      <td>Month-to-month</td>\n",
       "      <td>1</td>\n",
       "      <td>Mailed check</td>\n",
       "      <td>53.85</td>\n",
       "      <td>1</td>\n",
       "    </tr>\n",
       "  </tbody>\n",
       "</table>\n",
       "</div>"
      ],
      "text/plain": [
       "   gender  SeniorCitizen  Partner  Dependents  tenure     MultipleLines  \\\n",
       "0  Female              0        1           0       1  No phone service   \n",
       "1    Male              0        0           0      34                No   \n",
       "2    Male              0        0           0       2                No   \n",
       "\n",
       "  InternetService OnlineSecurity OnlineBackup DeviceProtection TechSupport  \\\n",
       "0             DSL             No          Yes               No          No   \n",
       "1             DSL            Yes           No              Yes          No   \n",
       "2             DSL            Yes          Yes               No          No   \n",
       "\n",
       "  StreamingTV StreamingMovies        Contract  PaperlessBilling  \\\n",
       "0          No              No  Month-to-month                 1   \n",
       "1          No              No        One year                 0   \n",
       "2          No              No  Month-to-month                 1   \n",
       "\n",
       "      PaymentMethod  MonthlyCharges  Churn  \n",
       "0  Electronic check           29.85      0  \n",
       "1      Mailed check           56.95      0  \n",
       "2      Mailed check           53.85      1  "
      ]
     },
     "execution_count": 46,
     "metadata": {},
     "output_type": "execute_result"
    }
   ],
   "source": [
    "input_data = df.copy()\n",
    "input_data.head(3)"
   ]
  },
  {
   "cell_type": "code",
   "execution_count": 47,
   "id": "79762f26",
   "metadata": {
    "execution": {
     "iopub.execute_input": "2023-09-05T12:19:07.002101Z",
     "iopub.status.busy": "2023-09-05T12:19:07.001664Z",
     "iopub.status.idle": "2023-09-05T12:19:07.351022Z",
     "shell.execute_reply": "2023-09-05T12:19:07.349850Z"
    },
    "papermill": {
     "duration": 0.390958,
     "end_time": "2023-09-05T12:19:07.353379",
     "exception": false,
     "start_time": "2023-09-05T12:19:06.962421",
     "status": "completed"
    },
    "tags": []
   },
   "outputs": [
    {
     "data": {
      "text/plain": [
       "<Axes: xlabel='timeline'>"
      ]
     },
     "execution_count": 47,
     "metadata": {},
     "output_type": "execute_result"
    },
    {
     "data": {
      "image/png": "[encoded data removed]",
      "text/plain": [
       "<Figure size 640x480 with 1 Axes>"
      ]
     },
     "metadata": {},
     "output_type": "display_data"
    }
   ],
   "source": [
    "T = input_data['tenure']\n",
    "E = input_data['Churn']\n",
    "\n",
    "kmf = KaplanMeierFitter()\n",
    "kmf.fit(T, E)\n",
    "\n",
    "kmf.survival_function_\n",
    "kmf.cumulative_density_\n",
    "kmf.plot_survival_function()"
   ]
  },
  {
   "cell_type": "code",
   "execution_count": 48,
   "id": "d4deca3e",
   "metadata": {
    "execution": {
     "iopub.execute_input": "2023-09-05T12:19:07.432321Z",
     "iopub.status.busy": "2023-09-05T12:19:07.431913Z",
     "iopub.status.idle": "2023-09-05T12:19:07.878601Z",
     "shell.execute_reply": "2023-09-05T12:19:07.877336Z"
    },
    "papermill": {
     "duration": 0.48942,
     "end_time": "2023-09-05T12:19:07.881319",
     "exception": false,
     "start_time": "2023-09-05T12:19:07.391899",
     "status": "completed"
    },
    "tags": []
   },
   "outputs": [
    {
     "data": {
      "image/png": "[encoded data removed]",
      "text/plain": [
       "<Figure size 640x480 with 1 Axes>"
      ]
     },
     "metadata": {},
     "output_type": "display_data"
    }
   ],
   "source": [
    "ax = plt.subplot(111)\n",
    "\n",
    "for name, grouped_df in input_data.groupby('Contract'):\n",
    "    kmf.fit(grouped_df[\"tenure\"], grouped_df[\"Churn\"], label=name)\n",
    "    kmf.plot_survival_function(ax=ax)"
   ]
  },
  {
   "cell_type": "code",
   "execution_count": 49,
   "id": "5aedf864",
   "metadata": {
    "execution": {
     "iopub.execute_input": "2023-09-05T12:19:07.963757Z",
     "iopub.status.busy": "2023-09-05T12:19:07.963346Z",
     "iopub.status.idle": "2023-09-05T12:19:08.477881Z",
     "shell.execute_reply": "2023-09-05T12:19:08.476568Z"
    },
    "papermill": {
     "duration": 0.558603,
     "end_time": "2023-09-05T12:19:08.480548",
     "exception": false,
     "start_time": "2023-09-05T12:19:07.921945",
     "status": "completed"
    },
    "tags": []
   },
   "outputs": [
    {
     "data": {
      "image/png": "[encoded data removed]",
      "text/plain": [
       "<Figure size 640x480 with 1 Axes>"
      ]
     },
     "metadata": {},
     "output_type": "display_data"
    }
   ],
   "source": [
    "ax = plt.subplot(111)\n",
    "\n",
    "for name, grouped_df in input_data.groupby('PaymentMethod'):\n",
    "    kmf.fit(grouped_df[\"tenure\"], grouped_df[\"Churn\"], label=name)\n",
    "    kmf.plot_survival_function(ax=ax)"
   ]
  },
  {
   "cell_type": "code",
   "execution_count": 50,
   "id": "ae108fe6",
   "metadata": {
    "execution": {
     "iopub.execute_input": "2023-09-05T12:19:08.563575Z",
     "iopub.status.busy": "2023-09-05T12:19:08.563141Z",
     "iopub.status.idle": "2023-09-05T12:19:08.579544Z",
     "shell.execute_reply": "2023-09-05T12:19:08.578347Z"
    },
    "papermill": {
     "duration": 0.061311,
     "end_time": "2023-09-05T12:19:08.582133",
     "exception": false,
     "start_time": "2023-09-05T12:19:08.520822",
     "status": "completed"
    },
    "tags": []
   },
   "outputs": [
    {
     "data": {
      "text/html": [
       "<div>\n",
       "<style scoped>\n",
       "    .dataframe tbody tr th:only-of-type {\n",
       "        vertical-align: middle;\n",
       "    }\n",
       "\n",
       "    .dataframe tbody tr th {\n",
       "        vertical-align: top;\n",
       "    }\n",
       "\n",
       "    .dataframe thead th {\n",
       "        text-align: right;\n",
       "    }\n",
       "</style>\n",
       "<table border=\"1\" class=\"dataframe\">\n",
       "  <thead>\n",
       "    <tr style=\"text-align: right;\">\n",
       "      <th></th>\n",
       "      <th>SeniorCitizen</th>\n",
       "      <th>Partner</th>\n",
       "      <th>Dependents</th>\n",
       "      <th>PaperlessBilling</th>\n",
       "      <th>MonthlyCharges</th>\n",
       "      <th>tenure</th>\n",
       "      <th>Churn</th>\n",
       "      <th>Contract_One year</th>\n",
       "      <th>Contract_Two year</th>\n",
       "    </tr>\n",
       "  </thead>\n",
       "  <tbody>\n",
       "    <tr>\n",
       "      <th>0</th>\n",
       "      <td>0</td>\n",
       "      <td>1</td>\n",
       "      <td>0</td>\n",
       "      <td>1</td>\n",
       "      <td>29.85</td>\n",
       "      <td>1</td>\n",
       "      <td>0</td>\n",
       "      <td>0</td>\n",
       "      <td>0</td>\n",
       "    </tr>\n",
       "    <tr>\n",
       "      <th>1</th>\n",
       "      <td>0</td>\n",
       "      <td>0</td>\n",
       "      <td>0</td>\n",
       "      <td>0</td>\n",
       "      <td>56.95</td>\n",
       "      <td>34</td>\n",
       "      <td>0</td>\n",
       "      <td>1</td>\n",
       "      <td>0</td>\n",
       "    </tr>\n",
       "    <tr>\n",
       "      <th>2</th>\n",
       "      <td>0</td>\n",
       "      <td>0</td>\n",
       "      <td>0</td>\n",
       "      <td>1</td>\n",
       "      <td>53.85</td>\n",
       "      <td>2</td>\n",
       "      <td>1</td>\n",
       "      <td>0</td>\n",
       "      <td>0</td>\n",
       "    </tr>\n",
       "    <tr>\n",
       "      <th>3</th>\n",
       "      <td>0</td>\n",
       "      <td>0</td>\n",
       "      <td>0</td>\n",
       "      <td>0</td>\n",
       "      <td>42.30</td>\n",
       "      <td>45</td>\n",
       "      <td>0</td>\n",
       "      <td>1</td>\n",
       "      <td>0</td>\n",
       "    </tr>\n",
       "    <tr>\n",
       "      <th>4</th>\n",
       "      <td>0</td>\n",
       "      <td>0</td>\n",
       "      <td>0</td>\n",
       "      <td>1</td>\n",
       "      <td>70.70</td>\n",
       "      <td>2</td>\n",
       "      <td>1</td>\n",
       "      <td>0</td>\n",
       "      <td>0</td>\n",
       "    </tr>\n",
       "  </tbody>\n",
       "</table>\n",
       "</div>"
      ],
      "text/plain": [
       "   SeniorCitizen  Partner  Dependents  PaperlessBilling  MonthlyCharges  \\\n",
       "0              0        1           0                 1           29.85   \n",
       "1              0        0           0                 0           56.95   \n",
       "2              0        0           0                 1           53.85   \n",
       "3              0        0           0                 0           42.30   \n",
       "4              0        0           0                 1           70.70   \n",
       "\n",
       "   tenure  Churn  Contract_One year  Contract_Two year  \n",
       "0       1      0                  0                  0  \n",
       "1      34      0                  1                  0  \n",
       "2       2      1                  0                  0  \n",
       "3      45      0                  1                  0  \n",
       "4       2      1                  0                  0  "
      ]
     },
     "execution_count": 50,
     "metadata": {},
     "output_type": "execute_result"
    }
   ],
   "source": [
    "all_features_df.head()"
   ]
  },
  {
   "cell_type": "code",
   "execution_count": 51,
   "id": "fef82953",
   "metadata": {
    "execution": {
     "iopub.execute_input": "2023-09-05T12:19:08.666046Z",
     "iopub.status.busy": "2023-09-05T12:19:08.665518Z",
     "iopub.status.idle": "2023-09-05T12:19:08.678501Z",
     "shell.execute_reply": "2023-09-05T12:19:08.676857Z"
    },
    "papermill": {
     "duration": 0.058449,
     "end_time": "2023-09-05T12:19:08.681518",
     "exception": false,
     "start_time": "2023-09-05T12:19:08.623069",
     "status": "completed"
    },
    "tags": []
   },
   "outputs": [],
   "source": [
    "X_tr, X_te, y_tr, y_te = train_test_split(X, y, stratify = y, test_size=0.2, random_state=33)"
   ]
  },
  {
   "cell_type": "code",
   "execution_count": 52,
   "id": "e939339a",
   "metadata": {
    "execution": {
     "iopub.execute_input": "2023-09-05T12:19:08.764947Z",
     "iopub.status.busy": "2023-09-05T12:19:08.763586Z",
     "iopub.status.idle": "2023-09-05T12:19:08.770114Z",
     "shell.execute_reply": "2023-09-05T12:19:08.768948Z"
    },
    "papermill": {
     "duration": 0.050997,
     "end_time": "2023-09-05T12:19:08.772694",
     "exception": false,
     "start_time": "2023-09-05T12:19:08.721697",
     "status": "completed"
    },
    "tags": []
   },
   "outputs": [],
   "source": [
    "X_tr.loc[:,'Churn'] = y_tr"
   ]
  },
  {
   "cell_type": "code",
   "execution_count": 53,
   "id": "a3080208",
   "metadata": {
    "execution": {
     "iopub.execute_input": "2023-09-05T12:19:08.858174Z",
     "iopub.status.busy": "2023-09-05T12:19:08.857676Z",
     "iopub.status.idle": "2023-09-05T12:19:09.595267Z",
     "shell.execute_reply": "2023-09-05T12:19:09.593818Z"
    },
    "papermill": {
     "duration": 0.783593,
     "end_time": "2023-09-05T12:19:09.598162",
     "exception": false,
     "start_time": "2023-09-05T12:19:08.814569",
     "status": "completed"
    },
    "tags": []
   },
   "outputs": [
    {
     "data": {
      "text/html": [
       "<div>\n",
       "<style scoped>\n",
       "    .dataframe tbody tr th:only-of-type {\n",
       "        vertical-align: middle;\n",
       "    }\n",
       "\n",
       "    .dataframe tbody tr th {\n",
       "        vertical-align: top;\n",
       "    }\n",
       "\n",
       "    .dataframe thead th {\n",
       "        text-align: right;\n",
       "    }\n",
       "</style>\n",
       "<table border=\"1\" class=\"dataframe\">\n",
       "  <tbody>\n",
       "    <tr>\n",
       "      <th>model</th>\n",
       "      <td>lifelines.CoxPHFitter</td>\n",
       "    </tr>\n",
       "    <tr>\n",
       "      <th>duration col</th>\n",
       "      <td>'tenure'</td>\n",
       "    </tr>\n",
       "    <tr>\n",
       "      <th>event col</th>\n",
       "      <td>'Churn'</td>\n",
       "    </tr>\n",
       "    <tr>\n",
       "      <th>baseline estimation</th>\n",
       "      <td>breslow</td>\n",
       "    </tr>\n",
       "    <tr>\n",
       "      <th>number of observations</th>\n",
       "      <td>5625</td>\n",
       "    </tr>\n",
       "    <tr>\n",
       "      <th>number of events observed</th>\n",
       "      <td>1495</td>\n",
       "    </tr>\n",
       "    <tr>\n",
       "      <th>partial log-likelihood</th>\n",
       "      <td>-11050.91</td>\n",
       "    </tr>\n",
       "    <tr>\n",
       "      <th>time fit was run</th>\n",
       "      <td>2023-09-05 12:19:08 UTC</td>\n",
       "    </tr>\n",
       "  </tbody>\n",
       "</table>\n",
       "</div><table border=\"1\" class=\"dataframe\">\n",
       "  <thead>\n",
       "    <tr style=\"text-align: right;\">\n",
       "      <th style=\"min-width: 12px;\"></th>\n",
       "      <th style=\"min-width: 12px;\">coef</th>\n",
       "      <th style=\"min-width: 12px;\">exp(coef)</th>\n",
       "      <th style=\"min-width: 12px;\">se(coef)</th>\n",
       "      <th style=\"min-width: 12px;\">coef lower 95%</th>\n",
       "      <th style=\"min-width: 12px;\">coef upper 95%</th>\n",
       "      <th style=\"min-width: 12px;\">exp(coef) lower 95%</th>\n",
       "      <th style=\"min-width: 12px;\">exp(coef) upper 95%</th>\n",
       "      <th style=\"min-width: 12px;\">cmp to</th>\n",
       "      <th style=\"min-width: 12px;\">z</th>\n",
       "      <th style=\"min-width: 12px;\">p</th>\n",
       "      <th style=\"min-width: 12px;\">-log2(p)</th>\n",
       "    </tr>\n",
       "  </thead>\n",
       "  <tbody>\n",
       "    <tr>\n",
       "      <th>SeniorCitizen</th>\n",
       "      <td>0.03</td>\n",
       "      <td>1.03</td>\n",
       "      <td>0.06</td>\n",
       "      <td>-0.09</td>\n",
       "      <td>0.15</td>\n",
       "      <td>0.91</td>\n",
       "      <td>1.16</td>\n",
       "      <td>0.00</td>\n",
       "      <td>0.49</td>\n",
       "      <td>0.63</td>\n",
       "      <td>0.68</td>\n",
       "    </tr>\n",
       "    <tr>\n",
       "      <th>Partner</th>\n",
       "      <td>-0.60</td>\n",
       "      <td>0.55</td>\n",
       "      <td>0.06</td>\n",
       "      <td>-0.72</td>\n",
       "      <td>-0.48</td>\n",
       "      <td>0.49</td>\n",
       "      <td>0.62</td>\n",
       "      <td>0.00</td>\n",
       "      <td>-9.82</td>\n",
       "      <td>&lt;0.005</td>\n",
       "      <td>73.18</td>\n",
       "    </tr>\n",
       "    <tr>\n",
       "      <th>Dependents</th>\n",
       "      <td>-0.12</td>\n",
       "      <td>0.89</td>\n",
       "      <td>0.07</td>\n",
       "      <td>-0.26</td>\n",
       "      <td>0.03</td>\n",
       "      <td>0.77</td>\n",
       "      <td>1.03</td>\n",
       "      <td>0.00</td>\n",
       "      <td>-1.54</td>\n",
       "      <td>0.12</td>\n",
       "      <td>3.03</td>\n",
       "    </tr>\n",
       "    <tr>\n",
       "      <th>PaperlessBilling</th>\n",
       "      <td>0.24</td>\n",
       "      <td>1.28</td>\n",
       "      <td>0.06</td>\n",
       "      <td>0.12</td>\n",
       "      <td>0.37</td>\n",
       "      <td>1.13</td>\n",
       "      <td>1.44</td>\n",
       "      <td>0.00</td>\n",
       "      <td>3.84</td>\n",
       "      <td>&lt;0.005</td>\n",
       "      <td>12.99</td>\n",
       "    </tr>\n",
       "    <tr>\n",
       "      <th>MonthlyCharges</th>\n",
       "      <td>-0.00</td>\n",
       "      <td>1.00</td>\n",
       "      <td>0.00</td>\n",
       "      <td>-0.00</td>\n",
       "      <td>0.00</td>\n",
       "      <td>1.00</td>\n",
       "      <td>1.00</td>\n",
       "      <td>0.00</td>\n",
       "      <td>-0.44</td>\n",
       "      <td>0.66</td>\n",
       "      <td>0.60</td>\n",
       "    </tr>\n",
       "    <tr>\n",
       "      <th>Contract_One year</th>\n",
       "      <td>-2.13</td>\n",
       "      <td>0.12</td>\n",
       "      <td>0.10</td>\n",
       "      <td>-2.31</td>\n",
       "      <td>-1.94</td>\n",
       "      <td>0.10</td>\n",
       "      <td>0.14</td>\n",
       "      <td>0.00</td>\n",
       "      <td>-22.33</td>\n",
       "      <td>&lt;0.005</td>\n",
       "      <td>364.37</td>\n",
       "    </tr>\n",
       "    <tr>\n",
       "      <th>Contract_Two year</th>\n",
       "      <td>-4.01</td>\n",
       "      <td>0.02</td>\n",
       "      <td>0.17</td>\n",
       "      <td>-4.35</td>\n",
       "      <td>-3.67</td>\n",
       "      <td>0.01</td>\n",
       "      <td>0.03</td>\n",
       "      <td>0.00</td>\n",
       "      <td>-23.09</td>\n",
       "      <td>&lt;0.005</td>\n",
       "      <td>389.58</td>\n",
       "    </tr>\n",
       "  </tbody>\n",
       "</table><br><div>\n",
       "<style scoped>\n",
       "    .dataframe tbody tr th:only-of-type {\n",
       "        vertical-align: middle;\n",
       "    }\n",
       "\n",
       "    .dataframe tbody tr th {\n",
       "        vertical-align: top;\n",
       "    }\n",
       "\n",
       "    .dataframe thead th {\n",
       "        text-align: right;\n",
       "    }\n",
       "</style>\n",
       "<table border=\"1\" class=\"dataframe\">\n",
       "  <tbody>\n",
       "    <tr>\n",
       "      <th>Concordance</th>\n",
       "      <td>0.82</td>\n",
       "    </tr>\n",
       "    <tr>\n",
       "      <th>Partial AIC</th>\n",
       "      <td>22115.81</td>\n",
       "    </tr>\n",
       "    <tr>\n",
       "      <th>log-likelihood ratio test</th>\n",
       "      <td>2254.94 on 7 df</td>\n",
       "    </tr>\n",
       "    <tr>\n",
       "      <th>-log2(p) of ll-ratio test</th>\n",
       "      <td>inf</td>\n",
       "    </tr>\n",
       "  </tbody>\n",
       "</table>\n",
       "</div>"
      ],
      "text/latex": [
       "\\begin{tabular}{lrrrrrrrrrrr}\n",
       " & coef & exp(coef) & se(coef) & coef lower 95% & coef upper 95% & exp(coef) lower 95% & exp(coef) upper 95% & cmp to & z & p & -log2(p) \\\\\n",
       "covariate &  &  &  &  &  &  &  &  &  &  &  \\\\\n",
       "SeniorCitizen & 0.03 & 1.03 & 0.06 & -0.09 & 0.15 & 0.91 & 1.16 & 0.00 & 0.49 & 0.63 & 0.68 \\\\\n",
       "Partner & -0.60 & 0.55 & 0.06 & -0.72 & -0.48 & 0.49 & 0.62 & 0.00 & -9.82 & 0.00 & 73.18 \\\\\n",
       "Dependents & -0.12 & 0.89 & 0.07 & -0.26 & 0.03 & 0.77 & 1.03 & 0.00 & -1.54 & 0.12 & 3.03 \\\\\n",
       "PaperlessBilling & 0.24 & 1.28 & 0.06 & 0.12 & 0.37 & 1.13 & 1.44 & 0.00 & 3.84 & 0.00 & 12.99 \\\\\n",
       "MonthlyCharges & -0.00 & 1.00 & 0.00 & -0.00 & 0.00 & 1.00 & 1.00 & 0.00 & -0.44 & 0.66 & 0.60 \\\\\n",
       "Contract_One year & -2.13 & 0.12 & 0.10 & -2.31 & -1.94 & 0.10 & 0.14 & 0.00 & -22.33 & 0.00 & 364.37 \\\\\n",
       "Contract_Two year & -4.01 & 0.02 & 0.17 & -4.35 & -3.67 & 0.01 & 0.03 & 0.00 & -23.09 & 0.00 & 389.58 \\\\\n",
       "\\end{tabular}\n"
      ],
      "text/plain": [
       "<lifelines.CoxPHFitter: fitted with 5625 total observations, 4130 right-censored observations>\n",
       "             duration col = 'tenure'\n",
       "                event col = 'Churn'\n",
       "      baseline estimation = breslow\n",
       "   number of observations = 5625\n",
       "number of events observed = 1495\n",
       "   partial log-likelihood = -11050.91\n",
       "         time fit was run = 2023-09-05 12:19:08 UTC\n",
       "\n",
       "---\n",
       "                    coef  exp(coef)   se(coef)   coef lower 95%   coef upper 95%  exp(coef) lower 95%  exp(coef) upper 95%\n",
       "covariate                                                                                                                 \n",
       "SeniorCitizen       0.03       1.03       0.06            -0.09             0.15                 0.91                 1.16\n",
       "Partner            -0.60       0.55       0.06            -0.72            -0.48                 0.49                 0.62\n",
       "Dependents         -0.12       0.89       0.07            -0.26             0.03                 0.77                 1.03\n",
       "PaperlessBilling    0.24       1.28       0.06             0.12             0.37                 1.13                 1.44\n",
       "MonthlyCharges     -0.00       1.00       0.00            -0.00             0.00                 1.00                 1.00\n",
       "Contract_One year  -2.13       0.12       0.10            -2.31            -1.94                 0.10                 0.14\n",
       "Contract_Two year  -4.01       0.02       0.17            -4.35            -3.67                 0.01                 0.03\n",
       "\n",
       "                    cmp to      z      p   -log2(p)\n",
       "covariate                                          \n",
       "SeniorCitizen         0.00   0.49   0.63       0.68\n",
       "Partner               0.00  -9.82 <0.005      73.18\n",
       "Dependents            0.00  -1.54   0.12       3.03\n",
       "PaperlessBilling      0.00   3.84 <0.005      12.99\n",
       "MonthlyCharges        0.00  -0.44   0.66       0.60\n",
       "Contract_One year     0.00 -22.33 <0.005     364.37\n",
       "Contract_Two year     0.00 -23.09 <0.005     389.58\n",
       "---\n",
       "Concordance = 0.82\n",
       "Partial AIC = 22115.81\n",
       "log-likelihood ratio test = 2254.94 on 7 df\n",
       "-log2(p) of ll-ratio test = inf"
      ]
     },
     "metadata": {},
     "output_type": "display_data"
    }
   ],
   "source": [
    "from lifelines import CoxPHFitter\n",
    "\n",
    "cph = CoxPHFitter()\n",
    "cph.fit(X_tr, duration_col='tenure', event_col='Churn')\n",
    "\n",
    "cph.print_summary() "
   ]
  },
  {
   "cell_type": "code",
   "execution_count": 54,
   "id": "ae31ed3c",
   "metadata": {
    "execution": {
     "iopub.execute_input": "2023-09-05T12:19:09.685344Z",
     "iopub.status.busy": "2023-09-05T12:19:09.684784Z",
     "iopub.status.idle": "2023-09-05T12:19:09.975008Z",
     "shell.execute_reply": "2023-09-05T12:19:09.973567Z"
    },
    "papermill": {
     "duration": 0.33734,
     "end_time": "2023-09-05T12:19:09.977453",
     "exception": false,
     "start_time": "2023-09-05T12:19:09.640113",
     "status": "completed"
    },
    "tags": []
   },
   "outputs": [
    {
     "data": {
      "text/plain": [
       "<Axes: xlabel='log(HR) (95% CI)'>"
      ]
     },
     "execution_count": 54,
     "metadata": {},
     "output_type": "execute_result"
    },
    {
     "data": {
      "image/png": "[encoded data removed]",
      "text/plain": [
       "<Figure size 640x480 with 1 Axes>"
      ]
     },
     "metadata": {},
     "output_type": "display_data"
    }
   ],
   "source": [
    "cph.plot()"
   ]
  },
  {
   "cell_type": "code",
   "execution_count": 55,
   "id": "ab0369c8",
   "metadata": {
    "execution": {
     "iopub.execute_input": "2023-09-05T12:19:10.065200Z",
     "iopub.status.busy": "2023-09-05T12:19:10.064800Z",
     "iopub.status.idle": "2023-09-05T12:19:10.291141Z",
     "shell.execute_reply": "2023-09-05T12:19:10.289468Z"
    },
    "papermill": {
     "duration": 0.274971,
     "end_time": "2023-09-05T12:19:10.295571",
     "exception": false,
     "start_time": "2023-09-05T12:19:10.020600",
     "status": "completed"
    },
    "tags": []
   },
   "outputs": [
    {
     "data": {
      "text/plain": [
       "3466    0.055697\n",
       "2751    3.083194\n",
       "4049    0.321284\n",
       "2601    0.053774\n",
       "1440    0.288525\n",
       "          ...   \n",
       "73      0.055719\n",
       "1151    4.950420\n",
       "1329    0.049137\n",
       "5447    4.889554\n",
       "1389    3.451267\n",
       "Length: 1407, dtype: float64"
      ]
     },
     "execution_count": 55,
     "metadata": {},
     "output_type": "execute_result"
    }
   ],
   "source": [
    "cph.predict_survival_function(X_te)\n",
    "cph.predict_median(X_te)\n",
    "cph.predict_partial_hazard(X_te)"
   ]
  },
  {
   "cell_type": "code",
   "execution_count": null,
   "id": "d2696c7a",
   "metadata": {
    "papermill": {
     "duration": 0.049224,
     "end_time": "2023-09-05T12:19:10.436016",
     "exception": false,
     "start_time": "2023-09-05T12:19:10.386792",
     "status": "completed"
    },
    "tags": []
   },
   "outputs": [],
   "source": []
  },
  {
   "cell_type": "code",
   "execution_count": 56,
   "id": "aec6f451",
   "metadata": {
    "execution": {
     "iopub.execute_input": "2023-09-05T12:19:10.521214Z",
     "iopub.status.busy": "2023-09-05T12:19:10.520830Z",
     "iopub.status.idle": "2023-09-05T12:19:10.907981Z",
     "shell.execute_reply": "2023-09-05T12:19:10.906829Z"
    },
    "papermill": {
     "duration": 0.433566,
     "end_time": "2023-09-05T12:19:10.911148",
     "exception": false,
     "start_time": "2023-09-05T12:19:10.477582",
     "status": "completed"
    },
    "tags": []
   },
   "outputs": [
    {
     "data": {
      "text/plain": [
       "<Axes: >"
      ]
     },
     "execution_count": 56,
     "metadata": {},
     "output_type": "execute_result"
    },
    {
     "data": {
      "image/png": "[encoded data removed]",
      "text/plain": [
       "<Figure size 640x480 with 1 Axes>"
      ]
     },
     "metadata": {},
     "output_type": "display_data"
    }
   ],
   "source": [
    "cph.predict_survival_function(X_te.head()).plot()"
   ]
  },
  {
   "cell_type": "code",
   "execution_count": null,
   "id": "e43ee3f2",
   "metadata": {
    "papermill": {
     "duration": 0.041566,
     "end_time": "2023-09-05T12:19:10.996068",
     "exception": false,
     "start_time": "2023-09-05T12:19:10.954502",
     "status": "completed"
    },
    "tags": []
   },
   "outputs": [],
   "source": []
  }
 ],
 "kernelspec": {
  "display_name": "Python 3",
  "language": "python",
  "name": "python3"
 },
 "language_info": {
  "codemirror_mode": {
   "name": "ipython",
   "version": 3
  },
  "file_extension": ".py",
  "mimetype": "text/x-python",
  "name": "python",
  "nbconvert_exporter": "python",
  "pygments_lexer": "ipython3",
  "version": "3.6.4"
 },
 "metadata": {
  "kernelspec": {
   "display_name": "Python 3",
   "language": "python",
   "name": "python3"
  },
  "language_info": {
   "codemirror_mode": {
    "name": "ipython",
    "version": 3
   },
   "file_extension": ".py",
   "mimetype": "text/x-python",
   "name": "python",
   "nbconvert_exporter": "python",
   "pygments_lexer": "ipython3",
   "version": "3.10.12"
  },
  "papermill": {
   "default_parameters": {},
   "duration": 58.611232,
   "end_time": "2023-09-05T12:19:11.862067",
   "environment_variables": {},
   "exception": null,
   "input_path": "__notebook__.ipynb",
   "output_path": "__notebook__.ipynb",
   "parameters": {},
   "start_time": "2023-09-05T12:18:13.250835",
   "version": "2.4.0"
  }
 },
 "nbformat": 4,
 "nbformat_minor": 5
}
