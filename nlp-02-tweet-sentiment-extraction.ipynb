{
 "cells": [
  {
   "cell_type": "code",
   "execution_count": 1,
   "id": "9b6fd5e2",
   "metadata": {
    "_cell_guid": "b1076dfc-b9ad-4769-8c92-a6c4dae69d19",
    "_uuid": "8f2839f25d086af736a60e9eeb907d3b93b6e0e5",
    "execution": {
     "iopub.execute_input": "2023-04-14T01:48:51.092604Z",
     "iopub.status.busy": "2023-04-14T01:48:51.092145Z",
     "iopub.status.idle": "2023-04-14T01:48:51.111346Z",
     "shell.execute_reply": "2023-04-14T01:48:51.110423Z"
    },
    "papermill": {
     "duration": 0.032867,
     "end_time": "2023-04-14T01:48:51.114244",
     "exception": false,
     "start_time": "2023-04-14T01:48:51.081377",
     "status": "completed"
    },
    "tags": []
   },
   "outputs": [
    {
     "name": "stdout",
     "output_type": "stream",
     "text": [
      "/kaggle/input/tweetsentiment/sample_submission.csv\n",
      "/kaggle/input/tweetsentiment/train.csv\n",
      "/kaggle/input/tweetsentiment/test.csv\n"
     ]
    }
   ],
   "source": [
    "import os\n",
    "for dirname, _, filenames in os.walk('/kaggle/input'):\n",
    "    for filename in filenames:\n",
    "        print(os.path.join(dirname, filename))\n",
    "\n"
   ]
  },
  {
   "cell_type": "code",
   "execution_count": null,
   "id": "c24c21fd",
   "metadata": {
    "papermill": {
     "duration": 0.007162,
     "end_time": "2023-04-14T01:48:51.129296",
     "exception": false,
     "start_time": "2023-04-14T01:48:51.122134",
     "status": "completed"
    },
    "tags": []
   },
   "outputs": [],
   "source": []
  },
  {
   "cell_type": "code",
   "execution_count": 2,
   "id": "d7fd1caf",
   "metadata": {
    "execution": {
     "iopub.execute_input": "2023-04-14T01:48:51.146779Z",
     "iopub.status.busy": "2023-04-14T01:48:51.146027Z",
     "iopub.status.idle": "2023-04-14T01:48:53.388392Z",
     "shell.execute_reply": "2023-04-14T01:48:53.386676Z"
    },
    "papermill": {
     "duration": 2.254621,
     "end_time": "2023-04-14T01:48:53.391541",
     "exception": false,
     "start_time": "2023-04-14T01:48:51.136920",
     "status": "completed"
    },
    "tags": []
   },
   "outputs": [
    {
     "name": "stderr",
     "output_type": "stream",
     "text": [
      "/opt/conda/lib/python3.7/site-packages/nltk/twitter/__init__.py:20: UserWarning: The twython library has not been installed. Some functionality from the twitter package will not be available.\n",
      "  warnings.warn(\"The twython library has not been installed. \"\n"
     ]
    }
   ],
   "source": [
    "\n",
    "# utilities\n",
    "import re\n",
    "import numpy as np\n",
    "import pandas as pd\n",
    "import string\n",
    "from collections import Counter\n",
    "#import contractions\n",
    "\n",
    "# nltk\n",
    "import nltk\n",
    "from nltk.stem import WordNetLemmatizer\n",
    "from nltk.sentiment import SentimentIntensityAnalyzer\n",
    "from nltk.tokenize import RegexpTokenizer\n",
    "\n",
    "# visulization\n",
    "import matplotlib.pyplot as plt\n",
    "import matplotlib.cm as cm\n",
    "import seaborn"
   ]
  },
  {
   "cell_type": "code",
   "execution_count": 3,
   "id": "42c5c5a3",
   "metadata": {
    "execution": {
     "iopub.execute_input": "2023-04-14T01:48:53.408687Z",
     "iopub.status.busy": "2023-04-14T01:48:53.408260Z",
     "iopub.status.idle": "2023-04-14T01:48:53.424325Z",
     "shell.execute_reply": "2023-04-14T01:48:53.422902Z"
    },
    "papermill": {
     "duration": 0.027653,
     "end_time": "2023-04-14T01:48:53.426826",
     "exception": false,
     "start_time": "2023-04-14T01:48:53.399173",
     "status": "completed"
    },
    "tags": []
   },
   "outputs": [],
   "source": [
    "contractions = { \n",
    "\"ain't\": \"am not / are not / is not / has not / have not\",\n",
    "\"aren't\": \"are not / am not\",\n",
    "\"can't\": \"cannot\",\n",
    "\"can't've\": \"cannot have\",\n",
    "\"cause\": \"because\",\n",
    "\"could've\": \"could have\",\n",
    "\"couldn't\": \"could not\",\n",
    "\"couldn't've\": \"could not have\",\n",
    "\"didn't\": \"did not\",\n",
    "\"doesn't\": \"does not\",\n",
    "\"don't\": \"do not\",\n",
    "\"hadn't\": \"had not\",\n",
    "\"hadn't've\": \"had not have\",\n",
    "\"hasn't\": \"has not\",\n",
    "\"haven't\": \"have not\",\n",
    "\"he'd\": \"he had / he would\",\n",
    "\"he'd've\": \"he would have\",\n",
    "\"he'll\": \"he shall / he will\",\n",
    "\"he'll've\": \"he shall have / he will have\",\n",
    "\"he's\": \"he has / he is\",\n",
    "\"how'd\": \"how did\",\n",
    "\"how'd'y\": \"how do you\",\n",
    "\"how'll\": \"how will\",\n",
    "\"how's\": \"how has / how is / how does\",\n",
    "\"i'd\": \"i had / i would\",\n",
    "\"i`d\": \"i had / i would\",\n",
    "\"i'd've\": \"i would have\",\n",
    "\"i'll\": \"i shall / i will\",\n",
    "\"i'll've\": \"i shall have / i will have\",\n",
    "\"i'm\": \"i am\",\n",
    "\"i`m\": \"i am\",\n",
    "\"i've\": \"i have\",\n",
    "\"isn't\": \"is not\",\n",
    "\"it'd\": \"it had / it would\",\n",
    "\"it'd've\": \"it would have\",\n",
    "\"it'll\": \"it shall / it will\",\n",
    "\"it'll've\": \"it shall have / it will have\",\n",
    "\"it's\": \"it has / it is\",\n",
    "\"it`s\": \"it has / it is\",\n",
    "\"let's\": \"let us\",\n",
    "\"ma'am\": \"madam\",\n",
    "\"mayn't\": \"may not\",\n",
    "\"might've\": \"might have\",\n",
    "\"mightn't\": \"might not\",\n",
    "\"mightn't've\": \"might not have\",\n",
    "\"must've\": \"must have\",\n",
    "\"mustn't\": \"must not\",\n",
    "\"mustn't've\": \"must not have\",\n",
    "\"needn't\": \"need not\",\n",
    "\"needn't've\": \"need not have\",\n",
    "\"o'clock\": \"of the clock\",\n",
    "\"oughtn't\": \"ought not\",\n",
    "\"oughtn't've\": \"ought not have\",\n",
    "\"shan't\": \"shall not\",\n",
    "\"sha'n't\": \"shall not\",\n",
    "\"shan't've\": \"shall not have\",\n",
    "\"she'd\": \"she had / she would\",\n",
    "\"she'd've\": \"she would have\",\n",
    "\"she'll\": \"she shall / she will\",\n",
    "\"she'll've\": \"she shall have / she will have\",\n",
    "\"she's\": \"she has / she is\",\n",
    "\"should've\": \"should have\",\n",
    "\"shouldn't\": \"should not\",\n",
    "\"shouldn't've\": \"should not have\",\n",
    "\"so've\": \"so have\",\n",
    "\"so's\": \"so as / so is\",\n",
    "\"that'd\": \"that would / that had\",\n",
    "\"that'd've\": \"that would have\",\n",
    "\"that's\": \"that has / that is\",\n",
    "\"there'd\": \"there had / there would\",\n",
    "\"there'd've\": \"there would have\",\n",
    "\"there's\": \"there has / there is\",\n",
    "\"they'd\": \"they had / they would\",\n",
    "\"they'd've\": \"they would have\",\n",
    "\"they'll\": \"they shall / they will\",\n",
    "\"they'll've\": \"they shall have / they will have\",\n",
    "\"they're\": \"they are\",\n",
    "\"they've\": \"they have\",\n",
    "\"to've\": \"to have\",\n",
    "\"wasn't\": \"was not\",\n",
    "\"we'd\": \"we had / we would\",\n",
    "\"we'd've\": \"we would have\",\n",
    "\"we'll\": \"we will\",\n",
    "\"we'll've\": \"we will have\",\n",
    "\"we're\": \"we are\",\n",
    "\"we've\": \"we have\",\n",
    "\"weren't\": \"were not\",\n",
    "\"what'll\": \"what shall / what will\",\n",
    "\"what'll've\": \"what shall have / what will have\",\n",
    "\"what're\": \"what are\",\n",
    "\"what's\": \"what has / what is\",\n",
    "\"what've\": \"what have\",\n",
    "\"when's\": \"when has / when is\",\n",
    "\"when've\": \"when have\",\n",
    "\"where'd\": \"where did\",\n",
    "\"where's\": \"where has / where is\",\n",
    "\"where've\": \"where have\",\n",
    "\"who'll\": \"who shall / who will\",\n",
    "\"who'll've\": \"who shall have / who will have\",\n",
    "\"who's\": \"who has / who is\",\n",
    "\"who've\": \"who have\",\n",
    "\"why's\": \"why has / why is\",\n",
    "\"why've\": \"why have\",\n",
    "\"will've\": \"will have\",\n",
    "\"won't\": \"will not\",\n",
    "\"won't've\": \"will not have\",\n",
    "\"would've\": \"would have\",\n",
    "\"wouldn't\": \"would not\",\n",
    "\"wouldn't've\": \"would not have\",\n",
    "\"y'all\": \"you all\",\n",
    "\"y'all'd\": \"you all would\",\n",
    "\"y'all'd've\": \"you all would have\",\n",
    "\"y'all're\": \"you all are\",\n",
    "\"y'all've\": \"you all have\",\n",
    "\"you'd\": \"you had / you would\",\n",
    "\"you'd've\": \"you would have\",\n",
    "\"you'll\": \"you shall / you will\",\n",
    "\"you'll've\": \"you shall have / you will have\",\n",
    "\"you're\": \"you are\",\n",
    "\"you've\": \"you have\"\n",
    "}\n"
   ]
  },
  {
   "cell_type": "code",
   "execution_count": 4,
   "id": "6086a18f",
   "metadata": {
    "execution": {
     "iopub.execute_input": "2023-04-14T01:48:53.444136Z",
     "iopub.status.busy": "2023-04-14T01:48:53.443710Z",
     "iopub.status.idle": "2023-04-14T01:48:53.623699Z",
     "shell.execute_reply": "2023-04-14T01:48:53.622723Z"
    },
    "papermill": {
     "duration": 0.191609,
     "end_time": "2023-04-14T01:48:53.626095",
     "exception": false,
     "start_time": "2023-04-14T01:48:53.434486",
     "status": "completed"
    },
    "tags": []
   },
   "outputs": [
    {
     "data": {
      "text/html": [
       "<div>\n",
       "<style scoped>\n",
       "    .dataframe tbody tr th:only-of-type {\n",
       "        vertical-align: middle;\n",
       "    }\n",
       "\n",
       "    .dataframe tbody tr th {\n",
       "        vertical-align: top;\n",
       "    }\n",
       "\n",
       "    .dataframe thead th {\n",
       "        text-align: right;\n",
       "    }\n",
       "</style>\n",
       "<table border=\"1\" class=\"dataframe\">\n",
       "  <thead>\n",
       "    <tr style=\"text-align: right;\">\n",
       "      <th></th>\n",
       "      <th>textID</th>\n",
       "      <th>text</th>\n",
       "      <th>selected_text</th>\n",
       "      <th>sentiment</th>\n",
       "    </tr>\n",
       "  </thead>\n",
       "  <tbody>\n",
       "    <tr>\n",
       "      <th>0</th>\n",
       "      <td>cb774db0d1</td>\n",
       "      <td>I`d have responded, if I were going</td>\n",
       "      <td>I`d have responded, if I were going</td>\n",
       "      <td>neutral</td>\n",
       "    </tr>\n",
       "    <tr>\n",
       "      <th>1</th>\n",
       "      <td>549e992a42</td>\n",
       "      <td>Sooo SAD I will miss you here in San Diego!!!</td>\n",
       "      <td>Sooo SAD</td>\n",
       "      <td>negative</td>\n",
       "    </tr>\n",
       "    <tr>\n",
       "      <th>2</th>\n",
       "      <td>088c60f138</td>\n",
       "      <td>my boss is bullying me...</td>\n",
       "      <td>bullying me</td>\n",
       "      <td>negative</td>\n",
       "    </tr>\n",
       "  </tbody>\n",
       "</table>\n",
       "</div>"
      ],
      "text/plain": [
       "       textID                                            text  \\\n",
       "0  cb774db0d1             I`d have responded, if I were going   \n",
       "1  549e992a42   Sooo SAD I will miss you here in San Diego!!!   \n",
       "2  088c60f138                       my boss is bullying me...   \n",
       "\n",
       "                         selected_text sentiment  \n",
       "0  I`d have responded, if I were going   neutral  \n",
       "1                             Sooo SAD  negative  \n",
       "2                          bullying me  negative  "
      ]
     },
     "execution_count": 4,
     "metadata": {},
     "output_type": "execute_result"
    }
   ],
   "source": [
    "test_data=pd.read_csv(\"/kaggle/input/tweetsentiment/test.csv\")\n",
    "train_data=pd.read_csv(\"/kaggle/input/tweetsentiment/train.csv\")\n",
    "train_data.head(3)"
   ]
  },
  {
   "cell_type": "code",
   "execution_count": 5,
   "id": "493fdcce",
   "metadata": {
    "execution": {
     "iopub.execute_input": "2023-04-14T01:48:53.643645Z",
     "iopub.status.busy": "2023-04-14T01:48:53.643186Z",
     "iopub.status.idle": "2023-04-14T01:48:53.655402Z",
     "shell.execute_reply": "2023-04-14T01:48:53.653996Z"
    },
    "papermill": {
     "duration": 0.024102,
     "end_time": "2023-04-14T01:48:53.658118",
     "exception": false,
     "start_time": "2023-04-14T01:48:53.634016",
     "status": "completed"
    },
    "tags": []
   },
   "outputs": [
    {
     "data": {
      "text/html": [
       "<div>\n",
       "<style scoped>\n",
       "    .dataframe tbody tr th:only-of-type {\n",
       "        vertical-align: middle;\n",
       "    }\n",
       "\n",
       "    .dataframe tbody tr th {\n",
       "        vertical-align: top;\n",
       "    }\n",
       "\n",
       "    .dataframe thead th {\n",
       "        text-align: right;\n",
       "    }\n",
       "</style>\n",
       "<table border=\"1\" class=\"dataframe\">\n",
       "  <thead>\n",
       "    <tr style=\"text-align: right;\">\n",
       "      <th></th>\n",
       "      <th>textID</th>\n",
       "      <th>text</th>\n",
       "      <th>sentiment</th>\n",
       "    </tr>\n",
       "  </thead>\n",
       "  <tbody>\n",
       "    <tr>\n",
       "      <th>0</th>\n",
       "      <td>f87dea47db</td>\n",
       "      <td>Last session of the day  http://twitpic.com/67ezh</td>\n",
       "      <td>neutral</td>\n",
       "    </tr>\n",
       "    <tr>\n",
       "      <th>1</th>\n",
       "      <td>96d74cb729</td>\n",
       "      <td>Shanghai is also really exciting (precisely -...</td>\n",
       "      <td>positive</td>\n",
       "    </tr>\n",
       "    <tr>\n",
       "      <th>2</th>\n",
       "      <td>eee518ae67</td>\n",
       "      <td>Recession hit Veronique Branquinho, she has to...</td>\n",
       "      <td>negative</td>\n",
       "    </tr>\n",
       "  </tbody>\n",
       "</table>\n",
       "</div>"
      ],
      "text/plain": [
       "       textID                                               text sentiment\n",
       "0  f87dea47db  Last session of the day  http://twitpic.com/67ezh   neutral\n",
       "1  96d74cb729   Shanghai is also really exciting (precisely -...  positive\n",
       "2  eee518ae67  Recession hit Veronique Branquinho, she has to...  negative"
      ]
     },
     "execution_count": 5,
     "metadata": {},
     "output_type": "execute_result"
    }
   ],
   "source": [
    "test_data.head(3)"
   ]
  },
  {
   "cell_type": "markdown",
   "id": "1c102bdc",
   "metadata": {
    "papermill": {
     "duration": 0.007587,
     "end_time": "2023-04-14T01:48:53.674180",
     "exception": false,
     "start_time": "2023-04-14T01:48:53.666593",
     "status": "completed"
    },
    "tags": []
   },
   "source": [
    "## Exploratory data anlysis"
   ]
  },
  {
   "cell_type": "code",
   "execution_count": 6,
   "id": "7cb303af",
   "metadata": {
    "execution": {
     "iopub.execute_input": "2023-04-14T01:48:53.693609Z",
     "iopub.status.busy": "2023-04-14T01:48:53.693164Z",
     "iopub.status.idle": "2023-04-14T01:48:53.728893Z",
     "shell.execute_reply": "2023-04-14T01:48:53.727079Z"
    },
    "papermill": {
     "duration": 0.048538,
     "end_time": "2023-04-14T01:48:53.731568",
     "exception": false,
     "start_time": "2023-04-14T01:48:53.683030",
     "status": "completed"
    },
    "tags": []
   },
   "outputs": [
    {
     "name": "stdout",
     "output_type": "stream",
     "text": [
      "<class 'pandas.core.frame.DataFrame'>\n",
      "RangeIndex: 27481 entries, 0 to 27480\n",
      "Data columns (total 4 columns):\n",
      " #   Column         Non-Null Count  Dtype \n",
      "---  ------         --------------  ----- \n",
      " 0   textID         27481 non-null  object\n",
      " 1   text           27480 non-null  object\n",
      " 2   selected_text  27480 non-null  object\n",
      " 3   sentiment      27481 non-null  object\n",
      "dtypes: object(4)\n",
      "memory usage: 858.9+ KB\n"
     ]
    }
   ],
   "source": [
    "train_data.info()"
   ]
  },
  {
   "cell_type": "code",
   "execution_count": 7,
   "id": "6a27d5c8",
   "metadata": {
    "execution": {
     "iopub.execute_input": "2023-04-14T01:48:53.750936Z",
     "iopub.status.busy": "2023-04-14T01:48:53.750469Z",
     "iopub.status.idle": "2023-04-14T01:48:53.766794Z",
     "shell.execute_reply": "2023-04-14T01:48:53.765051Z"
    },
    "papermill": {
     "duration": 0.03012,
     "end_time": "2023-04-14T01:48:53.770292",
     "exception": false,
     "start_time": "2023-04-14T01:48:53.740172",
     "status": "completed"
    },
    "tags": []
   },
   "outputs": [
    {
     "data": {
      "text/plain": [
       "1"
      ]
     },
     "execution_count": 7,
     "metadata": {},
     "output_type": "execute_result"
    }
   ],
   "source": [
    "np.sum(train_data.isnull().any(axis=1))"
   ]
  },
  {
   "cell_type": "code",
   "execution_count": 8,
   "id": "f542e170",
   "metadata": {
    "execution": {
     "iopub.execute_input": "2023-04-14T01:48:53.788616Z",
     "iopub.status.busy": "2023-04-14T01:48:53.788168Z",
     "iopub.status.idle": "2023-04-14T01:48:53.798557Z",
     "shell.execute_reply": "2023-04-14T01:48:53.797240Z"
    },
    "papermill": {
     "duration": 0.022386,
     "end_time": "2023-04-14T01:48:53.801031",
     "exception": false,
     "start_time": "2023-04-14T01:48:53.778645",
     "status": "completed"
    },
    "tags": []
   },
   "outputs": [
    {
     "data": {
      "text/plain": [
       "0"
      ]
     },
     "execution_count": 8,
     "metadata": {},
     "output_type": "execute_result"
    }
   ],
   "source": [
    "np.sum(test_data.isnull().any(axis=1))"
   ]
  },
  {
   "cell_type": "code",
   "execution_count": 9,
   "id": "f28a3f7d",
   "metadata": {
    "execution": {
     "iopub.execute_input": "2023-04-14T01:48:53.819717Z",
     "iopub.status.busy": "2023-04-14T01:48:53.819311Z",
     "iopub.status.idle": "2023-04-14T01:48:53.834357Z",
     "shell.execute_reply": "2023-04-14T01:48:53.833049Z"
    },
    "papermill": {
     "duration": 0.027835,
     "end_time": "2023-04-14T01:48:53.837321",
     "exception": false,
     "start_time": "2023-04-14T01:48:53.809486",
     "status": "completed"
    },
    "tags": []
   },
   "outputs": [],
   "source": [
    "train_data=train_data.dropna()"
   ]
  },
  {
   "cell_type": "code",
   "execution_count": 10,
   "id": "9500a456",
   "metadata": {
    "execution": {
     "iopub.execute_input": "2023-04-14T01:48:53.855647Z",
     "iopub.status.busy": "2023-04-14T01:48:53.855205Z",
     "iopub.status.idle": "2023-04-14T01:48:54.130170Z",
     "shell.execute_reply": "2023-04-14T01:48:54.129039Z"
    },
    "papermill": {
     "duration": 0.28739,
     "end_time": "2023-04-14T01:48:54.133029",
     "exception": false,
     "start_time": "2023-04-14T01:48:53.845639",
     "status": "completed"
    },
    "tags": []
   },
   "outputs": [
    {
     "data": {
      "text/plain": [
       "<AxesSubplot:xlabel='sentiment', ylabel='count'>"
      ]
     },
     "execution_count": 10,
     "metadata": {},
     "output_type": "execute_result"
    },
    {
     "data": {
      "image/png": "[encoded data removed]",
      "text/plain": [
       "<Figure size 640x480 with 1 Axes>"
      ]
     },
     "metadata": {},
     "output_type": "display_data"
    }
   ],
   "source": [
    "# check for label values, helps to figure out imbalanced classes\n",
    "import seaborn as sns\n",
    "sns.countplot(x='sentiment', data=train_data)"
   ]
  },
  {
   "cell_type": "code",
   "execution_count": 11,
   "id": "d2e87aa9",
   "metadata": {
    "execution": {
     "iopub.execute_input": "2023-04-14T01:48:54.153122Z",
     "iopub.status.busy": "2023-04-14T01:48:54.152442Z",
     "iopub.status.idle": "2023-04-14T01:48:54.169988Z",
     "shell.execute_reply": "2023-04-14T01:48:54.168582Z"
    },
    "papermill": {
     "duration": 0.030563,
     "end_time": "2023-04-14T01:48:54.172673",
     "exception": false,
     "start_time": "2023-04-14T01:48:54.142110",
     "status": "completed"
    },
    "tags": []
   },
   "outputs": [
    {
     "name": "stdout",
     "output_type": "stream",
     "text": [
      "number of positve tagged sentences is:  8582\n",
      "number of negative tagged sentences is: 7781\n",
      "number of neutral tagged sentences is: 11117\n",
      "total length of the data is:            27480\n"
     ]
    }
   ],
   "source": [
    "# check the number of positive vs. negative tagged sentences\n",
    "positives = train_data['sentiment'][train_data.sentiment == 'positive']\n",
    "negatives = train_data['sentiment'][train_data.sentiment == 'negative']\n",
    "neutral = train_data['sentiment'][train_data.sentiment == 'neutral']\n",
    "print('number of positve tagged sentences is:  {}'.format(len(positives)))\n",
    "print('number of negative tagged sentences is: {}'.format(len(negatives)))\n",
    "print('number of neutral tagged sentences is: {}'.format(len(neutral)))\n",
    "print('total length of the data is:            {}'.format(train_data.shape[0]))"
   ]
  },
  {
   "cell_type": "code",
   "execution_count": 12,
   "id": "786d81dc",
   "metadata": {
    "execution": {
     "iopub.execute_input": "2023-04-14T01:48:54.192231Z",
     "iopub.status.busy": "2023-04-14T01:48:54.191565Z",
     "iopub.status.idle": "2023-04-14T01:48:54.240977Z",
     "shell.execute_reply": "2023-04-14T01:48:54.239578Z"
    },
    "papermill": {
     "duration": 0.062707,
     "end_time": "2023-04-14T01:48:54.244022",
     "exception": false,
     "start_time": "2023-04-14T01:48:54.181315",
     "status": "completed"
    },
    "tags": []
   },
   "outputs": [
    {
     "data": {
      "text/html": [
       "<div>\n",
       "<style scoped>\n",
       "    .dataframe tbody tr th:only-of-type {\n",
       "        vertical-align: middle;\n",
       "    }\n",
       "\n",
       "    .dataframe tbody tr th {\n",
       "        vertical-align: top;\n",
       "    }\n",
       "\n",
       "    .dataframe thead th {\n",
       "        text-align: right;\n",
       "    }\n",
       "</style>\n",
       "<table border=\"1\" class=\"dataframe\">\n",
       "  <thead>\n",
       "    <tr style=\"text-align: right;\">\n",
       "      <th></th>\n",
       "      <th>textID</th>\n",
       "      <th>text</th>\n",
       "      <th>selected_text</th>\n",
       "      <th>sentiment</th>\n",
       "      <th>word count</th>\n",
       "    </tr>\n",
       "  </thead>\n",
       "  <tbody>\n",
       "    <tr>\n",
       "      <th>0</th>\n",
       "      <td>cb774db0d1</td>\n",
       "      <td>I`d have responded, if I were going</td>\n",
       "      <td>I`d have responded, if I were going</td>\n",
       "      <td>neutral</td>\n",
       "      <td>7</td>\n",
       "    </tr>\n",
       "    <tr>\n",
       "      <th>1</th>\n",
       "      <td>549e992a42</td>\n",
       "      <td>Sooo SAD I will miss you here in San Diego!!!</td>\n",
       "      <td>Sooo SAD</td>\n",
       "      <td>negative</td>\n",
       "      <td>10</td>\n",
       "    </tr>\n",
       "    <tr>\n",
       "      <th>2</th>\n",
       "      <td>088c60f138</td>\n",
       "      <td>my boss is bullying me...</td>\n",
       "      <td>bullying me</td>\n",
       "      <td>negative</td>\n",
       "      <td>5</td>\n",
       "    </tr>\n",
       "  </tbody>\n",
       "</table>\n",
       "</div>"
      ],
      "text/plain": [
       "       textID                                            text  \\\n",
       "0  cb774db0d1             I`d have responded, if I were going   \n",
       "1  549e992a42   Sooo SAD I will miss you here in San Diego!!!   \n",
       "2  088c60f138                       my boss is bullying me...   \n",
       "\n",
       "                         selected_text sentiment  word count  \n",
       "0  I`d have responded, if I were going   neutral           7  \n",
       "1                             Sooo SAD  negative          10  \n",
       "2                          bullying me  negative           5  "
      ]
     },
     "execution_count": 12,
     "metadata": {},
     "output_type": "execute_result"
    }
   ],
   "source": [
    "# get a word count per sentence column\n",
    "def word_count(sentence):\n",
    "    #print(sentence)\n",
    "    return len(sentence.split())\n",
    "    \n",
    "train_data.loc[:,'word count'] = train_data['text'].apply(word_count)\n",
    "train_data.head(3)"
   ]
  },
  {
   "cell_type": "code",
   "execution_count": 13,
   "id": "bc8380c8",
   "metadata": {
    "execution": {
     "iopub.execute_input": "2023-04-14T01:48:54.264607Z",
     "iopub.status.busy": "2023-04-14T01:48:54.264177Z",
     "iopub.status.idle": "2023-04-14T01:48:54.961003Z",
     "shell.execute_reply": "2023-04-14T01:48:54.957960Z"
    },
    "papermill": {
     "duration": 0.710678,
     "end_time": "2023-04-14T01:48:54.964069",
     "exception": false,
     "start_time": "2023-04-14T01:48:54.253391",
     "status": "completed"
    },
    "tags": []
   },
   "outputs": [
    {
     "name": "stderr",
     "output_type": "stream",
     "text": [
      "/opt/conda/lib/python3.7/site-packages/pandas/core/indexing.py:1667: SettingWithCopyWarning: \n",
      "A value is trying to be set on a copy of a slice from a DataFrame.\n",
      "Try using .loc[row_indexer,col_indexer] = value instead\n",
      "\n",
      "See the caveats in the documentation: https://pandas.pydata.org/pandas-docs/stable/user_guide/indexing.html#returning-a-view-versus-a-copy\n",
      "  self.obj[key] = value\n"
     ]
    },
    {
     "data": {
      "image/png": "[encoded data removed]",
      "text/plain": [
       "<Figure size 640x480 with 1 Axes>"
      ]
     },
     "metadata": {},
     "output_type": "display_data"
    }
   ],
   "source": [
    "seaborn.set() \n",
    "#plt.figure(figsize=(20,8))\n",
    "\n",
    "df = train_data[['word count','sentiment']]\n",
    "df.loc[:,'dummy'] = 2\n",
    "ag = df.groupby(['word count','sentiment']).sum().unstack()\n",
    "ag.columns = ag.columns.droplevel()\n",
    "ag.plot(kind = 'bar', colormap = cm.Accent, width = 1)\n",
    "plt.show()"
   ]
  },
  {
   "cell_type": "code",
   "execution_count": 14,
   "id": "48c1209d",
   "metadata": {
    "execution": {
     "iopub.execute_input": "2023-04-14T01:48:54.986427Z",
     "iopub.status.busy": "2023-04-14T01:48:54.985869Z",
     "iopub.status.idle": "2023-04-14T01:48:55.204733Z",
     "shell.execute_reply": "2023-04-14T01:48:55.203291Z"
    },
    "papermill": {
     "duration": 0.233422,
     "end_time": "2023-04-14T01:48:55.207772",
     "exception": false,
     "start_time": "2023-04-14T01:48:54.974350",
     "status": "completed"
    },
    "tags": []
   },
   "outputs": [
    {
     "data": {
      "text/plain": [
       "[('i', 13065),\n",
       " ('to', 9943),\n",
       " ('the', 8946),\n",
       " ('a', 6684),\n",
       " ('my', 5489),\n",
       " ('and', 5010),\n",
       " ('you', 4201),\n",
       " ('is', 3903),\n",
       " ('in', 3690),\n",
       " ('for', 3635)]"
      ]
     },
     "execution_count": 14,
     "metadata": {},
     "output_type": "execute_result"
    }
   ],
   "source": [
    "# get most common words in training dataset\n",
    "\n",
    "all_words = []\n",
    "\n",
    "for line in list(train_data['text']):\n",
    "    words = line.split()\n",
    "    for word in words:\n",
    "        all_words.append(word.lower())\n",
    "    \n",
    "    \n",
    "Counter(all_words).most_common(10)"
   ]
  },
  {
   "cell_type": "code",
   "execution_count": 15,
   "id": "df8c7ab8",
   "metadata": {
    "execution": {
     "iopub.execute_input": "2023-04-14T01:48:55.229389Z",
     "iopub.status.busy": "2023-04-14T01:48:55.228915Z",
     "iopub.status.idle": "2023-04-14T01:48:57.376786Z",
     "shell.execute_reply": "2023-04-14T01:48:57.375136Z"
    },
    "papermill": {
     "duration": 2.162084,
     "end_time": "2023-04-14T01:48:57.379644",
     "exception": false,
     "start_time": "2023-04-14T01:48:55.217560",
     "status": "completed"
    },
    "tags": []
   },
   "outputs": [
    {
     "data": {
      "image/png": "[encoded data removed]",
      "text/plain": [
       "<Figure size 1200x500 with 1 Axes>"
      ]
     },
     "metadata": {},
     "output_type": "display_data"
    },
    {
     "data": {
      "text/plain": [
       "Text(0.5, 1.0, 'log-log plot of words frequency')"
      ]
     },
     "execution_count": 15,
     "metadata": {},
     "output_type": "execute_result"
    },
    {
     "data": {
      "image/png": "[encoded data removed]",
      "text/plain": [
       "<Figure size 1200x500 with 1 Axes>"
      ]
     },
     "metadata": {},
     "output_type": "display_data"
    }
   ],
   "source": [
    "# plot word frequency distribution of first few words\n",
    "plt.figure(figsize=(12,5))\n",
    "plt.title('Top 25 most common words')\n",
    "plt.xticks(fontsize=13, rotation=90)\n",
    "fd = nltk.FreqDist(all_words)\n",
    "fd.plot(25,cumulative=False)\n",
    "\n",
    "\n",
    "# log-log plot\n",
    "word_counts = sorted(Counter(all_words).values(), reverse=True)\n",
    "plt.figure(figsize=(12,5))\n",
    "plt.loglog(word_counts, linestyle='-', linewidth=1.5)\n",
    "plt.ylabel(\"Freq\")\n",
    "plt.xlabel(\"Word Rank\")\n",
    "plt.title('log-log plot of words frequency')"
   ]
  },
  {
   "cell_type": "code",
   "execution_count": null,
   "id": "feac70f9",
   "metadata": {
    "papermill": {
     "duration": 0.011215,
     "end_time": "2023-04-14T01:48:57.402208",
     "exception": false,
     "start_time": "2023-04-14T01:48:57.390993",
     "status": "completed"
    },
    "tags": []
   },
   "outputs": [],
   "source": []
  },
  {
   "cell_type": "markdown",
   "id": "e445a32f",
   "metadata": {
    "papermill": {
     "duration": 0.014914,
     "end_time": "2023-04-14T01:48:57.428635",
     "exception": false,
     "start_time": "2023-04-14T01:48:57.413721",
     "status": "completed"
    },
    "tags": []
   },
   "source": [
    "## Data preprocessing"
   ]
  },
  {
   "cell_type": "code",
   "execution_count": 16,
   "id": "8b9ae970",
   "metadata": {
    "execution": {
     "iopub.execute_input": "2023-04-14T01:48:57.453974Z",
     "iopub.status.busy": "2023-04-14T01:48:57.452975Z",
     "iopub.status.idle": "2023-04-14T01:48:57.484111Z",
     "shell.execute_reply": "2023-04-14T01:48:57.482984Z"
    },
    "papermill": {
     "duration": 0.04698,
     "end_time": "2023-04-14T01:48:57.486768",
     "exception": false,
     "start_time": "2023-04-14T01:48:57.439788",
     "status": "completed"
    },
    "tags": []
   },
   "outputs": [],
   "source": [
    "train_data.loc[:,'text']=train_data['text'].str.lower()\n",
    "train_data.loc[:,'sentiment']=train_data['sentiment'].str.lower()"
   ]
  },
  {
   "cell_type": "code",
   "execution_count": 17,
   "id": "50cdf746",
   "metadata": {
    "execution": {
     "iopub.execute_input": "2023-04-14T01:48:57.511654Z",
     "iopub.status.busy": "2023-04-14T01:48:57.511179Z",
     "iopub.status.idle": "2023-04-14T01:48:57.617053Z",
     "shell.execute_reply": "2023-04-14T01:48:57.615830Z"
    },
    "papermill": {
     "duration": 0.121673,
     "end_time": "2023-04-14T01:48:57.619869",
     "exception": false,
     "start_time": "2023-04-14T01:48:57.498196",
     "status": "completed"
    },
    "tags": []
   },
   "outputs": [
    {
     "data": {
      "text/plain": [
       "0     i had / i would have responded, if i were going\n",
       "1       sooo sad i will miss you here in san diego!!!\n",
       "2                           my boss is bullying me...\n",
       "Name: text, dtype: object"
      ]
     },
     "execution_count": 17,
     "metadata": {},
     "output_type": "execute_result"
    }
   ],
   "source": [
    "def remove_contractions(text):\n",
    "    for word in str(text).split():\n",
    "        if word in contractions:\n",
    "            text = text.replace(word, contractions[word.lower()])\n",
    "    return text\n",
    "\n",
    "train_data['text'] = train_data['text'].apply(lambda text: remove_contractions(text))\n",
    "train_data['sentiment'] = train_data['sentiment'].apply(lambda text: remove_contractions(text))\n",
    "train_data['text'].head(3)"
   ]
  },
  {
   "cell_type": "code",
   "execution_count": 18,
   "id": "0da29d60",
   "metadata": {
    "execution": {
     "iopub.execute_input": "2023-04-14T01:48:57.644145Z",
     "iopub.status.busy": "2023-04-14T01:48:57.643711Z",
     "iopub.status.idle": "2023-04-14T01:48:57.658123Z",
     "shell.execute_reply": "2023-04-14T01:48:57.656785Z"
    },
    "papermill": {
     "duration": 0.03025,
     "end_time": "2023-04-14T01:48:57.661387",
     "exception": false,
     "start_time": "2023-04-14T01:48:57.631137",
     "status": "completed"
    },
    "tags": []
   },
   "outputs": [
    {
     "data": {
      "text/plain": [
       "['i', 'me', 'my', 'myself', 'we', 'our', 'ours', 'ourselves', 'you', \"you're\"]"
      ]
     },
     "execution_count": 18,
     "metadata": {},
     "output_type": "execute_result"
    }
   ],
   "source": [
    "stopwords = nltk.corpus.stopwords.words('english')\n",
    "list(stopwords)[:10]"
   ]
  },
  {
   "cell_type": "code",
   "execution_count": 19,
   "id": "5d073c2f",
   "metadata": {
    "execution": {
     "iopub.execute_input": "2023-04-14T01:48:57.686744Z",
     "iopub.status.busy": "2023-04-14T01:48:57.686027Z",
     "iopub.status.idle": "2023-04-14T01:48:57.828073Z",
     "shell.execute_reply": "2023-04-14T01:48:57.826378Z"
    },
    "papermill": {
     "duration": 0.158053,
     "end_time": "2023-04-14T01:48:57.831076",
     "exception": false,
     "start_time": "2023-04-14T01:48:57.673023",
     "status": "completed"
    },
    "tags": []
   },
   "outputs": [
    {
     "data": {
      "text/plain": [
       "0      / would responded, going\n",
       "1    sooo sad miss san diego!!!\n",
       "2           boss bullying me...\n",
       "Name: text, dtype: object"
      ]
     },
     "execution_count": 19,
     "metadata": {},
     "output_type": "execute_result"
    }
   ],
   "source": [
    "# remove the stop words from the text\n",
    "STOPWORDS = set(stopwords)\n",
    "def cleaning_stopwords(text):\n",
    "    return \" \".join([word for word in str(text).split() if word not in STOPWORDS])\n",
    "\n",
    "train_data['text'] = train_data['text'].apply(lambda text: cleaning_stopwords(text))\n",
    "train_data['sentiment'] = train_data['sentiment'].apply(lambda text: cleaning_stopwords(text))\n",
    "train_data['text'].head(3)"
   ]
  },
  {
   "cell_type": "code",
   "execution_count": 20,
   "id": "bbbbaea8",
   "metadata": {
    "execution": {
     "iopub.execute_input": "2023-04-14T01:48:57.857987Z",
     "iopub.status.busy": "2023-04-14T01:48:57.857574Z",
     "iopub.status.idle": "2023-04-14T01:48:58.028261Z",
     "shell.execute_reply": "2023-04-14T01:48:58.026762Z"
    },
    "papermill": {
     "duration": 0.187846,
     "end_time": "2023-04-14T01:48:58.031094",
     "exception": false,
     "start_time": "2023-04-14T01:48:57.843248",
     "status": "completed"
    },
    "tags": []
   },
   "outputs": [
    {
     "data": {
      "text/plain": [
       "0      / would responded, going\n",
       "1    sooo sad miss san diego!!!\n",
       "2           boss bullying me...\n",
       "Name: text, dtype: object"
      ]
     },
     "execution_count": 20,
     "metadata": {},
     "output_type": "execute_result"
    }
   ],
   "source": [
    "# remove the URLs from the text\n",
    "def cleaning_URLs(data):\n",
    "    return re.sub('((www.[^s]+)|(https?://[^s]+))',' ',data)\n",
    "\n",
    "train_data['text'] = train_data['text'].apply(lambda x: cleaning_URLs(x))\n",
    "train_data['sentiment'] = train_data['sentiment'].apply(lambda x: cleaning_URLs(x))\n",
    "train_data['text'].head(3)"
   ]
  },
  {
   "cell_type": "code",
   "execution_count": 21,
   "id": "bf42e587",
   "metadata": {
    "execution": {
     "iopub.execute_input": "2023-04-14T01:48:58.056655Z",
     "iopub.status.busy": "2023-04-14T01:48:58.056156Z",
     "iopub.status.idle": "2023-04-14T01:48:58.269484Z",
     "shell.execute_reply": "2023-04-14T01:48:58.266752Z"
    },
    "papermill": {
     "duration": 0.231282,
     "end_time": "2023-04-14T01:48:58.274166",
     "exception": false,
     "start_time": "2023-04-14T01:48:58.042884",
     "status": "completed"
    },
    "tags": []
   },
   "outputs": [
    {
     "data": {
      "text/plain": [
       "0      would responded going\n",
       "1    sooo sad miss san diego\n",
       "2           boss bullying me\n",
       "Name: text, dtype: object"
      ]
     },
     "execution_count": 21,
     "metadata": {},
     "output_type": "execute_result"
    }
   ],
   "source": [
    "# remove the punctuations from the text\n",
    "punctuations_list = string.punctuation\n",
    "\n",
    "def cleaning_punctuations(text):\n",
    "    translator = str.maketrans('', '', punctuations_list)\n",
    "    return text.translate(translator)\n",
    "\n",
    "train_data['text'] = train_data['text'].apply(lambda x: cleaning_punctuations(x))\n",
    "train_data['sentiment'] = train_data['sentiment'].apply(lambda x: cleaning_punctuations(x))\n",
    "train_data['text'].head(3)"
   ]
  },
  {
   "cell_type": "code",
   "execution_count": 22,
   "id": "2f3c21d2",
   "metadata": {
    "execution": {
     "iopub.execute_input": "2023-04-14T01:48:58.300353Z",
     "iopub.status.busy": "2023-04-14T01:48:58.299907Z",
     "iopub.status.idle": "2023-04-14T01:48:58.435698Z",
     "shell.execute_reply": "2023-04-14T01:48:58.434380Z"
    },
    "papermill": {
     "duration": 0.151848,
     "end_time": "2023-04-14T01:48:58.438347",
     "exception": false,
     "start_time": "2023-04-14T01:48:58.286499",
     "status": "completed"
    },
    "tags": []
   },
   "outputs": [
    {
     "data": {
      "text/plain": [
       "0      would responded going\n",
       "1    sooo sad miss san diego\n",
       "2           boss bullying me\n",
       "Name: text, dtype: object"
      ]
     },
     "execution_count": 22,
     "metadata": {},
     "output_type": "execute_result"
    }
   ],
   "source": [
    "def cleaning_repeating_char(text):\n",
    "    return re.sub(r'(.)1+', r'1', text)\n",
    "\n",
    "train_data['text'] = train_data['text'].apply(lambda x: cleaning_repeating_char(x))\n",
    "train_data['sentiment'] = train_data['sentiment'].apply(lambda x: cleaning_repeating_char(x))\n",
    "train_data['text'].head(3)"
   ]
  },
  {
   "cell_type": "code",
   "execution_count": 23,
   "id": "8d6c4d1f",
   "metadata": {
    "execution": {
     "iopub.execute_input": "2023-04-14T01:48:58.465450Z",
     "iopub.status.busy": "2023-04-14T01:48:58.464470Z",
     "iopub.status.idle": "2023-04-14T01:48:58.595694Z",
     "shell.execute_reply": "2023-04-14T01:48:58.594455Z"
    },
    "papermill": {
     "duration": 0.147143,
     "end_time": "2023-04-14T01:48:58.598357",
     "exception": false,
     "start_time": "2023-04-14T01:48:58.451214",
     "status": "completed"
    },
    "tags": []
   },
   "outputs": [
    {
     "data": {
      "text/plain": [
       "0      would responded going\n",
       "1    sooo sad miss san diego\n",
       "2           boss bullying me\n",
       "Name: text, dtype: object"
      ]
     },
     "execution_count": 23,
     "metadata": {},
     "output_type": "execute_result"
    }
   ],
   "source": [
    "# Remove numbers from the text\n",
    "def cleaning_numbers(data):\n",
    "    return re.sub('[0-9]+', '', data)\n",
    "\n",
    "train_data['text'] = train_data['text'].apply(lambda x: cleaning_numbers(x))\n",
    "train_data['sentiment'] = train_data['sentiment'].apply(lambda x: cleaning_numbers(x))\n",
    "def cleaning_stopwords(text):\n",
    "    return \" \".join([word for word in str(text).split() if word not in STOPWORDS])\n",
    "train_data['text'].head(3)"
   ]
  },
  {
   "cell_type": "code",
   "execution_count": 24,
   "id": "db625271",
   "metadata": {
    "execution": {
     "iopub.execute_input": "2023-04-14T01:48:58.623755Z",
     "iopub.status.busy": "2023-04-14T01:48:58.623347Z",
     "iopub.status.idle": "2023-04-14T01:48:58.737432Z",
     "shell.execute_reply": "2023-04-14T01:48:58.735843Z"
    },
    "papermill": {
     "duration": 0.129977,
     "end_time": "2023-04-14T01:48:58.740215",
     "exception": false,
     "start_time": "2023-04-14T01:48:58.610238",
     "status": "completed"
    },
    "tags": []
   },
   "outputs": [
    {
     "data": {
      "text/plain": [
       "0      would responded going\n",
       "1    sooo sad miss san diego\n",
       "2           boss bullying me\n",
       "Name: text, dtype: object"
      ]
     },
     "execution_count": 24,
     "metadata": {},
     "output_type": "execute_result"
    }
   ],
   "source": [
    "def remove_letters(text):\n",
    "    return ' '.join( [w for w in  str(text).split() if len(w)>1] )\n",
    "\n",
    "\n",
    "train_data['text'] = train_data['text'].apply(lambda x: remove_letters(x))\n",
    "train_data['sentiment'] = train_data['sentiment'].apply(lambda x: remove_letters(x))\n",
    "train_data['text'].head(3)"
   ]
  },
  {
   "cell_type": "code",
   "execution_count": 25,
   "id": "c1584c3a",
   "metadata": {
    "execution": {
     "iopub.execute_input": "2023-04-14T01:48:58.767638Z",
     "iopub.status.busy": "2023-04-14T01:48:58.767102Z",
     "iopub.status.idle": "2023-04-14T01:49:00.470406Z",
     "shell.execute_reply": "2023-04-14T01:49:00.469015Z"
    },
    "papermill": {
     "duration": 1.720529,
     "end_time": "2023-04-14T01:49:00.473312",
     "exception": false,
     "start_time": "2023-04-14T01:48:58.752783",
     "status": "completed"
    },
    "tags": []
   },
   "outputs": [
    {
     "data": {
      "image/png": "[encoded data removed]",
      "text/plain": [
       "<Figure size 1200x500 with 1 Axes>"
      ]
     },
     "metadata": {},
     "output_type": "display_data"
    },
    {
     "data": {
      "text/plain": [
       "Text(0.5, 0, 'Word Rank')"
      ]
     },
     "execution_count": 25,
     "metadata": {},
     "output_type": "execute_result"
    },
    {
     "data": {
      "image/png": "[encoded data removed]",
      "text/plain": [
       "<Figure size 1200x500 with 1 Axes>"
      ]
     },
     "metadata": {},
     "output_type": "display_data"
    }
   ],
   "source": [
    "# most common words in twitter dataset\n",
    "all_words = []\n",
    "for line in list(train_data['text']):\n",
    "    words = line.split()\n",
    "    for word in words:\n",
    "        all_words.append(word.lower())\n",
    "        \n",
    "# plot word frequency distribution of first few words\n",
    "plt.figure(figsize=(12,5))\n",
    "plt.xticks(fontsize=13, rotation=90)\n",
    "fd = nltk.FreqDist(all_words)\n",
    "fd.plot(25,cumulative=False)\n",
    "\n",
    "# log-log of all words \n",
    "word_counts = sorted(Counter(all_words).values(), reverse=True)\n",
    "plt.figure(figsize=(12,5))\n",
    "plt.loglog(word_counts, linestyle='-', linewidth=1.5)\n",
    "plt.ylabel(\"Freq\")\n",
    "plt.xlabel(\"Word Rank\")"
   ]
  },
  {
   "cell_type": "code",
   "execution_count": null,
   "id": "a2d03b72",
   "metadata": {
    "papermill": {
     "duration": 0.014305,
     "end_time": "2023-04-14T01:49:00.501458",
     "exception": false,
     "start_time": "2023-04-14T01:49:00.487153",
     "status": "completed"
    },
    "tags": []
   },
   "outputs": [],
   "source": []
  }
 ],
 "metadata": {
  "kernelspec": {
   "display_name": "Python 3",
   "language": "python",
   "name": "python3"
  },
  "language_info": {
   "codemirror_mode": {
    "name": "ipython",
    "version": 3
   },
   "file_extension": ".py",
   "mimetype": "text/x-python",
   "name": "python",
   "nbconvert_exporter": "python",
   "pygments_lexer": "ipython3",
   "version": "3.7.12"
  },
  "papermill": {
   "default_parameters": {},
   "duration": 21.571843,
   "end_time": "2023-04-14T01:49:01.441504",
   "environment_variables": {},
   "exception": null,
   "input_path": "__notebook__.ipynb",
   "output_path": "__notebook__.ipynb",
   "parameters": {},
   "start_time": "2023-04-14T01:48:39.869661",
   "version": "2.4.0"
  }
 },
 "nbformat": 4,
 "nbformat_minor": 5
}
