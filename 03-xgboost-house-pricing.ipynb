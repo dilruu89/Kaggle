{
 "cells": [
  {
   "cell_type": "code",
   "execution_count": 1,
   "id": "c58533ea",
   "metadata": {
    "_cell_guid": "b1076dfc-b9ad-4769-8c92-a6c4dae69d19",
    "_uuid": "8f2839f25d086af736a60e9eeb907d3b93b6e0e5",
    "execution": {
     "iopub.execute_input": "2023-04-04T02:06:27.259242Z",
     "iopub.status.busy": "2023-04-04T02:06:27.258604Z",
     "iopub.status.idle": "2023-04-04T02:06:29.294609Z",
     "shell.execute_reply": "2023-04-04T02:06:29.293026Z"
    },
    "papermill": {
     "duration": 2.055348,
     "end_time": "2023-04-04T02:06:29.298838",
     "exception": false,
     "start_time": "2023-04-04T02:06:27.243490",
     "status": "completed"
    },
    "tags": []
   },
   "outputs": [],
   "source": [
    "import numpy as np # linear algebra\n",
    "import pandas as pd # data processing, CSV file I/O (e.g. pd.read_csv)\n",
    "import seaborn as sns\n",
    "from scipy import stats\n",
    "from scipy.stats import norm, skew\n",
    "import matplotlib.pyplot as plt\n",
    "import time\n",
    "import warnings\n",
    "\n",
    "from datetime import datetime\n",
    "from sklearn.linear_model import LinearRegression,Lasso,Ridge,ElasticNetCV, ElasticNet\n",
    "from sklearn.feature_selection import SelectKBest, RFE,RFECV, mutual_info_regression\n",
    "from sklearn.tree import DecisionTreeRegressor\n",
    "from sklearn.model_selection import train_test_split\n",
    "\n",
    "\n",
    "from sklearn.metrics import mean_squared_error\n",
    "import xgboost as xgb"
   ]
  },
  {
   "cell_type": "code",
   "execution_count": 2,
   "id": "3864cb51",
   "metadata": {
    "execution": {
     "iopub.execute_input": "2023-04-04T02:06:29.328945Z",
     "iopub.status.busy": "2023-04-04T02:06:29.327942Z",
     "iopub.status.idle": "2023-04-04T02:06:29.335740Z",
     "shell.execute_reply": "2023-04-04T02:06:29.334520Z"
    },
    "papermill": {
     "duration": 0.024313,
     "end_time": "2023-04-04T02:06:29.338770",
     "exception": false,
     "start_time": "2023-04-04T02:06:29.314457",
     "status": "completed"
    },
    "tags": []
   },
   "outputs": [],
   "source": [
    "# Suppress Warning message\n",
    "\n",
    "def fxn():\n",
    "    warnings.warn(\"deprecated\", DeprecationWarning)\n",
    "with warnings.catch_warnings():\n",
    "    warnings.simplefilter(\"ignore\")\n",
    "    fxn()\n",
    "    \n",
    "\n",
    "def log_msg(message):\n",
    "    print(str(datetime.now()) + \": \" + message)\n"
   ]
  },
  {
   "cell_type": "markdown",
   "id": "b8f4ba25",
   "metadata": {
    "papermill": {
     "duration": 0.011567,
     "end_time": "2023-04-04T02:06:29.361904",
     "exception": false,
     "start_time": "2023-04-04T02:06:29.350337",
     "status": "completed"
    },
    "tags": []
   },
   "source": [
    "## Load data"
   ]
  },
  {
   "cell_type": "code",
   "execution_count": 3,
   "id": "ce5cb19b",
   "metadata": {
    "execution": {
     "iopub.execute_input": "2023-04-04T02:06:29.390106Z",
     "iopub.status.busy": "2023-04-04T02:06:29.388753Z",
     "iopub.status.idle": "2023-04-04T02:06:29.467804Z",
     "shell.execute_reply": "2023-04-04T02:06:29.466648Z"
    },
    "papermill": {
     "duration": 0.094853,
     "end_time": "2023-04-04T02:06:29.470724",
     "exception": false,
     "start_time": "2023-04-04T02:06:29.375871",
     "status": "completed"
    },
    "tags": []
   },
   "outputs": [],
   "source": [
    "train_df=pd.read_csv(\"/kaggle/input/house-prices-advanced-regression-techniques/train.csv\")\n",
    "test_df=pd.read_csv(\"/kaggle/input/house-prices-advanced-regression-techniques/test.csv\")"
   ]
  },
  {
   "cell_type": "markdown",
   "id": "d9d039f4",
   "metadata": {
    "papermill": {
     "duration": 0.010996,
     "end_time": "2023-04-04T02:06:29.493288",
     "exception": false,
     "start_time": "2023-04-04T02:06:29.482292",
     "status": "completed"
    },
    "tags": []
   },
   "source": [
    "## Feature Selection\n",
    "### Drop the missing values"
   ]
  },
  {
   "cell_type": "code",
   "execution_count": 4,
   "id": "64843a32",
   "metadata": {
    "execution": {
     "iopub.execute_input": "2023-04-04T02:06:29.518904Z",
     "iopub.status.busy": "2023-04-04T02:06:29.517615Z",
     "iopub.status.idle": "2023-04-04T02:06:29.556163Z",
     "shell.execute_reply": "2023-04-04T02:06:29.554880Z"
    },
    "papermill": {
     "duration": 0.054816,
     "end_time": "2023-04-04T02:06:29.559486",
     "exception": false,
     "start_time": "2023-04-04T02:06:29.504670",
     "status": "completed"
    },
    "tags": []
   },
   "outputs": [
    {
     "data": {
      "text/plain": [
       "LotFrontage     0.177397\n",
       "GarageType      0.055479\n",
       "GarageYrBlt     0.055479\n",
       "GarageFinish    0.055479\n",
       "GarageQual      0.055479\n",
       "                  ...   \n",
       "BsmtUnfSF       0.000000\n",
       "TotalBsmtSF     0.000000\n",
       "MSSubClass      0.000000\n",
       "HeatingQC       0.000000\n",
       "SalePrice       0.000000\n",
       "Length: 77, dtype: float64"
      ]
     },
     "execution_count": 4,
     "metadata": {},
     "output_type": "execute_result"
    }
   ],
   "source": [
    "# Drop columns with more than 80% of missing values\n",
    "\n",
    "missing_val_df=(train_df.isnull().sum() / len(train_df)).sort_values(ascending=False)\n",
    "missing_features = missing_val_df[missing_val_df > 0.80].index\n",
    "train_df.drop(missing_features, axis=1, inplace=True)\n",
    "\n",
    "\n",
    "train_df[\"FireplaceQu\"].fillna(\"NA\", inplace = True)\n",
    "\n",
    "(train_df.isnull().sum() / len(train_df)).sort_values(ascending=False)"
   ]
  },
  {
   "cell_type": "code",
   "execution_count": 5,
   "id": "ee21bfd1",
   "metadata": {
    "execution": {
     "iopub.execute_input": "2023-04-04T02:06:29.586216Z",
     "iopub.status.busy": "2023-04-04T02:06:29.584814Z",
     "iopub.status.idle": "2023-04-04T02:06:29.598717Z",
     "shell.execute_reply": "2023-04-04T02:06:29.597427Z"
    },
    "papermill": {
     "duration": 0.029991,
     "end_time": "2023-04-04T02:06:29.601623",
     "exception": false,
     "start_time": "2023-04-04T02:06:29.571632",
     "status": "completed"
    },
    "tags": []
   },
   "outputs": [],
   "source": [
    "# Drop the rest of the rows with null values\n",
    "train_df.dropna(inplace = True)"
   ]
  },
  {
   "cell_type": "markdown",
   "id": "9a875804",
   "metadata": {
    "papermill": {
     "duration": 0.011371,
     "end_time": "2023-04-04T02:06:29.624976",
     "exception": false,
     "start_time": "2023-04-04T02:06:29.613605",
     "status": "completed"
    },
    "tags": []
   },
   "source": [
    "###  Drop the zero variance columns"
   ]
  },
  {
   "cell_type": "code",
   "execution_count": 6,
   "id": "c69b0158",
   "metadata": {
    "execution": {
     "iopub.execute_input": "2023-04-04T02:06:29.650801Z",
     "iopub.status.busy": "2023-04-04T02:06:29.650348Z",
     "iopub.status.idle": "2023-04-04T02:06:29.683767Z",
     "shell.execute_reply": "2023-04-04T02:06:29.682107Z"
    },
    "papermill": {
     "duration": 0.049867,
     "end_time": "2023-04-04T02:06:29.686478",
     "exception": false,
     "start_time": "2023-04-04T02:06:29.636611",
     "status": "completed"
    },
    "tags": []
   },
   "outputs": [
    {
     "name": "stdout",
     "output_type": "stream",
     "text": [
      "(1094, 76)\n"
     ]
    }
   ],
   "source": [
    "# remove coloumns with constant values\n",
    "train_df = train_df.loc[:, (train_df != train_df.iloc[0]).any()] \n",
    "print(train_df.shape)"
   ]
  },
  {
   "cell_type": "markdown",
   "id": "a1e6ce7b",
   "metadata": {
    "papermill": {
     "duration": 0.011932,
     "end_time": "2023-04-04T02:06:29.710459",
     "exception": false,
     "start_time": "2023-04-04T02:06:29.698527",
     "status": "completed"
    },
    "tags": []
   },
   "source": [
    "### Correlation analysis\n",
    "#### Correlation among the features"
   ]
  },
  {
   "cell_type": "code",
   "execution_count": 7,
   "id": "c27db90d",
   "metadata": {
    "execution": {
     "iopub.execute_input": "2023-04-04T02:06:29.736328Z",
     "iopub.status.busy": "2023-04-04T02:06:29.735587Z",
     "iopub.status.idle": "2023-04-04T02:06:29.764502Z",
     "shell.execute_reply": "2023-04-04T02:06:29.763005Z"
    },
    "papermill": {
     "duration": 0.044946,
     "end_time": "2023-04-04T02:06:29.767112",
     "exception": false,
     "start_time": "2023-04-04T02:06:29.722166",
     "status": "completed"
    },
    "tags": []
   },
   "outputs": [
    {
     "name": "stdout",
     "output_type": "stream",
     "text": [
      "['YearRemodAdd', '1stFlrSF', 'GrLivArea', 'BsmtFullBath', 'FullBath', 'HalfBath', 'TotRmsAbvGrd', 'GarageYrBlt', 'GarageCars', 'GarageArea']\n"
     ]
    }
   ],
   "source": [
    "train_df_nid = train_df.drop(['Id'],axis=1)\n",
    "\n",
    "# Create correlation matrix\n",
    "corr_matrix = train_df_nid.drop(['SalePrice'],axis=1).corr().abs()\n",
    "\n",
    "# Select upper triangle of correlation matrix\n",
    "upper = corr_matrix.where(np.triu(np.ones(corr_matrix.shape), k=1).astype(np.bool_))\n",
    "\n",
    "# select one feature from the highly correlated features, threshold 0.6\n",
    "to_drop = [column for column in upper.columns if any(upper[column] > 0.6)]\n",
    "\n",
    "print(to_drop)\n",
    "\n",
    "# drop the selected feattures that are correlated with anothoer feature\n",
    "train_df_nid.drop(to_drop, axis=1, inplace=True)"
   ]
  },
  {
   "cell_type": "markdown",
   "id": "8e72c56d",
   "metadata": {
    "papermill": {
     "duration": 0.011326,
     "end_time": "2023-04-04T02:06:29.790016",
     "exception": false,
     "start_time": "2023-04-04T02:06:29.778690",
     "status": "completed"
    },
    "tags": []
   },
   "source": [
    "#### Correlation with the target Variable"
   ]
  },
  {
   "cell_type": "code",
   "execution_count": 8,
   "id": "4490f811",
   "metadata": {
    "execution": {
     "iopub.execute_input": "2023-04-04T02:06:29.817349Z",
     "iopub.status.busy": "2023-04-04T02:06:29.816510Z",
     "iopub.status.idle": "2023-04-04T02:06:29.827673Z",
     "shell.execute_reply": "2023-04-04T02:06:29.826229Z"
    },
    "papermill": {
     "duration": 0.028599,
     "end_time": "2023-04-04T02:06:29.830774",
     "exception": false,
     "start_time": "2023-04-04T02:06:29.802175",
     "status": "completed"
    },
    "tags": []
   },
   "outputs": [],
   "source": [
    "corr_with_tot_count = train_df_nid.corr()[\"SalePrice\"].sort_values(ascending=False)\n",
    "feature_x_cont= corr_with_tot_count.index.tolist()\n",
    "item_list = ['3SsnPorch', 'LowQualFinSF', 'YrSold'] # Remove these since there is low correlation to the target variable\n",
    "num_features = [ elem for elem in feature_x_cont if elem not in item_list]\n",
    "\n",
    "df_cont = train_df[num_features]"
   ]
  },
  {
   "cell_type": "code",
   "execution_count": 9,
   "id": "88def0ea",
   "metadata": {
    "execution": {
     "iopub.execute_input": "2023-04-04T02:06:29.858283Z",
     "iopub.status.busy": "2023-04-04T02:06:29.856836Z",
     "iopub.status.idle": "2023-04-04T02:06:29.908920Z",
     "shell.execute_reply": "2023-04-04T02:06:29.907516Z"
    },
    "papermill": {
     "duration": 0.068903,
     "end_time": "2023-04-04T02:06:29.912001",
     "exception": false,
     "start_time": "2023-04-04T02:06:29.843098",
     "status": "completed"
    },
    "tags": []
   },
   "outputs": [],
   "source": [
    "# find the catergorical coloumns \n",
    "cats = train_df.select_dtypes(include=['object']).columns.to_list()\n",
    "df_cat = train_df[cats].copy()\n",
    "\n",
    "# Convert to Pandas category\n",
    "for col in cats:\n",
    "    df_cat[col] = df_cat[col].astype('category')"
   ]
  },
  {
   "cell_type": "code",
   "execution_count": 10,
   "id": "030598f4",
   "metadata": {
    "execution": {
     "iopub.execute_input": "2023-04-04T02:06:29.937844Z",
     "iopub.status.busy": "2023-04-04T02:06:29.937438Z",
     "iopub.status.idle": "2023-04-04T02:06:29.980039Z",
     "shell.execute_reply": "2023-04-04T02:06:29.978597Z"
    },
    "papermill": {
     "duration": 0.059362,
     "end_time": "2023-04-04T02:06:29.983248",
     "exception": false,
     "start_time": "2023-04-04T02:06:29.923886",
     "status": "completed"
    },
    "tags": []
   },
   "outputs": [
    {
     "data": {
      "text/html": [
       "<div>\n",
       "<style scoped>\n",
       "    .dataframe tbody tr th:only-of-type {\n",
       "        vertical-align: middle;\n",
       "    }\n",
       "\n",
       "    .dataframe tbody tr th {\n",
       "        vertical-align: top;\n",
       "    }\n",
       "\n",
       "    .dataframe thead th {\n",
       "        text-align: right;\n",
       "    }\n",
       "</style>\n",
       "<table border=\"1\" class=\"dataframe\">\n",
       "  <thead>\n",
       "    <tr style=\"text-align: right;\">\n",
       "      <th></th>\n",
       "      <th>MSZoning</th>\n",
       "      <th>Street</th>\n",
       "      <th>LotShape</th>\n",
       "      <th>LandContour</th>\n",
       "      <th>LotConfig</th>\n",
       "      <th>LandSlope</th>\n",
       "      <th>Neighborhood</th>\n",
       "      <th>Condition1</th>\n",
       "      <th>Condition2</th>\n",
       "      <th>BldgType</th>\n",
       "      <th>...</th>\n",
       "      <th>ScreenPorch</th>\n",
       "      <th>PoolArea</th>\n",
       "      <th>MoSold</th>\n",
       "      <th>MiscVal</th>\n",
       "      <th>BsmtFinSF2</th>\n",
       "      <th>BsmtHalfBath</th>\n",
       "      <th>MSSubClass</th>\n",
       "      <th>KitchenAbvGr</th>\n",
       "      <th>OverallCond</th>\n",
       "      <th>EnclosedPorch</th>\n",
       "    </tr>\n",
       "  </thead>\n",
       "  <tbody>\n",
       "    <tr>\n",
       "      <th>0</th>\n",
       "      <td>RL</td>\n",
       "      <td>Pave</td>\n",
       "      <td>Reg</td>\n",
       "      <td>Lvl</td>\n",
       "      <td>Inside</td>\n",
       "      <td>Gtl</td>\n",
       "      <td>CollgCr</td>\n",
       "      <td>Norm</td>\n",
       "      <td>Norm</td>\n",
       "      <td>1Fam</td>\n",
       "      <td>...</td>\n",
       "      <td>0</td>\n",
       "      <td>0</td>\n",
       "      <td>2</td>\n",
       "      <td>0</td>\n",
       "      <td>0</td>\n",
       "      <td>0</td>\n",
       "      <td>60</td>\n",
       "      <td>1</td>\n",
       "      <td>5</td>\n",
       "      <td>0</td>\n",
       "    </tr>\n",
       "    <tr>\n",
       "      <th>1</th>\n",
       "      <td>RL</td>\n",
       "      <td>Pave</td>\n",
       "      <td>Reg</td>\n",
       "      <td>Lvl</td>\n",
       "      <td>FR2</td>\n",
       "      <td>Gtl</td>\n",
       "      <td>Veenker</td>\n",
       "      <td>Feedr</td>\n",
       "      <td>Norm</td>\n",
       "      <td>1Fam</td>\n",
       "      <td>...</td>\n",
       "      <td>0</td>\n",
       "      <td>0</td>\n",
       "      <td>5</td>\n",
       "      <td>0</td>\n",
       "      <td>0</td>\n",
       "      <td>1</td>\n",
       "      <td>20</td>\n",
       "      <td>1</td>\n",
       "      <td>8</td>\n",
       "      <td>0</td>\n",
       "    </tr>\n",
       "    <tr>\n",
       "      <th>2</th>\n",
       "      <td>RL</td>\n",
       "      <td>Pave</td>\n",
       "      <td>IR1</td>\n",
       "      <td>Lvl</td>\n",
       "      <td>Inside</td>\n",
       "      <td>Gtl</td>\n",
       "      <td>CollgCr</td>\n",
       "      <td>Norm</td>\n",
       "      <td>Norm</td>\n",
       "      <td>1Fam</td>\n",
       "      <td>...</td>\n",
       "      <td>0</td>\n",
       "      <td>0</td>\n",
       "      <td>9</td>\n",
       "      <td>0</td>\n",
       "      <td>0</td>\n",
       "      <td>0</td>\n",
       "      <td>60</td>\n",
       "      <td>1</td>\n",
       "      <td>5</td>\n",
       "      <td>0</td>\n",
       "    </tr>\n",
       "  </tbody>\n",
       "</table>\n",
       "<p>3 rows × 62 columns</p>\n",
       "</div>"
      ],
      "text/plain": [
       "  MSZoning Street LotShape LandContour LotConfig LandSlope Neighborhood  \\\n",
       "0       RL   Pave      Reg         Lvl    Inside       Gtl      CollgCr   \n",
       "1       RL   Pave      Reg         Lvl       FR2       Gtl      Veenker   \n",
       "2       RL   Pave      IR1         Lvl    Inside       Gtl      CollgCr   \n",
       "\n",
       "  Condition1 Condition2 BldgType  ... ScreenPorch PoolArea MoSold MiscVal  \\\n",
       "0       Norm       Norm     1Fam  ...           0        0      2       0   \n",
       "1      Feedr       Norm     1Fam  ...           0        0      5       0   \n",
       "2       Norm       Norm     1Fam  ...           0        0      9       0   \n",
       "\n",
       "  BsmtFinSF2 BsmtHalfBath MSSubClass KitchenAbvGr OverallCond EnclosedPorch  \n",
       "0          0            0         60            1           5             0  \n",
       "1          0            1         20            1           8             0  \n",
       "2          0            0         60            1           5             0  \n",
       "\n",
       "[3 rows x 62 columns]"
      ]
     },
     "execution_count": 10,
     "metadata": {},
     "output_type": "execute_result"
    }
   ],
   "source": [
    "# Creating the Final data with all the relevant fields and Dep Variable\n",
    "train_df_new = pd.concat([df_cat,\n",
    "                       df_cont],axis=1)\n",
    "\n",
    "train_df_new.head(3)"
   ]
  },
  {
   "cell_type": "code",
   "execution_count": 11,
   "id": "8542afda",
   "metadata": {
    "execution": {
     "iopub.execute_input": "2023-04-04T02:06:30.010643Z",
     "iopub.status.busy": "2023-04-04T02:06:30.010210Z",
     "iopub.status.idle": "2023-04-04T02:06:30.021469Z",
     "shell.execute_reply": "2023-04-04T02:06:30.020086Z"
    },
    "papermill": {
     "duration": 0.029008,
     "end_time": "2023-04-04T02:06:30.024412",
     "exception": false,
     "start_time": "2023-04-04T02:06:29.995404",
     "status": "completed"
    },
    "tags": []
   },
   "outputs": [
    {
     "data": {
      "text/plain": [
       "MSZoning         category\n",
       "Street           category\n",
       "LotShape         category\n",
       "LandContour      category\n",
       "LotConfig        category\n",
       "                   ...   \n",
       "BsmtHalfBath        int64\n",
       "MSSubClass          int64\n",
       "KitchenAbvGr        int64\n",
       "OverallCond         int64\n",
       "EnclosedPorch       int64\n",
       "Length: 62, dtype: object"
      ]
     },
     "execution_count": 11,
     "metadata": {},
     "output_type": "execute_result"
    }
   ],
   "source": [
    "train_df_new.dtypes"
   ]
  },
  {
   "cell_type": "code",
   "execution_count": null,
   "id": "a55c7dac",
   "metadata": {
    "papermill": {
     "duration": 0.012071,
     "end_time": "2023-04-04T02:06:30.048937",
     "exception": false,
     "start_time": "2023-04-04T02:06:30.036866",
     "status": "completed"
    },
    "tags": []
   },
   "outputs": [],
   "source": []
  },
  {
   "cell_type": "markdown",
   "id": "e0a1d1f5",
   "metadata": {
    "papermill": {
     "duration": 0.011956,
     "end_time": "2023-04-04T02:06:30.073299",
     "exception": false,
     "start_time": "2023-04-04T02:06:30.061343",
     "status": "completed"
    },
    "tags": []
   },
   "source": [
    "### Training and Testing data seperation"
   ]
  },
  {
   "cell_type": "code",
   "execution_count": 12,
   "id": "23dc59d9",
   "metadata": {
    "execution": {
     "iopub.execute_input": "2023-04-04T02:06:30.100581Z",
     "iopub.status.busy": "2023-04-04T02:06:30.100164Z",
     "iopub.status.idle": "2023-04-04T02:06:30.114800Z",
     "shell.execute_reply": "2023-04-04T02:06:30.113571Z"
    },
    "papermill": {
     "duration": 0.032068,
     "end_time": "2023-04-04T02:06:30.118078",
     "exception": false,
     "start_time": "2023-04-04T02:06:30.086010",
     "status": "completed"
    },
    "tags": []
   },
   "outputs": [],
   "source": [
    "# Creating Training and Test data\n",
    "from sklearn.model_selection import train_test_split\n",
    "df = train_df_new.copy()\n",
    "Y_train=df['SalePrice'].values.ravel()\n",
    "X_train = df.drop(['SalePrice'],axis=1)\n",
    "\n",
    "x_train,x_test,y_train,y_test = train_test_split(X_train,Y_train,train_size = 0.7,random_state=3)"
   ]
  },
  {
   "cell_type": "code",
   "execution_count": 13,
   "id": "5111dfa2",
   "metadata": {
    "execution": {
     "iopub.execute_input": "2023-04-04T02:06:30.145853Z",
     "iopub.status.busy": "2023-04-04T02:06:30.144969Z",
     "iopub.status.idle": "2023-04-04T02:06:30.151540Z",
     "shell.execute_reply": "2023-04-04T02:06:30.150356Z"
    },
    "papermill": {
     "duration": 0.02338,
     "end_time": "2023-04-04T02:06:30.154249",
     "exception": false,
     "start_time": "2023-04-04T02:06:30.130869",
     "status": "completed"
    },
    "tags": []
   },
   "outputs": [
    {
     "name": "stdout",
     "output_type": "stream",
     "text": [
      "(765, 61) (329, 61) (765,) (329,)\n"
     ]
    }
   ],
   "source": [
    "print(x_train.shape, x_test.shape, y_train.shape, y_test.shape)"
   ]
  },
  {
   "cell_type": "markdown",
   "id": "76cada93",
   "metadata": {
    "papermill": {
     "duration": 0.011753,
     "end_time": "2023-04-04T02:06:30.178309",
     "exception": false,
     "start_time": "2023-04-04T02:06:30.166556",
     "status": "completed"
    },
    "tags": []
   },
   "source": [
    "## Model training - with initial feature selection"
   ]
  },
  {
   "cell_type": "code",
   "execution_count": 14,
   "id": "3ff9e159",
   "metadata": {
    "execution": {
     "iopub.execute_input": "2023-04-04T02:06:30.204444Z",
     "iopub.status.busy": "2023-04-04T02:06:30.204011Z",
     "iopub.status.idle": "2023-04-04T02:06:30.332624Z",
     "shell.execute_reply": "2023-04-04T02:06:30.331386Z"
    },
    "papermill": {
     "duration": 0.145225,
     "end_time": "2023-04-04T02:06:30.335716",
     "exception": false,
     "start_time": "2023-04-04T02:06:30.190491",
     "status": "completed"
    },
    "tags": []
   },
   "outputs": [],
   "source": [
    "dtrain_reg = xgb.DMatrix(x_train, y_train, enable_categorical=True)\n",
    "dtest_reg = xgb.DMatrix(x_test, y_test, enable_categorical=True)"
   ]
  },
  {
   "cell_type": "code",
   "execution_count": 15,
   "id": "567f70a8",
   "metadata": {
    "execution": {
     "iopub.execute_input": "2023-04-04T02:06:30.365215Z",
     "iopub.status.busy": "2023-04-04T02:06:30.363864Z",
     "iopub.status.idle": "2023-04-04T02:06:30.924071Z",
     "shell.execute_reply": "2023-04-04T02:06:30.922849Z"
    },
    "papermill": {
     "duration": 0.577034,
     "end_time": "2023-04-04T02:06:30.927119",
     "exception": false,
     "start_time": "2023-04-04T02:06:30.350085",
     "status": "completed"
    },
    "tags": []
   },
   "outputs": [
    {
     "name": "stdout",
     "output_type": "stream",
     "text": [
      "RMSE of the base model: 33874.115\n"
     ]
    }
   ],
   "source": [
    "# Define hyperparameters\n",
    "params = {\"objective\": \"reg:squarederror\", \"tree_method\": \"hist\"}\n",
    "\n",
    "n = 100\n",
    "model = xgb.train(params=params,dtrain=dtrain_reg,num_boost_round=n,)\n",
    "preds = model.predict(dtest_reg)\n",
    "rmse = mean_squared_error(y_test, preds, squared=False)\n",
    "print(f\"RMSE of the base model: {rmse:.3f}\")"
   ]
  },
  {
   "cell_type": "code",
   "execution_count": null,
   "id": "f7799a03",
   "metadata": {
    "papermill": {
     "duration": 0.011976,
     "end_time": "2023-04-04T02:06:30.952646",
     "exception": false,
     "start_time": "2023-04-04T02:06:30.940670",
     "status": "completed"
    },
    "tags": []
   },
   "outputs": [],
   "source": []
  },
  {
   "cell_type": "code",
   "execution_count": 16,
   "id": "2c9fa342",
   "metadata": {
    "execution": {
     "iopub.execute_input": "2023-04-04T02:06:30.979491Z",
     "iopub.status.busy": "2023-04-04T02:06:30.978780Z",
     "iopub.status.idle": "2023-04-04T02:06:35.472002Z",
     "shell.execute_reply": "2023-04-04T02:06:35.470924Z"
    },
    "papermill": {
     "duration": 4.510152,
     "end_time": "2023-04-04T02:06:35.474871",
     "exception": false,
     "start_time": "2023-04-04T02:06:30.964719",
     "status": "completed"
    },
    "tags": []
   },
   "outputs": [
    {
     "name": "stdout",
     "output_type": "stream",
     "text": [
      "[0]\tvalidation-rmse:152640.36584\ttrain-rmse:145733.79216\n",
      "[50]\tvalidation-rmse:33851.05899\ttrain-rmse:2443.88668\n",
      "[100]\tvalidation-rmse:33873.82426\ttrain-rmse:458.61559\n",
      "[150]\tvalidation-rmse:33867.71482\ttrain-rmse:88.91092\n",
      "[200]\tvalidation-rmse:33868.94319\ttrain-rmse:18.72635\n",
      "[250]\tvalidation-rmse:33868.38457\ttrain-rmse:4.13312\n",
      "[300]\tvalidation-rmse:33868.37866\ttrain-rmse:0.90848\n",
      "[350]\tvalidation-rmse:33868.38414\ttrain-rmse:0.19081\n",
      "[400]\tvalidation-rmse:33868.38455\ttrain-rmse:0.05722\n",
      "[450]\tvalidation-rmse:33868.38494\ttrain-rmse:0.04747\n",
      "[490]\tvalidation-rmse:33868.38494\ttrain-rmse:0.04747\n"
     ]
    }
   ],
   "source": [
    "n=5000\n",
    "evals = [(dtest_reg, \"validation\"), (dtrain_reg, \"train\")]\n",
    "model = xgb.train(\n",
    "   params=params,\n",
    "   dtrain=dtrain_reg,\n",
    "   num_boost_round=n,\n",
    "   evals=evals,\n",
    "    verbose_eval=50,\n",
    "   # Activate early stopping\n",
    "   early_stopping_rounds=50\n",
    ")"
   ]
  },
  {
   "cell_type": "code",
   "execution_count": 17,
   "id": "1b98aaed",
   "metadata": {
    "execution": {
     "iopub.execute_input": "2023-04-04T02:06:35.504412Z",
     "iopub.status.busy": "2023-04-04T02:06:35.503537Z",
     "iopub.status.idle": "2023-04-04T02:06:35.522044Z",
     "shell.execute_reply": "2023-04-04T02:06:35.520747Z"
    },
    "papermill": {
     "duration": 0.035734,
     "end_time": "2023-04-04T02:06:35.524924",
     "exception": false,
     "start_time": "2023-04-04T02:06:35.489190",
     "status": "completed"
    },
    "tags": []
   },
   "outputs": [
    {
     "name": "stdout",
     "output_type": "stream",
     "text": [
      "RMSE of the improved model: 33868.385\n"
     ]
    }
   ],
   "source": [
    "preds = model.predict(dtest_reg)\n",
    "rmse = mean_squared_error(y_test, preds, squared=False)\n",
    "print(f\"RMSE of the improved model: {rmse:.3f}\")"
   ]
  },
  {
   "cell_type": "code",
   "execution_count": 18,
   "id": "7fd3be27",
   "metadata": {
    "execution": {
     "iopub.execute_input": "2023-04-04T02:06:35.555272Z",
     "iopub.status.busy": "2023-04-04T02:06:35.554843Z",
     "iopub.status.idle": "2023-04-04T02:06:41.539681Z",
     "shell.execute_reply": "2023-04-04T02:06:41.538642Z"
    },
    "papermill": {
     "duration": 6.002379,
     "end_time": "2023-04-04T02:06:41.542676",
     "exception": false,
     "start_time": "2023-04-04T02:06:35.540297",
     "status": "completed"
    },
    "tags": []
   },
   "outputs": [],
   "source": [
    "n = 1000\n",
    "results = xgb.cv(\n",
    "   params, dtrain_reg,\n",
    "   num_boost_round=n,\n",
    "   nfold=5,\n",
    "   early_stopping_rounds=20)"
   ]
  },
  {
   "cell_type": "code",
   "execution_count": 19,
   "id": "ea91b226",
   "metadata": {
    "execution": {
     "iopub.execute_input": "2023-04-04T02:06:41.571623Z",
     "iopub.status.busy": "2023-04-04T02:06:41.570726Z",
     "iopub.status.idle": "2023-04-04T02:06:41.580085Z",
     "shell.execute_reply": "2023-04-04T02:06:41.578569Z"
    },
    "papermill": {
     "duration": 0.026707,
     "end_time": "2023-04-04T02:06:41.582912",
     "exception": false,
     "start_time": "2023-04-04T02:06:41.556205",
     "status": "completed"
    },
    "tags": []
   },
   "outputs": [
    {
     "data": {
      "text/plain": [
       "35317.21338505782"
      ]
     },
     "execution_count": 19,
     "metadata": {},
     "output_type": "execute_result"
    }
   ],
   "source": [
    "best_rmse = results['test-rmse-mean'].min()\n",
    "best_rmse"
   ]
  },
  {
   "cell_type": "code",
   "execution_count": null,
   "id": "e2c2bfe6",
   "metadata": {
    "papermill": {
     "duration": 0.012784,
     "end_time": "2023-04-04T02:06:41.609677",
     "exception": false,
     "start_time": "2023-04-04T02:06:41.596893",
     "status": "completed"
    },
    "tags": []
   },
   "outputs": [],
   "source": []
  },
  {
   "cell_type": "code",
   "execution_count": 20,
   "id": "2f97a1cc",
   "metadata": {
    "execution": {
     "iopub.execute_input": "2023-04-04T02:06:41.639502Z",
     "iopub.status.busy": "2023-04-04T02:06:41.638346Z",
     "iopub.status.idle": "2023-04-04T02:06:41.646025Z",
     "shell.execute_reply": "2023-04-04T02:06:41.645067Z"
    },
    "papermill": {
     "duration": 0.02578,
     "end_time": "2023-04-04T02:06:41.648792",
     "exception": false,
     "start_time": "2023-04-04T02:06:41.623012",
     "status": "completed"
    },
    "tags": []
   },
   "outputs": [],
   "source": [
    "x=model.get_score(importance_type='gain')\n",
    "\n",
    "#{k: v for k, v in sorted(x.items(), key=lambda item: item[1])}"
   ]
  },
  {
   "cell_type": "code",
   "execution_count": 21,
   "id": "1217fe6d",
   "metadata": {
    "execution": {
     "iopub.execute_input": "2023-04-04T02:06:41.677369Z",
     "iopub.status.busy": "2023-04-04T02:06:41.676521Z",
     "iopub.status.idle": "2023-04-04T02:06:41.950952Z",
     "shell.execute_reply": "2023-04-04T02:06:41.949492Z"
    },
    "papermill": {
     "duration": 0.292362,
     "end_time": "2023-04-04T02:06:41.954131",
     "exception": false,
     "start_time": "2023-04-04T02:06:41.661769",
     "status": "completed"
    },
    "tags": []
   },
   "outputs": [
    {
     "data": {
      "image/png": "[encoded data removed]",
      "text/plain": [
       "<Figure size 640x480 with 1 Axes>"
      ]
     },
     "metadata": {},
     "output_type": "display_data"
    }
   ],
   "source": [
    "plt.scatter(preds,y_test)\n",
    "plt.title(\"Predictions vs Actuals\")\n",
    "plt.xlabel(\"Predictions\")\n",
    "plt.ylabel(\"Actuals\")\n",
    "plt.show()"
   ]
  },
  {
   "cell_type": "code",
   "execution_count": null,
   "id": "b435dfc7",
   "metadata": {
    "papermill": {
     "duration": 0.013742,
     "end_time": "2023-04-04T02:06:41.982133",
     "exception": false,
     "start_time": "2023-04-04T02:06:41.968391",
     "status": "completed"
    },
    "tags": []
   },
   "outputs": [],
   "source": []
  },
  {
   "cell_type": "markdown",
   "id": "1520258e",
   "metadata": {
    "papermill": {
     "duration": 0.01496,
     "end_time": "2023-04-04T02:06:42.011483",
     "exception": false,
     "start_time": "2023-04-04T02:06:41.996523",
     "status": "completed"
    },
    "tags": []
   },
   "source": [
    "## Model improvements\n",
    "### Decision Tree based feature selection"
   ]
  },
  {
   "cell_type": "code",
   "execution_count": 22,
   "id": "1e3734cf",
   "metadata": {
    "execution": {
     "iopub.execute_input": "2023-04-04T02:06:42.042065Z",
     "iopub.status.busy": "2023-04-04T02:06:42.041605Z",
     "iopub.status.idle": "2023-04-04T02:06:42.072805Z",
     "shell.execute_reply": "2023-04-04T02:06:42.071835Z"
    },
    "papermill": {
     "duration": 0.049753,
     "end_time": "2023-04-04T02:06:42.075679",
     "exception": false,
     "start_time": "2023-04-04T02:06:42.025926",
     "status": "completed"
    },
    "tags": []
   },
   "outputs": [],
   "source": [
    "# Converting the categorical variables using dummy variable encoding\n",
    "object_cols={}\n",
    "for col_name in df_cat.columns:\n",
    "    pref = \"{}{}\".format(col_name[0:2], col_name[-2:])\n",
    "    new_col = pd.get_dummies(df_cat[col_name], prefix=pref) \n",
    "    object_cols[\"d_\" + pref] = new_col\n",
    "\n",
    "# create final dataframe using all the converted colomuns\n",
    "all_cat_df=pd.concat(object_cols.values(), axis=1)    "
   ]
  },
  {
   "cell_type": "code",
   "execution_count": 23,
   "id": "ee972edb",
   "metadata": {
    "execution": {
     "iopub.execute_input": "2023-04-04T02:06:42.106126Z",
     "iopub.status.busy": "2023-04-04T02:06:42.104884Z",
     "iopub.status.idle": "2023-04-04T02:06:42.128030Z",
     "shell.execute_reply": "2023-04-04T02:06:42.126795Z"
    },
    "papermill": {
     "duration": 0.04126,
     "end_time": "2023-04-04T02:06:42.130876",
     "exception": false,
     "start_time": "2023-04-04T02:06:42.089616",
     "status": "completed"
    },
    "tags": []
   },
   "outputs": [
    {
     "data": {
      "text/html": [
       "<div>\n",
       "<style scoped>\n",
       "    .dataframe tbody tr th:only-of-type {\n",
       "        vertical-align: middle;\n",
       "    }\n",
       "\n",
       "    .dataframe tbody tr th {\n",
       "        vertical-align: top;\n",
       "    }\n",
       "\n",
       "    .dataframe thead th {\n",
       "        text-align: right;\n",
       "    }\n",
       "</style>\n",
       "<table border=\"1\" class=\"dataframe\">\n",
       "  <thead>\n",
       "    <tr style=\"text-align: right;\">\n",
       "      <th></th>\n",
       "      <th>MSng_C (all)</th>\n",
       "      <th>MSng_FV</th>\n",
       "      <th>MSng_RH</th>\n",
       "      <th>MSng_RL</th>\n",
       "      <th>MSng_RM</th>\n",
       "      <th>Stet_Grvl</th>\n",
       "      <th>Stet_Pave</th>\n",
       "      <th>Lope_IR1</th>\n",
       "      <th>Lope_IR2</th>\n",
       "      <th>Lope_IR3</th>\n",
       "      <th>...</th>\n",
       "      <th>ScreenPorch</th>\n",
       "      <th>PoolArea</th>\n",
       "      <th>MoSold</th>\n",
       "      <th>MiscVal</th>\n",
       "      <th>BsmtFinSF2</th>\n",
       "      <th>BsmtHalfBath</th>\n",
       "      <th>MSSubClass</th>\n",
       "      <th>KitchenAbvGr</th>\n",
       "      <th>OverallCond</th>\n",
       "      <th>EnclosedPorch</th>\n",
       "    </tr>\n",
       "  </thead>\n",
       "  <tbody>\n",
       "    <tr>\n",
       "      <th>0</th>\n",
       "      <td>0</td>\n",
       "      <td>0</td>\n",
       "      <td>0</td>\n",
       "      <td>1</td>\n",
       "      <td>0</td>\n",
       "      <td>0</td>\n",
       "      <td>1</td>\n",
       "      <td>0</td>\n",
       "      <td>0</td>\n",
       "      <td>0</td>\n",
       "      <td>...</td>\n",
       "      <td>0</td>\n",
       "      <td>0</td>\n",
       "      <td>2</td>\n",
       "      <td>0</td>\n",
       "      <td>0</td>\n",
       "      <td>0</td>\n",
       "      <td>60</td>\n",
       "      <td>1</td>\n",
       "      <td>5</td>\n",
       "      <td>0</td>\n",
       "    </tr>\n",
       "    <tr>\n",
       "      <th>1</th>\n",
       "      <td>0</td>\n",
       "      <td>0</td>\n",
       "      <td>0</td>\n",
       "      <td>1</td>\n",
       "      <td>0</td>\n",
       "      <td>0</td>\n",
       "      <td>1</td>\n",
       "      <td>0</td>\n",
       "      <td>0</td>\n",
       "      <td>0</td>\n",
       "      <td>...</td>\n",
       "      <td>0</td>\n",
       "      <td>0</td>\n",
       "      <td>5</td>\n",
       "      <td>0</td>\n",
       "      <td>0</td>\n",
       "      <td>1</td>\n",
       "      <td>20</td>\n",
       "      <td>1</td>\n",
       "      <td>8</td>\n",
       "      <td>0</td>\n",
       "    </tr>\n",
       "    <tr>\n",
       "      <th>2</th>\n",
       "      <td>0</td>\n",
       "      <td>0</td>\n",
       "      <td>0</td>\n",
       "      <td>1</td>\n",
       "      <td>0</td>\n",
       "      <td>0</td>\n",
       "      <td>1</td>\n",
       "      <td>1</td>\n",
       "      <td>0</td>\n",
       "      <td>0</td>\n",
       "      <td>...</td>\n",
       "      <td>0</td>\n",
       "      <td>0</td>\n",
       "      <td>9</td>\n",
       "      <td>0</td>\n",
       "      <td>0</td>\n",
       "      <td>0</td>\n",
       "      <td>60</td>\n",
       "      <td>1</td>\n",
       "      <td>5</td>\n",
       "      <td>0</td>\n",
       "    </tr>\n",
       "  </tbody>\n",
       "</table>\n",
       "<p>3 rows × 236 columns</p>\n",
       "</div>"
      ],
      "text/plain": [
       "   MSng_C (all)  MSng_FV  MSng_RH  MSng_RL  MSng_RM  Stet_Grvl  Stet_Pave  \\\n",
       "0             0        0        0        1        0          0          1   \n",
       "1             0        0        0        1        0          0          1   \n",
       "2             0        0        0        1        0          0          1   \n",
       "\n",
       "   Lope_IR1  Lope_IR2  Lope_IR3  ...  ScreenPorch  PoolArea  MoSold  MiscVal  \\\n",
       "0         0         0         0  ...            0         0       2        0   \n",
       "1         0         0         0  ...            0         0       5        0   \n",
       "2         1         0         0  ...            0         0       9        0   \n",
       "\n",
       "   BsmtFinSF2  BsmtHalfBath  MSSubClass  KitchenAbvGr  OverallCond  \\\n",
       "0           0             0          60             1            5   \n",
       "1           0             1          20             1            8   \n",
       "2           0             0          60             1            5   \n",
       "\n",
       "   EnclosedPorch  \n",
       "0              0  \n",
       "1              0  \n",
       "2              0  \n",
       "\n",
       "[3 rows x 236 columns]"
      ]
     },
     "execution_count": 23,
     "metadata": {},
     "output_type": "execute_result"
    }
   ],
   "source": [
    "train_df_sel_feat = pd.concat([all_cat_df,\n",
    "                       df_cont],axis=1)\n",
    "\n",
    "train_df_sel_feat.head(3)\n"
   ]
  },
  {
   "cell_type": "code",
   "execution_count": 24,
   "id": "9f77d9d2",
   "metadata": {
    "execution": {
     "iopub.execute_input": "2023-04-04T02:06:42.162326Z",
     "iopub.status.busy": "2023-04-04T02:06:42.161403Z",
     "iopub.status.idle": "2023-04-04T02:06:42.171762Z",
     "shell.execute_reply": "2023-04-04T02:06:42.170283Z"
    },
    "papermill": {
     "duration": 0.029552,
     "end_time": "2023-04-04T02:06:42.174478",
     "exception": false,
     "start_time": "2023-04-04T02:06:42.144926",
     "status": "completed"
    },
    "tags": []
   },
   "outputs": [],
   "source": [
    "# Creating Training and Test data\n",
    "\n",
    "new_df = train_df_sel_feat.copy()\n",
    "Y_train_new=new_df['SalePrice'].values.ravel()\n",
    "X_train_new = new_df.drop(['SalePrice'],axis=1)"
   ]
  },
  {
   "cell_type": "code",
   "execution_count": 25,
   "id": "de46346a",
   "metadata": {
    "execution": {
     "iopub.execute_input": "2023-04-04T02:06:42.205732Z",
     "iopub.status.busy": "2023-04-04T02:06:42.204452Z",
     "iopub.status.idle": "2023-04-04T02:06:42.250419Z",
     "shell.execute_reply": "2023-04-04T02:06:42.249081Z"
    },
    "papermill": {
     "duration": 0.065513,
     "end_time": "2023-04-04T02:06:42.254123",
     "exception": false,
     "start_time": "2023-04-04T02:06:42.188610",
     "status": "completed"
    },
    "tags": []
   },
   "outputs": [],
   "source": [
    "model = DecisionTreeRegressor()\n",
    "# fit the model\n",
    "model.fit(X_train_new, Y_train_new)\n",
    "# get importance\n",
    "importance = model.feature_importances_\n",
    "# summarize feature importance\n",
    "impList = dict(zip(X_train_new.columns, importance))"
   ]
  },
  {
   "cell_type": "code",
   "execution_count": 26,
   "id": "b314e97e",
   "metadata": {
    "execution": {
     "iopub.execute_input": "2023-04-04T02:06:42.285669Z",
     "iopub.status.busy": "2023-04-04T02:06:42.284733Z",
     "iopub.status.idle": "2023-04-04T02:06:42.300132Z",
     "shell.execute_reply": "2023-04-04T02:06:42.298861Z"
    },
    "papermill": {
     "duration": 0.034154,
     "end_time": "2023-04-04T02:06:42.302869",
     "exception": false,
     "start_time": "2023-04-04T02:06:42.268715",
     "status": "completed"
    },
    "tags": []
   },
   "outputs": [
    {
     "data": {
      "text/html": [
       "<div>\n",
       "<style scoped>\n",
       "    .dataframe tbody tr th:only-of-type {\n",
       "        vertical-align: middle;\n",
       "    }\n",
       "\n",
       "    .dataframe tbody tr th {\n",
       "        vertical-align: top;\n",
       "    }\n",
       "\n",
       "    .dataframe thead th {\n",
       "        text-align: right;\n",
       "    }\n",
       "</style>\n",
       "<table border=\"1\" class=\"dataframe\">\n",
       "  <thead>\n",
       "    <tr style=\"text-align: right;\">\n",
       "      <th></th>\n",
       "      <th>Feature</th>\n",
       "      <th>import</th>\n",
       "    </tr>\n",
       "  </thead>\n",
       "  <tbody>\n",
       "    <tr>\n",
       "      <th>0</th>\n",
       "      <td>OverallQual</td>\n",
       "      <td>0.661326</td>\n",
       "    </tr>\n",
       "    <tr>\n",
       "      <th>1</th>\n",
       "      <td>2ndFlrSF</td>\n",
       "      <td>0.110051</td>\n",
       "    </tr>\n",
       "    <tr>\n",
       "      <th>2</th>\n",
       "      <td>TotalBsmtSF</td>\n",
       "      <td>0.051408</td>\n",
       "    </tr>\n",
       "  </tbody>\n",
       "</table>\n",
       "</div>"
      ],
      "text/plain": [
       "       Feature    import\n",
       "0  OverallQual  0.661326\n",
       "1     2ndFlrSF  0.110051\n",
       "2  TotalBsmtSF  0.051408"
      ]
     },
     "execution_count": 26,
     "metadata": {},
     "output_type": "execute_result"
    }
   ],
   "source": [
    "data= {'Feature': X_train_new.columns, \"import\" : importance } \n",
    "imp_data = pd.DataFrame(data)\n",
    "\n",
    "sel_feat_df_DT = imp_data.loc[imp_data['import']>0.000848].sort_values(by='import', ascending=False).reset_index(drop=True)\n",
    "sel_feat_df_DT.head(3)"
   ]
  },
  {
   "cell_type": "code",
   "execution_count": 27,
   "id": "9c594acc",
   "metadata": {
    "execution": {
     "iopub.execute_input": "2023-04-04T02:06:42.332939Z",
     "iopub.status.busy": "2023-04-04T02:06:42.332522Z",
     "iopub.status.idle": "2023-04-04T02:06:42.349480Z",
     "shell.execute_reply": "2023-04-04T02:06:42.348281Z"
    },
    "papermill": {
     "duration": 0.034799,
     "end_time": "2023-04-04T02:06:42.351763",
     "exception": false,
     "start_time": "2023-04-04T02:06:42.316964",
     "status": "completed"
    },
    "tags": []
   },
   "outputs": [
    {
     "data": {
      "text/html": [
       "<div>\n",
       "<style scoped>\n",
       "    .dataframe tbody tr th:only-of-type {\n",
       "        vertical-align: middle;\n",
       "    }\n",
       "\n",
       "    .dataframe tbody tr th {\n",
       "        vertical-align: top;\n",
       "    }\n",
       "\n",
       "    .dataframe thead th {\n",
       "        text-align: right;\n",
       "    }\n",
       "</style>\n",
       "<table border=\"1\" class=\"dataframe\">\n",
       "  <thead>\n",
       "    <tr style=\"text-align: right;\">\n",
       "      <th></th>\n",
       "      <th>Feature</th>\n",
       "      <th>import</th>\n",
       "    </tr>\n",
       "  </thead>\n",
       "  <tbody>\n",
       "    <tr>\n",
       "      <th>0</th>\n",
       "      <td>OverallQual</td>\n",
       "      <td>0.661326</td>\n",
       "    </tr>\n",
       "    <tr>\n",
       "      <th>1</th>\n",
       "      <td>2ndFlrSF</td>\n",
       "      <td>0.110051</td>\n",
       "    </tr>\n",
       "    <tr>\n",
       "      <th>2</th>\n",
       "      <td>TotalBsmtSF</td>\n",
       "      <td>0.051408</td>\n",
       "    </tr>\n",
       "    <tr>\n",
       "      <th>3</th>\n",
       "      <td>LotFrontage</td>\n",
       "      <td>0.022480</td>\n",
       "    </tr>\n",
       "    <tr>\n",
       "      <th>4</th>\n",
       "      <td>BsmtFinSF1</td>\n",
       "      <td>0.019799</td>\n",
       "    </tr>\n",
       "    <tr>\n",
       "      <th>5</th>\n",
       "      <td>BsmtUnfSF</td>\n",
       "      <td>0.012489</td>\n",
       "    </tr>\n",
       "    <tr>\n",
       "      <th>6</th>\n",
       "      <td>LotArea</td>\n",
       "      <td>0.011670</td>\n",
       "    </tr>\n",
       "    <tr>\n",
       "      <th>7</th>\n",
       "      <td>YearBuilt</td>\n",
       "      <td>0.007482</td>\n",
       "    </tr>\n",
       "    <tr>\n",
       "      <th>8</th>\n",
       "      <td>Mape_Stone</td>\n",
       "      <td>0.007209</td>\n",
       "    </tr>\n",
       "    <tr>\n",
       "      <th>9</th>\n",
       "      <td>ScreenPorch</td>\n",
       "      <td>0.006892</td>\n",
       "    </tr>\n",
       "    <tr>\n",
       "      <th>10</th>\n",
       "      <td>OpenPorchSF</td>\n",
       "      <td>0.006234</td>\n",
       "    </tr>\n",
       "    <tr>\n",
       "      <th>11</th>\n",
       "      <td>Gape_Attchd</td>\n",
       "      <td>0.005393</td>\n",
       "    </tr>\n",
       "    <tr>\n",
       "      <th>12</th>\n",
       "      <td>Saon_Partial</td>\n",
       "      <td>0.004530</td>\n",
       "    </tr>\n",
       "    <tr>\n",
       "      <th>13</th>\n",
       "      <td>Bsal_Gd</td>\n",
       "      <td>0.004074</td>\n",
       "    </tr>\n",
       "    <tr>\n",
       "      <th>14</th>\n",
       "      <td>HeQC_TA</td>\n",
       "      <td>0.003940</td>\n",
       "    </tr>\n",
       "    <tr>\n",
       "      <th>15</th>\n",
       "      <td>Loig_CulDSac</td>\n",
       "      <td>0.003759</td>\n",
       "    </tr>\n",
       "    <tr>\n",
       "      <th>16</th>\n",
       "      <td>Ceir_Y</td>\n",
       "      <td>0.003746</td>\n",
       "    </tr>\n",
       "    <tr>\n",
       "      <th>17</th>\n",
       "      <td>Gash_Fin</td>\n",
       "      <td>0.003601</td>\n",
       "    </tr>\n",
       "    <tr>\n",
       "      <th>18</th>\n",
       "      <td>WoodDeckSF</td>\n",
       "      <td>0.003122</td>\n",
       "    </tr>\n",
       "    <tr>\n",
       "      <th>19</th>\n",
       "      <td>Neod_NoRidge</td>\n",
       "      <td>0.003104</td>\n",
       "    </tr>\n",
       "    <tr>\n",
       "      <th>20</th>\n",
       "      <td>BedroomAbvGr</td>\n",
       "      <td>0.002834</td>\n",
       "    </tr>\n",
       "    <tr>\n",
       "      <th>21</th>\n",
       "      <td>Exst_VinylSd</td>\n",
       "      <td>0.002744</td>\n",
       "    </tr>\n",
       "    <tr>\n",
       "      <th>22</th>\n",
       "      <td>OverallCond</td>\n",
       "      <td>0.002459</td>\n",
       "    </tr>\n",
       "    <tr>\n",
       "      <th>23</th>\n",
       "      <td>EnclosedPorch</td>\n",
       "      <td>0.002426</td>\n",
       "    </tr>\n",
       "    <tr>\n",
       "      <th>24</th>\n",
       "      <td>MasVnrArea</td>\n",
       "      <td>0.002221</td>\n",
       "    </tr>\n",
       "    <tr>\n",
       "      <th>25</th>\n",
       "      <td>MiscVal</td>\n",
       "      <td>0.002167</td>\n",
       "    </tr>\n",
       "    <tr>\n",
       "      <th>26</th>\n",
       "      <td>Gash_RFn</td>\n",
       "      <td>0.001881</td>\n",
       "    </tr>\n",
       "    <tr>\n",
       "      <th>27</th>\n",
       "      <td>Exal_Gd</td>\n",
       "      <td>0.001866</td>\n",
       "    </tr>\n",
       "    <tr>\n",
       "      <th>28</th>\n",
       "      <td>FiQu_NA</td>\n",
       "      <td>0.001780</td>\n",
       "    </tr>\n",
       "    <tr>\n",
       "      <th>29</th>\n",
       "      <td>MoSold</td>\n",
       "      <td>0.001609</td>\n",
       "    </tr>\n",
       "    <tr>\n",
       "      <th>30</th>\n",
       "      <td>MSSubClass</td>\n",
       "      <td>0.001606</td>\n",
       "    </tr>\n",
       "    <tr>\n",
       "      <th>31</th>\n",
       "      <td>FiQu_Gd</td>\n",
       "      <td>0.001591</td>\n",
       "    </tr>\n",
       "    <tr>\n",
       "      <th>32</th>\n",
       "      <td>Bsnd_Gd</td>\n",
       "      <td>0.001385</td>\n",
       "    </tr>\n",
       "    <tr>\n",
       "      <th>33</th>\n",
       "      <td>Bsre_No</td>\n",
       "      <td>0.001339</td>\n",
       "    </tr>\n",
       "    <tr>\n",
       "      <th>34</th>\n",
       "      <td>Elal_SBrkr</td>\n",
       "      <td>0.001258</td>\n",
       "    </tr>\n",
       "    <tr>\n",
       "      <th>35</th>\n",
       "      <td>Loig_Corner</td>\n",
       "      <td>0.001094</td>\n",
       "    </tr>\n",
       "    <tr>\n",
       "      <th>36</th>\n",
       "      <td>MSng_C (all)</td>\n",
       "      <td>0.001071</td>\n",
       "    </tr>\n",
       "    <tr>\n",
       "      <th>37</th>\n",
       "      <td>MSng_RL</td>\n",
       "      <td>0.001011</td>\n",
       "    </tr>\n",
       "    <tr>\n",
       "      <th>38</th>\n",
       "      <td>MSng_RM</td>\n",
       "      <td>0.000967</td>\n",
       "    </tr>\n",
       "    <tr>\n",
       "      <th>39</th>\n",
       "      <td>Lope_IR1</td>\n",
       "      <td>0.000848</td>\n",
       "    </tr>\n",
       "  </tbody>\n",
       "</table>\n",
       "</div>"
      ],
      "text/plain": [
       "          Feature    import\n",
       "0     OverallQual  0.661326\n",
       "1        2ndFlrSF  0.110051\n",
       "2     TotalBsmtSF  0.051408\n",
       "3     LotFrontage  0.022480\n",
       "4      BsmtFinSF1  0.019799\n",
       "5       BsmtUnfSF  0.012489\n",
       "6         LotArea  0.011670\n",
       "7       YearBuilt  0.007482\n",
       "8      Mape_Stone  0.007209\n",
       "9     ScreenPorch  0.006892\n",
       "10    OpenPorchSF  0.006234\n",
       "11    Gape_Attchd  0.005393\n",
       "12   Saon_Partial  0.004530\n",
       "13        Bsal_Gd  0.004074\n",
       "14        HeQC_TA  0.003940\n",
       "15   Loig_CulDSac  0.003759\n",
       "16         Ceir_Y  0.003746\n",
       "17       Gash_Fin  0.003601\n",
       "18     WoodDeckSF  0.003122\n",
       "19   Neod_NoRidge  0.003104\n",
       "20   BedroomAbvGr  0.002834\n",
       "21   Exst_VinylSd  0.002744\n",
       "22    OverallCond  0.002459\n",
       "23  EnclosedPorch  0.002426\n",
       "24     MasVnrArea  0.002221\n",
       "25        MiscVal  0.002167\n",
       "26       Gash_RFn  0.001881\n",
       "27        Exal_Gd  0.001866\n",
       "28        FiQu_NA  0.001780\n",
       "29         MoSold  0.001609\n",
       "30     MSSubClass  0.001606\n",
       "31        FiQu_Gd  0.001591\n",
       "32        Bsnd_Gd  0.001385\n",
       "33        Bsre_No  0.001339\n",
       "34     Elal_SBrkr  0.001258\n",
       "35    Loig_Corner  0.001094\n",
       "36   MSng_C (all)  0.001071\n",
       "37        MSng_RL  0.001011\n",
       "38        MSng_RM  0.000967\n",
       "39       Lope_IR1  0.000848"
      ]
     },
     "execution_count": 27,
     "metadata": {},
     "output_type": "execute_result"
    }
   ],
   "source": [
    "sel_feat_df_DT.nlargest(40,'import')"
   ]
  },
  {
   "cell_type": "code",
   "execution_count": 28,
   "id": "27005988",
   "metadata": {
    "execution": {
     "iopub.execute_input": "2023-04-04T02:06:42.382956Z",
     "iopub.status.busy": "2023-04-04T02:06:42.382554Z",
     "iopub.status.idle": "2023-04-04T02:06:42.388912Z",
     "shell.execute_reply": "2023-04-04T02:06:42.387308Z"
    },
    "papermill": {
     "duration": 0.025279,
     "end_time": "2023-04-04T02:06:42.391538",
     "exception": false,
     "start_time": "2023-04-04T02:06:42.366259",
     "status": "completed"
    },
    "tags": []
   },
   "outputs": [],
   "source": [
    "# select different features from the training data based on the features selected by different feature selection methods\n",
    "def selelec_data(x_train,x_test, sel_df):\n",
    "    x_train_new = x_train[x_train.columns.intersection(sel_df['Feature'])]\n",
    "    x_test_new = x_test[x_test.columns.intersection(sel_df['Feature'])]\n",
    "\n",
    "    return x_train_new,x_test_new"
   ]
  },
  {
   "cell_type": "code",
   "execution_count": 29,
   "id": "ec7322b3",
   "metadata": {
    "execution": {
     "iopub.execute_input": "2023-04-04T02:06:42.422752Z",
     "iopub.status.busy": "2023-04-04T02:06:42.422332Z",
     "iopub.status.idle": "2023-04-04T02:06:42.431625Z",
     "shell.execute_reply": "2023-04-04T02:06:42.430295Z"
    },
    "papermill": {
     "duration": 0.028486,
     "end_time": "2023-04-04T02:06:42.434649",
     "exception": false,
     "start_time": "2023-04-04T02:06:42.406163",
     "status": "completed"
    },
    "tags": []
   },
   "outputs": [],
   "source": [
    "x_train_new,x_test_new = selelec_data(x_train,x_test, sel_feat_df_DT)"
   ]
  },
  {
   "cell_type": "code",
   "execution_count": 30,
   "id": "69472708",
   "metadata": {
    "execution": {
     "iopub.execute_input": "2023-04-04T02:06:42.466803Z",
     "iopub.status.busy": "2023-04-04T02:06:42.466357Z",
     "iopub.status.idle": "2023-04-04T02:06:42.486310Z",
     "shell.execute_reply": "2023-04-04T02:06:42.485274Z"
    },
    "papermill": {
     "duration": 0.03986,
     "end_time": "2023-04-04T02:06:42.489453",
     "exception": false,
     "start_time": "2023-04-04T02:06:42.449593",
     "status": "completed"
    },
    "tags": []
   },
   "outputs": [],
   "source": [
    "dtrain_reg_new = xgb.DMatrix(x_train_new, y_train, enable_categorical=True)\n",
    "dtest_reg_new = xgb.DMatrix(x_test_new, y_test, enable_categorical=True)"
   ]
  },
  {
   "cell_type": "code",
   "execution_count": 31,
   "id": "420dabe2",
   "metadata": {
    "execution": {
     "iopub.execute_input": "2023-04-04T02:06:42.522639Z",
     "iopub.status.busy": "2023-04-04T02:06:42.522216Z",
     "iopub.status.idle": "2023-04-04T02:06:46.877179Z",
     "shell.execute_reply": "2023-04-04T02:06:46.876078Z"
    },
    "papermill": {
     "duration": 4.373854,
     "end_time": "2023-04-04T02:06:46.880090",
     "exception": false,
     "start_time": "2023-04-04T02:06:42.506236",
     "status": "completed"
    },
    "tags": []
   },
   "outputs": [
    {
     "name": "stdout",
     "output_type": "stream",
     "text": [
      "[0]\tvalidation-rmse:152920.59953\ttrain-rmse:145810.89899\n",
      "[50]\tvalidation-rmse:32510.33642\ttrain-rmse:3724.68081\n",
      "[100]\tvalidation-rmse:32575.11132\ttrain-rmse:899.09111\n",
      "[150]\tvalidation-rmse:32575.60244\ttrain-rmse:254.72499\n",
      "[200]\tvalidation-rmse:32578.65891\ttrain-rmse:76.36436\n",
      "[250]\tvalidation-rmse:32580.19144\ttrain-rmse:21.25114\n",
      "[300]\tvalidation-rmse:32579.77335\ttrain-rmse:6.15988\n",
      "[350]\tvalidation-rmse:32579.74379\ttrain-rmse:1.92346\n",
      "[400]\tvalidation-rmse:32579.78180\ttrain-rmse:0.49319\n",
      "[450]\tvalidation-rmse:32579.76849\ttrain-rmse:0.14280\n",
      "[500]\tvalidation-rmse:32579.76577\ttrain-rmse:0.07023\n",
      "[550]\tvalidation-rmse:32579.76574\ttrain-rmse:0.05945\n",
      "[588]\tvalidation-rmse:32579.76574\ttrain-rmse:0.05950\n"
     ]
    }
   ],
   "source": [
    "n=5000\n",
    "evals_2 = [(dtest_reg_new, \"validation\"), (dtrain_reg_new, \"train\")]\n",
    "model_2 = xgb.train(\n",
    "   params=params,\n",
    "   dtrain=dtrain_reg_new,\n",
    "   num_boost_round=n,\n",
    "   evals=evals_2,\n",
    "    verbose_eval=50,\n",
    "   # Activate early stopping\n",
    "   early_stopping_rounds=50\n",
    ")"
   ]
  },
  {
   "cell_type": "code",
   "execution_count": 32,
   "id": "f3b9cbf8",
   "metadata": {
    "execution": {
     "iopub.execute_input": "2023-04-04T02:06:46.915375Z",
     "iopub.status.busy": "2023-04-04T02:06:46.914966Z",
     "iopub.status.idle": "2023-04-04T02:06:46.930673Z",
     "shell.execute_reply": "2023-04-04T02:06:46.929645Z"
    },
    "papermill": {
     "duration": 0.035304,
     "end_time": "2023-04-04T02:06:46.933455",
     "exception": false,
     "start_time": "2023-04-04T02:06:46.898151",
     "status": "completed"
    },
    "tags": []
   },
   "outputs": [
    {
     "name": "stdout",
     "output_type": "stream",
     "text": [
      "RMSE of the base model: 33868.385\n"
     ]
    }
   ],
   "source": [
    "preds_2 = model_2.predict(dtest_reg_new)\n",
    "rmse_2 = mean_squared_error(y_test, preds_2, squared=False)\n",
    "print(f\"RMSE of the base model: {rmse:.3f}\")"
   ]
  },
  {
   "cell_type": "code",
   "execution_count": 33,
   "id": "26e9bea3",
   "metadata": {
    "execution": {
     "iopub.execute_input": "2023-04-04T02:06:46.967360Z",
     "iopub.status.busy": "2023-04-04T02:06:46.966953Z",
     "iopub.status.idle": "2023-04-04T02:06:47.220976Z",
     "shell.execute_reply": "2023-04-04T02:06:47.219706Z"
    },
    "papermill": {
     "duration": 0.273713,
     "end_time": "2023-04-04T02:06:47.223888",
     "exception": false,
     "start_time": "2023-04-04T02:06:46.950175",
     "status": "completed"
    },
    "tags": []
   },
   "outputs": [
    {
     "data": {
      "image/png": "[encoded data removed]",
      "text/plain": [
       "<Figure size 640x480 with 1 Axes>"
      ]
     },
     "metadata": {},
     "output_type": "display_data"
    }
   ],
   "source": [
    "plt.scatter(preds_2,y_test)\n",
    "plt.title(\"Predictions vs Actuals\")\n",
    "plt.xlabel(\"Predictions\")\n",
    "plt.ylabel(\"Actuals\")\n",
    "plt.show()"
   ]
  },
  {
   "cell_type": "markdown",
   "id": "8307de6f",
   "metadata": {
    "papermill": {
     "duration": 0.015732,
     "end_time": "2023-04-04T02:06:47.256040",
     "exception": false,
     "start_time": "2023-04-04T02:06:47.240308",
     "status": "completed"
    },
    "tags": []
   },
   "source": [
    "### Mutual info regression"
   ]
  },
  {
   "cell_type": "code",
   "execution_count": 34,
   "id": "d2ef11c9",
   "metadata": {
    "execution": {
     "iopub.execute_input": "2023-04-04T02:06:47.291784Z",
     "iopub.status.busy": "2023-04-04T02:06:47.291378Z",
     "iopub.status.idle": "2023-04-04T02:06:49.047627Z",
     "shell.execute_reply": "2023-04-04T02:06:49.046094Z"
    },
    "papermill": {
     "duration": 1.777016,
     "end_time": "2023-04-04T02:06:49.050371",
     "exception": false,
     "start_time": "2023-04-04T02:06:47.273355",
     "status": "completed"
    },
    "tags": []
   },
   "outputs": [
    {
     "name": "stdout",
     "output_type": "stream",
     "text": [
      "Index(['MSng_RL', 'MSng_RM', 'Lope_IR1', 'Lope_Reg', 'Neod_NAmes',\n",
      "       'Neod_NridgHt', 'Hole_2Story', 'Exst_VinylSd', 'Mape_None', 'Exal_Ex',\n",
      "       'Exal_Gd', 'Exal_TA', 'Foon_CBlock', 'Foon_PConc', 'Bsal_Ex', 'Bsal_Gd',\n",
      "       'Bsal_TA', 'Bsre_No', 'Bse1_GLQ', 'HeQC_Ex', 'HeQC_TA', 'Ceir_Y',\n",
      "       'Kial_Ex', 'Kial_Gd', 'Kial_TA', 'FiQu_Gd', 'FiQu_NA', 'Gape_Attchd',\n",
      "       'Gape_Detchd', 'Gash_Fin', 'Gash_RFn', 'Gash_Unf', 'Sape_New',\n",
      "       'Sape_WD', 'Saon_Partial', 'OverallQual', 'TotalBsmtSF', 'YearBuilt',\n",
      "       'MasVnrArea', 'Fireplaces', 'BsmtFinSF1', 'LotFrontage', 'OpenPorchSF',\n",
      "       'WoodDeckSF', '2ndFlrSF', 'LotArea', 'BsmtUnfSF', 'BedroomAbvGr',\n",
      "       'MSSubClass', 'OverallCond'],\n",
      "      dtype='object')\n"
     ]
    }
   ],
   "source": [
    "df = train_df_sel_feat.copy()\n",
    "\n",
    "Y_train=df['SalePrice'].values.ravel()\n",
    "X_train = df.drop(['SalePrice'],axis=1)\n",
    "\n",
    "\n",
    "selector = SelectKBest(mutual_info_regression, k=50)\n",
    "X_train_new = selector.fit_transform(X_train, Y_train) \n",
    "\n",
    "#to get names of the selected features\n",
    "mask = selector.get_support()     \n",
    "   \n",
    "\n",
    "new_features = X_train.columns[mask]\n",
    "print(new_features)  "
   ]
  },
  {
   "cell_type": "code",
   "execution_count": 35,
   "id": "83b58be7",
   "metadata": {
    "execution": {
     "iopub.execute_input": "2023-04-04T02:06:49.084665Z",
     "iopub.status.busy": "2023-04-04T02:06:49.083419Z",
     "iopub.status.idle": "2023-04-04T02:06:49.098282Z",
     "shell.execute_reply": "2023-04-04T02:06:49.096759Z"
    },
    "papermill": {
     "duration": 0.034772,
     "end_time": "2023-04-04T02:06:49.100917",
     "exception": false,
     "start_time": "2023-04-04T02:06:49.066145",
     "status": "completed"
    },
    "tags": []
   },
   "outputs": [
    {
     "data": {
      "text/html": [
       "<div>\n",
       "<style scoped>\n",
       "    .dataframe tbody tr th:only-of-type {\n",
       "        vertical-align: middle;\n",
       "    }\n",
       "\n",
       "    .dataframe tbody tr th {\n",
       "        vertical-align: top;\n",
       "    }\n",
       "\n",
       "    .dataframe thead th {\n",
       "        text-align: right;\n",
       "    }\n",
       "</style>\n",
       "<table border=\"1\" class=\"dataframe\">\n",
       "  <thead>\n",
       "    <tr style=\"text-align: right;\">\n",
       "      <th></th>\n",
       "      <th>Feature</th>\n",
       "      <th>Score</th>\n",
       "    </tr>\n",
       "  </thead>\n",
       "  <tbody>\n",
       "    <tr>\n",
       "      <th>212</th>\n",
       "      <td>OverallQual</td>\n",
       "      <td>0.593783</td>\n",
       "    </tr>\n",
       "    <tr>\n",
       "      <th>214</th>\n",
       "      <td>YearBuilt</td>\n",
       "      <td>0.401321</td>\n",
       "    </tr>\n",
       "    <tr>\n",
       "      <th>213</th>\n",
       "      <td>TotalBsmtSF</td>\n",
       "      <td>0.389665</td>\n",
       "    </tr>\n",
       "  </tbody>\n",
       "</table>\n",
       "</div>"
      ],
      "text/plain": [
       "         Feature     Score\n",
       "212  OverallQual  0.593783\n",
       "214    YearBuilt  0.401321\n",
       "213  TotalBsmtSF  0.389665"
      ]
     },
     "execution_count": 35,
     "metadata": {},
     "output_type": "execute_result"
    }
   ],
   "source": [
    "data={'Feature': X_train.columns.to_list(), 'Score' : selector.scores_}\n",
    "sel_data=pd.DataFrame(data)\n",
    "sel_feat_df_MIR =sel_data.sort_values(by = 'Score', ascending=False).head(50)\n",
    "sel_feat_df_MIR.head(3)"
   ]
  },
  {
   "cell_type": "code",
   "execution_count": 36,
   "id": "7add0616",
   "metadata": {
    "execution": {
     "iopub.execute_input": "2023-04-04T02:06:49.135626Z",
     "iopub.status.busy": "2023-04-04T02:06:49.134561Z",
     "iopub.status.idle": "2023-04-04T02:06:49.143136Z",
     "shell.execute_reply": "2023-04-04T02:06:49.141798Z"
    },
    "papermill": {
     "duration": 0.028955,
     "end_time": "2023-04-04T02:06:49.146025",
     "exception": false,
     "start_time": "2023-04-04T02:06:49.117070",
     "status": "completed"
    },
    "tags": []
   },
   "outputs": [],
   "source": [
    "x_train_new,x_test_new = selelec_data(x_train,x_test, sel_feat_df_MIR)"
   ]
  },
  {
   "cell_type": "code",
   "execution_count": 37,
   "id": "4304846d",
   "metadata": {
    "execution": {
     "iopub.execute_input": "2023-04-04T02:06:49.180411Z",
     "iopub.status.busy": "2023-04-04T02:06:49.179963Z",
     "iopub.status.idle": "2023-04-04T02:06:49.196729Z",
     "shell.execute_reply": "2023-04-04T02:06:49.195678Z"
    },
    "papermill": {
     "duration": 0.037719,
     "end_time": "2023-04-04T02:06:49.199891",
     "exception": false,
     "start_time": "2023-04-04T02:06:49.162172",
     "status": "completed"
    },
    "tags": []
   },
   "outputs": [],
   "source": [
    "dtrain_reg_new = xgb.DMatrix(x_train_new, y_train, enable_categorical=True)\n",
    "dtest_reg_new = xgb.DMatrix(x_test_new, y_test, enable_categorical=True)"
   ]
  },
  {
   "cell_type": "code",
   "execution_count": 38,
   "id": "7448f19d",
   "metadata": {
    "execution": {
     "iopub.execute_input": "2023-04-04T02:06:49.235930Z",
     "iopub.status.busy": "2023-04-04T02:06:49.235530Z",
     "iopub.status.idle": "2023-04-04T02:06:53.298505Z",
     "shell.execute_reply": "2023-04-04T02:06:53.297450Z"
    },
    "papermill": {
     "duration": 4.083365,
     "end_time": "2023-04-04T02:06:53.301257",
     "exception": false,
     "start_time": "2023-04-04T02:06:49.217892",
     "status": "completed"
    },
    "tags": []
   },
   "outputs": [
    {
     "name": "stdout",
     "output_type": "stream",
     "text": [
      "[0]\tvalidation-rmse:152920.59953\ttrain-rmse:145810.89899\n",
      "[50]\tvalidation-rmse:33869.69736\ttrain-rmse:3162.88644\n",
      "[100]\tvalidation-rmse:33935.23204\ttrain-rmse:674.15547\n",
      "[150]\tvalidation-rmse:33952.44547\ttrain-rmse:195.39704\n",
      "[200]\tvalidation-rmse:33955.77804\ttrain-rmse:51.86939\n",
      "[250]\tvalidation-rmse:33956.53678\ttrain-rmse:14.04699\n",
      "[300]\tvalidation-rmse:33957.25777\ttrain-rmse:4.80969\n",
      "[350]\tvalidation-rmse:33957.33360\ttrain-rmse:1.28612\n",
      "[400]\tvalidation-rmse:33957.36690\ttrain-rmse:0.42139\n",
      "[450]\tvalidation-rmse:33957.36264\ttrain-rmse:0.11979\n",
      "[500]\tvalidation-rmse:33957.36283\ttrain-rmse:0.07347\n",
      "[550]\tvalidation-rmse:33957.36288\ttrain-rmse:0.07321\n",
      "[559]\tvalidation-rmse:33957.36288\ttrain-rmse:0.07321\n"
     ]
    }
   ],
   "source": [
    "n=5000\n",
    "evals_2 = [(dtest_reg_new, \"validation\"), (dtrain_reg_new, \"train\")]\n",
    "model_2 = xgb.train(\n",
    "   params=params,\n",
    "   dtrain=dtrain_reg_new,\n",
    "   num_boost_round=n,\n",
    "   evals=evals_2,\n",
    "    verbose_eval=50,\n",
    "   # Activate early stopping\n",
    "   early_stopping_rounds=50\n",
    ")"
   ]
  },
  {
   "cell_type": "code",
   "execution_count": 39,
   "id": "73bf0d5a",
   "metadata": {
    "execution": {
     "iopub.execute_input": "2023-04-04T02:06:53.338930Z",
     "iopub.status.busy": "2023-04-04T02:06:53.337871Z",
     "iopub.status.idle": "2023-04-04T02:06:53.568621Z",
     "shell.execute_reply": "2023-04-04T02:06:53.567630Z"
    },
    "papermill": {
     "duration": 0.251528,
     "end_time": "2023-04-04T02:06:53.571059",
     "exception": false,
     "start_time": "2023-04-04T02:06:53.319531",
     "status": "completed"
    },
    "tags": []
   },
   "outputs": [
    {
     "data": {
      "image/png": "[encoded data removed]",
      "text/plain": [
       "<Figure size 640x480 with 1 Axes>"
      ]
     },
     "metadata": {},
     "output_type": "display_data"
    }
   ],
   "source": [
    "plt.scatter(preds_2,y_test)\n",
    "plt.title(\"Predictions vs Actuals\")\n",
    "plt.xlabel(\"Predictions\")\n",
    "plt.ylabel(\"Actuals\")\n",
    "plt.show()"
   ]
  },
  {
   "cell_type": "code",
   "execution_count": null,
   "id": "cbf3dc74",
   "metadata": {
    "papermill": {
     "duration": 0.017697,
     "end_time": "2023-04-04T02:06:53.606759",
     "exception": false,
     "start_time": "2023-04-04T02:06:53.589062",
     "status": "completed"
    },
    "tags": []
   },
   "outputs": [],
   "source": []
  }
 ],
 "metadata": {
  "kernelspec": {
   "display_name": "Python 3",
   "language": "python",
   "name": "python3"
  },
  "language_info": {
   "codemirror_mode": {
    "name": "ipython",
    "version": 3
   },
   "file_extension": ".py",
   "mimetype": "text/x-python",
   "name": "python",
   "nbconvert_exporter": "python",
   "pygments_lexer": "ipython3",
   "version": "3.7.12"
  },
  "papermill": {
   "default_parameters": {},
   "duration": 38.492984,
   "end_time": "2023-04-04T02:06:54.447317",
   "environment_variables": {},
   "exception": null,
   "input_path": "__notebook__.ipynb",
   "output_path": "__notebook__.ipynb",
   "parameters": {},
   "start_time": "2023-04-04T02:06:15.954333",
   "version": "2.4.0"
  }
 },
 "nbformat": 4,
 "nbformat_minor": 5
}
